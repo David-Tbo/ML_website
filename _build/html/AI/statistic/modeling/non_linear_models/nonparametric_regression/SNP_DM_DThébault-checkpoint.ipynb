{
 "cells": [
  {
   "cell_type": "markdown",
   "metadata": {},
   "source": [
    "# Université Paris-Dauphine\n",
    "\n",
    "## Executive Master Statistique et Big Data: Année 2020-2021\n",
    "\n",
    "## Régression non-paramétrique - Cours enseigné par Céline Duval\n",
    "\n",
    "### Devoir Maison rédigé par David Thébault\n"
   ]
  },
  {
   "cell_type": "markdown",
   "metadata": {},
   "source": [
    "### Cadre\n",
    "\n",
    "On dispose de données $(Xi, Yi)_{1 \\leq i \\leq 5000} $,  où les $X_i$ et les $Y_i$ sont des réalisations de variables\n",
    "aléatoires réelles admettant la représentation\n",
    "\n",
    "$ Y_i = r(X_i) + \\sigma(X_i)*\\xi_i  $ avec $ 1 \\leq i \\leq 5000 $\n",
    "\n",
    "- Les $\\xi_i$ sont indépendantes et identiquement distribuées, avec $E[\\xi_1] = 0 $, et $E[\\xi_1^2] = 1$, et ont une densité $\\mu$.\n",
    "\n",
    "- La fonction $x \\mapsto \\sigma(x)$ est strictement positive. Si $\\sigma$ est constante on parle d'un modèle\n",
    "homoscédastique, sinon le modèle est dit hétéroscédastique.\n",
    "\n",
    "- Les $X_i$ sont indépendantes et identiquement distribuées de densité $g : [1; 6] \\mapsto \\mathbb{R}_+$, et\n",
    "indépendantes des $\\xi_i$.\n",
    "\n",
    "- La fonction $r : \\mathbb{R} \\mapsto\\mathbb{R}$, vérifie $|r(x)| \\leq 2$ pour tout $x \\in [1; 6]$."
   ]
  },
  {
   "cell_type": "markdown",
   "metadata": {},
   "source": [
    "On dispose de deux jeux de données, Data1 et Data2, dont la première colonne correspond\n",
    "aux $X_i$ et la seconde colonne correspond aux $Y_i$.\n",
    "\n",
    "- Data1: Dans ce jeu de données la variance des erreurs ne dépend pas de $X$ (modèle homoscédastique).\n",
    "\n",
    "- Data2 : Les différences avec les donnees Data1 sont la loi $\\mu$ des erreurs $\\xi$ et le fait que\n",
    "$\\sigma$ est non constante (modèle hétéroscédastique).\n",
    "\n",
    "\n",
    "On a les mêmes valeurs pour les $X_i$ et la même fonction de régression r dans Data1 et Data2."
   ]
  },
  {
   "cell_type": "markdown",
   "metadata": {},
   "source": [
    "### Objectifs\n",
    "\n",
    "Les objectifs des 3 parties qui suivent sont :\n",
    "1. Reconstruire $x \\mapsto g(x)$ graphiquement et étudier si $g$ est la densité uniforme ou non.\n",
    "2. Reconstruire $x \\mapsto r(x)$ graphiquement.\n",
    "3. Explorer les propriétés de $x \\mapsto \\mu(x)$ et $x \\mapsto \\sigma(x)$."
   ]
  },
  {
   "cell_type": "markdown",
   "metadata": {},
   "source": [
    "### 1. Etude de la densité g des X\n",
    "\n",
    "Pour cette partie on utilisera la première colonne des données __Data1__.\n",
    "\n",
    "1.1. Construire un estimateur à noyau $\\widehat{g_{n,h}(x)}$ de $g(x)$ pour une fenêtre de lissage $h > 0$ donnée et représenter graphiquement $x \\mapsto \\widehat{g_{n,h}(x)}$ pour différentes valeurs de h que vous choisirez. On discutera la raison pour laquelle ce choix est important."
   ]
  },
  {
   "cell_type": "code",
   "execution_count": 1,
   "metadata": {},
   "outputs": [],
   "source": [
    "# import des librairies\n",
    "\n",
    "from IPython.core.interactiveshell import InteractiveShell\n",
    "InteractiveShell.ast_node_interactivity = \"all\"\n",
    "\n",
    "from math import *\n",
    "\n",
    "import pandas as pd # gestion de données de type DataFrame\n",
    "\n",
    "import numpy as np # gestion des tableaux et opérations d'algèbre linéaire de base\n",
    "\n",
    "import matplotlib.pyplot as plt # graphes\n",
    "\n",
    "import matplotlib as mpl # statistics et visualisation\n",
    "\n",
    "import os.path # gestion des path\n",
    "\n",
    "import scipy.stats as st # librairie de calcul scientifique basée sur numpy, import du package statistiques\n",
    "\n",
    "from scipy.stats import expon\n",
    "\n",
    "# Deux fonctions (au moins) permettent de faire de l'estimation à noyau sous Python\n",
    "# La première KDEUnivarite\n",
    "from statsmodels.nonparametric.kde import KDEUnivariate \n",
    "from statsmodels.nonparametric.kernel_regression import KernelReg # NW et Polynome locaux p=0\n",
    "import statsmodels.nonparametric.bandwidths\n",
    "# La seconde KernelDensity\n",
    "from sklearn.neighbors import KernelDensity\n",
    "from sklearn.model_selection import GridSearchCV\n",
    "#from sklearn_extensions.kernel_regression import KernelRegression"
   ]
  },
  {
   "cell_type": "code",
   "execution_count": 2,
   "metadata": {},
   "outputs": [],
   "source": [
    "# Nous allons commencer par charger les données Data1.csv et Data2.csv\n",
    "\n",
    "path_work_win = r'C:\\Users\\admin\\OneDrive\\Documents\\Data_Science\\10_Régression_non_paramétrique'\n",
    "path_win_Data1 = os.path.join(path_work_win, 'Data1.csv')\n",
    "path_win_Data2 = os.path.join(path_work_win, 'Data2.csv')\n",
    "\n",
    "path_win_Data1 = path_win_Data1.replace(\"\\\\\",\"/\")\n",
    "path_win_Data1 = path_win_Data1.replace(\"\\\\\",\"/\")\n",
    "\n",
    "if os.path.isfile(path_win_Data1):\n",
    "\n",
    "    Data1 = pd.read_csv(path_win_Data1)\n",
    "\n",
    "else:\n",
    "\n",
    "    print(\"absence du fichier: \",path_win_Data1)\n",
    "\n",
    "if os.path.isfile(path_win_Data2):\n",
    "\n",
    "    Data2 = pd.read_csv(path_win_Data2)\n",
    "\n",
    "else:\n",
    "\n",
    "    print(\"absence du fichier: \",path_win_Data2)\n"
   ]
  },
  {
   "cell_type": "code",
   "execution_count": 3,
   "metadata": {},
   "outputs": [
    {
     "data": {
      "text/html": [
       "<div>\n",
       "<style scoped>\n",
       "    .dataframe tbody tr th:only-of-type {\n",
       "        vertical-align: middle;\n",
       "    }\n",
       "\n",
       "    .dataframe tbody tr th {\n",
       "        vertical-align: top;\n",
       "    }\n",
       "\n",
       "    .dataframe thead th {\n",
       "        text-align: right;\n",
       "    }\n",
       "</style>\n",
       "<table border=\"1\" class=\"dataframe\">\n",
       "  <thead>\n",
       "    <tr style=\"text-align: right;\">\n",
       "      <th></th>\n",
       "      <th>Unnamed: 0</th>\n",
       "      <th>X</th>\n",
       "      <th>Y1</th>\n",
       "    </tr>\n",
       "  </thead>\n",
       "  <tbody>\n",
       "    <tr>\n",
       "      <th>0</th>\n",
       "      <td>1</td>\n",
       "      <td>1.034366</td>\n",
       "      <td>1.035967</td>\n",
       "    </tr>\n",
       "    <tr>\n",
       "      <th>1</th>\n",
       "      <td>2</td>\n",
       "      <td>3.643734</td>\n",
       "      <td>1.368706</td>\n",
       "    </tr>\n",
       "    <tr>\n",
       "      <th>2</th>\n",
       "      <td>3</td>\n",
       "      <td>5.701457</td>\n",
       "      <td>1.030205</td>\n",
       "    </tr>\n",
       "    <tr>\n",
       "      <th>3</th>\n",
       "      <td>4</td>\n",
       "      <td>5.420473</td>\n",
       "      <td>1.309923</td>\n",
       "    </tr>\n",
       "    <tr>\n",
       "      <th>4</th>\n",
       "      <td>5</td>\n",
       "      <td>1.009888</td>\n",
       "      <td>1.065813</td>\n",
       "    </tr>\n",
       "    <tr>\n",
       "      <th>...</th>\n",
       "      <td>...</td>\n",
       "      <td>...</td>\n",
       "      <td>...</td>\n",
       "    </tr>\n",
       "    <tr>\n",
       "      <th>4995</th>\n",
       "      <td>4996</td>\n",
       "      <td>3.136566</td>\n",
       "      <td>1.069458</td>\n",
       "    </tr>\n",
       "    <tr>\n",
       "      <th>4996</th>\n",
       "      <td>4997</td>\n",
       "      <td>5.451821</td>\n",
       "      <td>0.792698</td>\n",
       "    </tr>\n",
       "    <tr>\n",
       "      <th>4997</th>\n",
       "      <td>4998</td>\n",
       "      <td>5.716820</td>\n",
       "      <td>0.640827</td>\n",
       "    </tr>\n",
       "    <tr>\n",
       "      <th>4998</th>\n",
       "      <td>4999</td>\n",
       "      <td>1.054115</td>\n",
       "      <td>1.395199</td>\n",
       "    </tr>\n",
       "    <tr>\n",
       "      <th>4999</th>\n",
       "      <td>5000</td>\n",
       "      <td>2.798852</td>\n",
       "      <td>1.634857</td>\n",
       "    </tr>\n",
       "  </tbody>\n",
       "</table>\n",
       "<p>5000 rows × 3 columns</p>\n",
       "</div>"
      ],
      "text/plain": [
       "      Unnamed: 0         X        Y1\n",
       "0              1  1.034366  1.035967\n",
       "1              2  3.643734  1.368706\n",
       "2              3  5.701457  1.030205\n",
       "3              4  5.420473  1.309923\n",
       "4              5  1.009888  1.065813\n",
       "...          ...       ...       ...\n",
       "4995        4996  3.136566  1.069458\n",
       "4996        4997  5.451821  0.792698\n",
       "4997        4998  5.716820  0.640827\n",
       "4998        4999  1.054115  1.395199\n",
       "4999        5000  2.798852  1.634857\n",
       "\n",
       "[5000 rows x 3 columns]"
      ]
     },
     "execution_count": 3,
     "metadata": {},
     "output_type": "execute_result"
    }
   ],
   "source": [
    "Data1"
   ]
  },
  {
   "cell_type": "code",
   "execution_count": 4,
   "metadata": {},
   "outputs": [
    {
     "data": {
      "text/plain": [
       "pandas.core.frame.DataFrame"
      ]
     },
     "execution_count": 4,
     "metadata": {},
     "output_type": "execute_result"
    }
   ],
   "source": [
    "type(Data1)"
   ]
  },
  {
   "cell_type": "code",
   "execution_count": 5,
   "metadata": {},
   "outputs": [
    {
     "data": {
      "text/plain": [
       "(5000, 3)"
      ]
     },
     "execution_count": 5,
     "metadata": {},
     "output_type": "execute_result"
    }
   ],
   "source": [
    "Data1.shape"
   ]
  },
  {
   "cell_type": "markdown",
   "metadata": {},
   "source": [
    "Résumé statistique des $X_i$, $Y_i$ des deux jeux de données Data1 et Data2"
   ]
  },
  {
   "cell_type": "code",
   "execution_count": 6,
   "metadata": {},
   "outputs": [
    {
     "data": {
      "text/html": [
       "<div>\n",
       "<style scoped>\n",
       "    .dataframe tbody tr th:only-of-type {\n",
       "        vertical-align: middle;\n",
       "    }\n",
       "\n",
       "    .dataframe tbody tr th {\n",
       "        vertical-align: top;\n",
       "    }\n",
       "\n",
       "    .dataframe thead th {\n",
       "        text-align: right;\n",
       "    }\n",
       "</style>\n",
       "<table border=\"1\" class=\"dataframe\">\n",
       "  <thead>\n",
       "    <tr style=\"text-align: right;\">\n",
       "      <th></th>\n",
       "      <th>Unnamed: 0</th>\n",
       "      <th>X</th>\n",
       "      <th>Y1</th>\n",
       "    </tr>\n",
       "  </thead>\n",
       "  <tbody>\n",
       "    <tr>\n",
       "      <th>count</th>\n",
       "      <td>5000.000000</td>\n",
       "      <td>5000.000000</td>\n",
       "      <td>5000.000000</td>\n",
       "    </tr>\n",
       "    <tr>\n",
       "      <th>mean</th>\n",
       "      <td>2500.500000</td>\n",
       "      <td>3.527486</td>\n",
       "      <td>1.235370</td>\n",
       "    </tr>\n",
       "    <tr>\n",
       "      <th>std</th>\n",
       "      <td>1443.520003</td>\n",
       "      <td>1.839532</td>\n",
       "      <td>0.585506</td>\n",
       "    </tr>\n",
       "    <tr>\n",
       "      <th>min</th>\n",
       "      <td>1.000000</td>\n",
       "      <td>1.000000</td>\n",
       "      <td>-4.952235</td>\n",
       "    </tr>\n",
       "    <tr>\n",
       "      <th>25%</th>\n",
       "      <td>1250.750000</td>\n",
       "      <td>1.617688</td>\n",
       "      <td>0.833701</td>\n",
       "    </tr>\n",
       "    <tr>\n",
       "      <th>50%</th>\n",
       "      <td>2500.500000</td>\n",
       "      <td>3.576746</td>\n",
       "      <td>1.175970</td>\n",
       "    </tr>\n",
       "    <tr>\n",
       "      <th>75%</th>\n",
       "      <td>3750.250000</td>\n",
       "      <td>5.418334</td>\n",
       "      <td>1.536368</td>\n",
       "    </tr>\n",
       "    <tr>\n",
       "      <th>max</th>\n",
       "      <td>5000.000000</td>\n",
       "      <td>6.000000</td>\n",
       "      <td>10.325009</td>\n",
       "    </tr>\n",
       "  </tbody>\n",
       "</table>\n",
       "</div>"
      ],
      "text/plain": [
       "        Unnamed: 0            X           Y1\n",
       "count  5000.000000  5000.000000  5000.000000\n",
       "mean   2500.500000     3.527486     1.235370\n",
       "std    1443.520003     1.839532     0.585506\n",
       "min       1.000000     1.000000    -4.952235\n",
       "25%    1250.750000     1.617688     0.833701\n",
       "50%    2500.500000     3.576746     1.175970\n",
       "75%    3750.250000     5.418334     1.536368\n",
       "max    5000.000000     6.000000    10.325009"
      ]
     },
     "execution_count": 6,
     "metadata": {},
     "output_type": "execute_result"
    }
   ],
   "source": [
    "Data1.describe()"
   ]
  },
  {
   "cell_type": "markdown",
   "metadata": {},
   "source": [
    "Représentons graphiquemenent, par un histogramme, la variable X."
   ]
  },
  {
   "cell_type": "code",
   "execution_count": 7,
   "metadata": {},
   "outputs": [
    {
     "data": {
      "text/plain": [
       "<matplotlib.axes._subplots.AxesSubplot at 0x1bc53614040>"
      ]
     },
     "execution_count": 7,
     "metadata": {},
     "output_type": "execute_result"
    },
    {
     "data": {
      "image/png": "[encoded data removed]",
      "text/plain": [
       "<Figure size 432x288 with 1 Axes>"
      ]
     },
     "metadata": {
      "needs_background": "light"
     },
     "output_type": "display_data"
    }
   ],
   "source": [
    "Data1.X.plot(kind = \"hist\")"
   ]
  },
  {
   "cell_type": "code",
   "execution_count": 8,
   "metadata": {},
   "outputs": [],
   "source": [
    "hist(X, probability = T)"
   ]
  },
  {
   "cell_type": "markdown",
   "metadata": {},
   "source": [
    "La distribution de $X$ est bimodale. La variable $X$ ne suit pas la loi normale."
   ]
  },
  {
   "cell_type": "markdown",
   "metadata": {},
   "source": [
    "## 1. Etude de la densité g des X"
   ]
  },
  {
   "cell_type": "markdown",
   "metadata": {},
   "source": [
    "_Pour cette partie on utilisera la première colonne des données_ __Data1__.\n",
    "\n",
    "__1.1.__ Construire un estimateur à noyau $\\widehat{g_{n,h}(x)}$ de $g(x)$ pour une fenêtre de lissage $h > 0$ donnée et représenter graphiquement $x \\mapsto \\widehat{g_{n,h}(x)}$ pour différentes valeurs de h que vous choisirez. On discutera la raison pour laquelle ce choix est important."
   ]
  },
  {
   "cell_type": "markdown",
   "metadata": {},
   "source": [
    "Pour construire un estimateur à noyau $\\widehat{g_{n,h}(x)}$ de $g(x)$ pour une fenêtre de lissage $h > 0$ donnée nous reprenons la fonction vue en cours qui utilise la méthode KDEUnivariate"
   ]
  },
  {
   "cell_type": "code",
   "execution_count": 9,
   "metadata": {},
   "outputs": [],
   "source": [
    "def f_hat(grid , X, h, **kwargs):\n",
    "    \"\"\"Univariate Kernel Density Estimation with Statsmodels\"\"\" \n",
    "    # grid: grille de points où l'estimateur de $f$ sera évalué\n",
    "    # X: échantillon (X_1,..., X_n)\n",
    "    # h: choix de la taille de la fenêtre\n",
    "    # **kwargs: arguments optionels Par défaut le noyau gaussien est utilisé\n",
    "    kde = KDEUnivariate(X)\n",
    "    kde.fit(bw = h, **kwargs)\n",
    "    return kde.evaluate(grid)"
   ]
  },
  {
   "cell_type": "markdown",
   "metadata": {},
   "source": [
    "Nous représentons graphiquement la fonction $x \\mapsto \\widehat{g_{n,h}(x)}$ pour différentes valeurs de h, paramètre de lissage."
   ]
  },
  {
   "cell_type": "code",
   "execution_count": 10,
   "metadata": {},
   "outputs": [
    {
     "data": {
      "text/plain": [
       "<matplotlib.legend.Legend at 0x1bc53732d60>"
      ]
     },
     "execution_count": 10,
     "metadata": {},
     "output_type": "execute_result"
    },
    {
     "data": {
      "text/plain": [
       "Text(0.5, 0, 'X')"
      ]
     },
     "execution_count": 10,
     "metadata": {},
     "output_type": "execute_result"
    },
    {
     "data": {
      "text/plain": [
       "Text(0, 0.5, 'fonction densité')"
      ]
     },
     "execution_count": 10,
     "metadata": {},
     "output_type": "execute_result"
    },
    {
     "data": {
      "text/plain": [
       "Text(0.5, 1.0, 'Représentation de la densité')"
      ]
     },
     "execution_count": 10,
     "metadata": {},
     "output_type": "execute_result"
    },
    {
     "data": {
      "image/png": "[encoded data removed]",
      "text/plain": [
       "<Figure size 432x288 with 1 Axes>"
      ]
     },
     "metadata": {
      "needs_background": "light"
     },
     "output_type": "display_data"
    }
   ],
   "source": [
    "grid = np.linspace(-1,10,500)\n",
    "g1,  = plt.plot(grid, f_hat(grid, Data1['X'],h=0.1))\n",
    "g3,  = plt.plot(grid, f_hat(grid, Data1['X'],h=0.3))\n",
    "g5,  = plt.plot(grid, f_hat(grid, Data1['X'],h=0.5))\n",
    "g7,  = plt.plot(grid, f_hat(grid, Data1['X'],h=0.7))\n",
    "g9,  = plt.plot(grid, f_hat(grid, Data1['X'],h=0.9))\n",
    "g11, = plt.plot(grid, f_hat(grid, Data1['X'],h=1.1))\n",
    "g13, = plt.plot(grid, f_hat(grid, Data1['X'],h=1.3))\n",
    "g15, = plt.plot(grid, f_hat(grid, Data1['X'],h=1.5))\n",
    "\n",
    "plt.legend([g1, g3, g5, g7, g9, g11, g13, g15], ['h = 0,1', 'h = 0,3', 'h = 0,7', 'h = 0,9', 'h = 1,1', 'h = 1,3', 'h = 1,5'],\n",
    "              loc = 'upper right' , title = 'Légende')\n",
    "plt.xlabel('X')\n",
    "plt.ylabel('fonction densité')\n",
    "plt.title('Représentation de la densité')"
   ]
  },
  {
   "cell_type": "markdown",
   "metadata": {},
   "source": [
    "- Pour les valeurs de h, $h \\in ]0; 1.5]$.\n",
    "    - La densité est bimodale, \n",
    "    - Plus h est grand, plus les deux bosses deviennent plates\n",
    "    - Pour $h = 0.1$ on observe une plus grande volatilité autour de la moyenne."
   ]
  },
  {
   "cell_type": "code",
   "execution_count": 11,
   "metadata": {},
   "outputs": [
    {
     "data": {
      "text/plain": [
       "<matplotlib.legend.Legend at 0x1bc537700a0>"
      ]
     },
     "execution_count": 11,
     "metadata": {},
     "output_type": "execute_result"
    },
    {
     "data": {
      "text/plain": [
       "Text(0.5, 0, 'X')"
      ]
     },
     "execution_count": 11,
     "metadata": {},
     "output_type": "execute_result"
    },
    {
     "data": {
      "text/plain": [
       "Text(0, 0.5, 'fonction densité')"
      ]
     },
     "execution_count": 11,
     "metadata": {},
     "output_type": "execute_result"
    },
    {
     "data": {
      "text/plain": [
       "Text(0.5, 1.0, 'Représentation de la densité')"
      ]
     },
     "execution_count": 11,
     "metadata": {},
     "output_type": "execute_result"
    },
    {
     "data": {
      "image/png": "[encoded data removed]",
      "text/plain": [
       "<Figure size 432x288 with 1 Axes>"
      ]
     },
     "metadata": {
      "needs_background": "light"
     },
     "output_type": "display_data"
    }
   ],
   "source": [
    "grid = np.linspace(-1,10,500)\n",
    "g17,  = plt.plot(grid, f_hat(grid, Data1['X'],h=1.7))\n",
    "g19,  = plt.plot(grid, f_hat(grid, Data1['X'],h=1.9))\n",
    "g100, = plt.plot(grid, f_hat(grid, Data1['X'],h=10))\n",
    "\n",
    "plt.legend([g17, g19, g100], ['h = 1,7', 'h = 1,9', 'h = 10'],\n",
    "              loc = 'upper right' , title = 'Légende')\n",
    "plt.xlabel('X')\n",
    "plt.ylabel('fonction densité')\n",
    "plt.title('Représentation de la densité')"
   ]
  },
  {
   "cell_type": "markdown",
   "metadata": {},
   "source": [
    "- Pour $h > 1,5$ :\n",
    "    - la densité est unimodale\n",
    "    - la variable est centrée,\n",
    "    - Pour $h = 10$, la densité devient quasiment plate."
   ]
  },
  {
   "cell_type": "markdown",
   "metadata": {},
   "source": [
    "Le choix de h est primordial car si cet hyperparamètre est trop grand, le lissage ne permet pas de reproduire la forme bimodale observée avec l'histogramme. Si h est trop petit, on observe une relativement forte volatilité de la densité autour de la moyenne."
   ]
  },
  {
   "cell_type": "markdown",
   "metadata": {},
   "source": [
    "Les caractéristiques des données semblent être mieux représentées quand $h \\geq 0.1$ et $h \\leq 1.5$."
   ]
  },
  {
   "cell_type": "markdown",
   "metadata": {},
   "source": [
    "1.2. Représentation graphique de l'estimateur de densité de g"
   ]
  },
  {
   "cell_type": "markdown",
   "metadata": {},
   "source": [
    "- Nous avons besoin de l'estimateur de la fenêtre h noté $ \\widehat{h_n}$ "
   ]
  },
  {
   "cell_type": "markdown",
   "metadata": {},
   "source": [
    "- Rappelons que le biais est petit si h est petit et la densité g régulière. Nous venons aussi de voir que si h est trop petit, la variance est plus grande. Le choix de h sera donc un compromis entre un biais contrôlé et une variance petite."
   ]
  },
  {
   "cell_type": "markdown",
   "metadata": {},
   "source": [
    "- La règle du pouce de Silverman et celle de Scott nous fournissent une première approximation de h pour les fonctions de densité deux fois dérivable. L'hyperparamètre h1 de Scott se retrouve par la formule suivante: $h_{est} = 1.06*\\sigma(X)*n^{\\frac{-1}{2\\alpha + 1}}$ avec ici $\\alpha = 2$ pour g deux fois dérivable.\n"
   ]
  },
  {
   "cell_type": "code",
   "execution_count": 12,
   "metadata": {},
   "outputs": [
    {
     "data": {
      "text/plain": [
       "(0.35495697624782646, 0.3546575787072305, 0.3014087071166265)"
      ]
     },
     "execution_count": 12,
     "metadata": {},
     "output_type": "execute_result"
    }
   ],
   "source": [
    "n= 5000\n",
    "h1 = statsmodels.nonparametric.bandwidths.bw_scott(Data1['X'])\n",
    "h2 = statsmodels.nonparametric.bandwidths.bw_silverman(Data1['X'])\n",
    "(1.06*np.sqrt(np.var(Data1['X']))*n**(-1/5), h1, h2)"
   ]
  },
  {
   "cell_type": "markdown",
   "metadata": {},
   "source": [
    "Les estimateurs h1 et h2 (Scott et Silverman) de l'hyperparamètre h sont calculés en faisant l'hypothèse que la densité g des $X_i$ est deux fois dérivable. Mais la fonction de densité peut être dérivable plus de deux fois. \n",
    "\n",
    "Si par exemple la densité n'était qu'une fois dérivable, l'estimateur de Scott serait proche de:"
   ]
  },
  {
   "cell_type": "code",
   "execution_count": 13,
   "metadata": {},
   "outputs": [
    {
     "data": {
      "text/plain": [
       "0.11401965315212556"
      ]
     },
     "execution_count": 13,
     "metadata": {},
     "output_type": "execute_result"
    }
   ],
   "source": [
    "n=5000\n",
    "1.06*np.sqrt(np.var(Data1['X']))*n**(-1/3)"
   ]
  },
  {
   "cell_type": "markdown",
   "metadata": {},
   "source": [
    "Estimation de h par validation croisée (leave one out)"
   ]
  },
  {
   "cell_type": "code",
   "execution_count": 14,
   "metadata": {},
   "outputs": [],
   "source": [
    "bandwidths = np.linspace(0, 1, 30)"
   ]
  },
  {
   "cell_type": "code",
   "execution_count": 15,
   "metadata": {},
   "outputs": [
    {
     "data": {
      "text/plain": [
       "(5000, 1)"
      ]
     },
     "execution_count": 15,
     "metadata": {},
     "output_type": "execute_result"
    }
   ],
   "source": [
    "X = Data1['X']\n",
    "Xnew = X.to_numpy().reshape(-1,1)\n",
    "np.shape(Xnew)"
   ]
  },
  {
   "cell_type": "code",
   "execution_count": 16,
   "metadata": {},
   "outputs": [
    {
     "data": {
      "text/plain": [
       "GridSearchCV(cv=2, estimator=KernelDensity(),\n",
       "             param_grid={'bandwidth': array([0.        , 0.03448276, 0.06896552, 0.10344828, 0.13793103,\n",
       "       0.17241379, 0.20689655, 0.24137931, 0.27586207, 0.31034483,\n",
       "       0.34482759, 0.37931034, 0.4137931 , 0.44827586, 0.48275862,\n",
       "       0.51724138, 0.55172414, 0.5862069 , 0.62068966, 0.65517241,\n",
       "       0.68965517, 0.72413793, 0.75862069, 0.79310345, 0.82758621,\n",
       "       0.86206897, 0.89655172, 0.93103448, 0.96551724, 1.        ])})"
      ]
     },
     "execution_count": 16,
     "metadata": {},
     "output_type": "execute_result"
    },
    {
     "data": {
      "text/plain": [
       "0.034482758620689655"
      ]
     },
     "execution_count": 16,
     "metadata": {},
     "output_type": "execute_result"
    }
   ],
   "source": [
    "GG = GridSearchCV(KernelDensity(kernel='gaussian'),{'bandwidth': bandwidths},cv = 2)\n",
    "GG.fit(Xnew)\n",
    "h_cv = GG.best_params_[\"bandwidth\"] \n",
    "h_cv"
   ]
  },
  {
   "cell_type": "markdown",
   "metadata": {},
   "source": [
    "L'estimateur h_cv de l'hyperparamètre h calculé par la validation croisée est très petit. Comme nous l'avons vu plus haut, la densité g de X pour un h trop petit $(h < 0.3)$ entraîne de la variance autour de la moyenne. Pour éviter cela nous prenons comme estimateur de h, l'estimateur $\\widehat{h_n}$ de Silverman $h_2 = 0.30$"
   ]
  },
  {
   "cell_type": "code",
   "execution_count": 17,
   "metadata": {},
   "outputs": [
    {
     "data": {
      "text/plain": [
       "<matplotlib.legend.Legend at 0x1bc537f9640>"
      ]
     },
     "execution_count": 17,
     "metadata": {},
     "output_type": "execute_result"
    },
    {
     "data": {
      "text/plain": [
       "Text(0.5, 0, 'X')"
      ]
     },
     "execution_count": 17,
     "metadata": {},
     "output_type": "execute_result"
    },
    {
     "data": {
      "text/plain": [
       "Text(0, 0.5, 'fonction densité')"
      ]
     },
     "execution_count": 17,
     "metadata": {},
     "output_type": "execute_result"
    },
    {
     "data": {
      "text/plain": [
       "Text(0.5, 1.0, 'Représentation de la densité')"
      ]
     },
     "execution_count": 17,
     "metadata": {},
     "output_type": "execute_result"
    },
    {
     "data": {
      "image/png": "[encoded data removed]",
      "text/plain": [
       "<Figure size 432x288 with 1 Axes>"
      ]
     },
     "metadata": {
      "needs_background": "light"
     },
     "output_type": "display_data"
    }
   ],
   "source": [
    "# Utilisation en densité\n",
    "def f_hat(grid , X, h, **kwargs):\n",
    "    \"\"\"Univariate Kernel Density Estimation with Statsmodels\"\"\" \n",
    "    # grid: grille de points où l'estimateur de $f$ sera évalué\n",
    "    # X: échantillon (X_1,..., X_n)\n",
    "    # h: choix de la taille de la fenêtre\n",
    "    # **kwargs: arguments optionels Par défaut le noyau gaussien est utilisé\n",
    "    kde = KDEUnivariate(X)\n",
    "    kde.fit(bw = h, **kwargs)\n",
    "    return kde.evaluate(grid)\n",
    "\n",
    "\n",
    "g1, = plt.plot(grid, f_hat(grid, X, h1))\n",
    "g2, = plt.plot(grid, f_hat(grid, X, h2))\n",
    "g3, = plt.plot(grid, f_hat(grid, X, h_cv))\n",
    "\n",
    "plt.legend([g1, g2, g3], ['h = Scott', 'h = Silverman', 'h = CV'],loc = 'upper right' , title = 'Légende')\n",
    "plt.xlabel('X')\n",
    "plt.ylabel('fonction densité')\n",
    "plt.title('Représentation de la densité')"
   ]
  },
  {
   "cell_type": "markdown",
   "metadata": {},
   "source": [
    "Fonction de répartition de la loi uniforme $U[a;b]$"
   ]
  },
  {
   "cell_type": "markdown",
   "metadata": {},
   "source": [
    "1.3. Implémenter un QQ-plot pour vérifier l'hypothèse _g_ est la distribution uniforme"
   ]
  },
  {
   "cell_type": "code",
   "execution_count": 18,
   "metadata": {},
   "outputs": [
    {
     "data": {
      "text/plain": [
       "((array([1.00083172, 1.00201885, 1.00321877, ..., 6.99678123, 6.99798115,\n",
       "         6.99916828]),\n",
       "  array([1.        , 1.00000241, 1.00000245, ..., 5.99999668, 5.99999799,\n",
       "         5.99999985])),\n",
       " (1.0480601715001256, -0.6647543013787409, 0.9868503047727742))"
      ]
     },
     "execution_count": 18,
     "metadata": {},
     "output_type": "execute_result"
    },
    {
     "data": {
      "image/png": "[encoded data removed]",
      "text/plain": [
       "<Figure size 432x288 with 1 Axes>"
      ]
     },
     "metadata": {
      "needs_background": "light"
     },
     "output_type": "display_data"
    }
   ],
   "source": [
    "unif = st.uniform(1,6)\n",
    "st.probplot(X,dist=unif, plot=plt)"
   ]
  },
  {
   "cell_type": "markdown",
   "metadata": {},
   "source": [
    "L'hypothèse que g soit la distribution uniforme est peu probable car la forme de la courbe bleu des quantiles associés aux observations versus les quantiles de la loi uniforme est trop sinusoïdale et s'éloigne régulièrement de la première bissectrice."
   ]
  },
  {
   "cell_type": "markdown",
   "metadata": {},
   "source": [
    "### 1.4. Zone de l'espace où l'estimation de r sera plus précise"
   ]
  },
  {
   "cell_type": "markdown",
   "metadata": {},
   "source": [
    "L'estimation de r sera la plus précise là où les $X_i$ seront les plus nombreux i.e. au voisinage de $1^+$ et $6^-$ et nous avons vu qu'à ces voisinages l'estimation de g était fortement dépendante du choix de h."
   ]
  },
  {
   "cell_type": "code",
   "execution_count": 19,
   "metadata": {},
   "outputs": [
    {
     "data": {
      "text/plain": [
       "<matplotlib.axes._subplots.AxesSubplot at 0x1bc53f6c040>"
      ]
     },
     "execution_count": 19,
     "metadata": {},
     "output_type": "execute_result"
    },
    {
     "data": {
      "image/png": "[encoded data removed]",
      "text/plain": [
       "<Figure size 432x288 with 1 Axes>"
      ]
     },
     "metadata": {
      "needs_background": "light"
     },
     "output_type": "display_data"
    }
   ],
   "source": [
    "Data1.X.plot(kind = \"hist\")"
   ]
  },
  {
   "cell_type": "markdown",
   "metadata": {},
   "source": [
    "### 1.5. Pour $ k \\geq 1 $, on pose $ c(k) = \\int_1^6{x^kg(x)dx} $. Construire un estimateur $ \\widehat{c_n}^{(k)}$ de $c(k)$. On pourra en particulier discuter de la qualité de l'estimation en prenant $k=0$."
   ]
  },
  {
   "cell_type": "markdown",
   "metadata": {},
   "source": [
    "Si la densité $g(x)$ de $X$ est la distribution uniforme $\\textit{U}[1,6]$ alors $c(k) = \\mathbb{E}[X^k\\mathbb{1}_{[1,6]}(X)]$. \n",
    "\n",
    "$c(k)$ peut-être estimé par la méthode de Monte-Carlo:"
   ]
  },
  {
   "cell_type": "code",
   "execution_count": 20,
   "metadata": {},
   "outputs": [
    {
     "data": {
      "text/plain": [
       "0.8374"
      ]
     },
     "execution_count": 20,
     "metadata": {},
     "output_type": "execute_result"
    },
    {
     "data": {
      "text/plain": [
       "2.9310121372679454"
      ]
     },
     "execution_count": 20,
     "metadata": {},
     "output_type": "execute_result"
    },
    {
     "data": {
      "text/plain": [
       "11.963687100581012"
      ]
     },
     "execution_count": 20,
     "metadata": {},
     "output_type": "execute_result"
    },
    {
     "data": {
      "text/plain": [
       "53.771238896759506"
      ]
     },
     "execution_count": 20,
     "metadata": {},
     "output_type": "execute_result"
    },
    {
     "data": {
      "text/plain": [
       "256.7511157942435"
      ]
     },
     "execution_count": 20,
     "metadata": {},
     "output_type": "execute_result"
    },
    {
     "data": {
      "text/plain": [
       "1276.02486059914"
      ]
     },
     "execution_count": 20,
     "metadata": {},
     "output_type": "execute_result"
    },
    {
     "data": {
      "text/plain": [
       "6522.603201702394"
      ]
     },
     "execution_count": 20,
     "metadata": {},
     "output_type": "execute_result"
    },
    {
     "data": {
      "text/plain": [
       "34042.37734224618"
      ]
     },
     "execution_count": 20,
     "metadata": {},
     "output_type": "execute_result"
    },
    {
     "data": {
      "text/plain": [
       "180542.81795462518"
      ]
     },
     "execution_count": 20,
     "metadata": {},
     "output_type": "execute_result"
    },
    {
     "data": {
      "text/plain": [
       "969779.0122569969"
      ]
     },
     "execution_count": 20,
     "metadata": {},
     "output_type": "execute_result"
    }
   ],
   "source": [
    "n=5000\n",
    "x=st.uniform.rvs(1,6, size=n)\n",
    "for k in range(10):\n",
    "    np.mean(x**k*(x>=1)*(x<=6))"
   ]
  },
  {
   "cell_type": "markdown",
   "metadata": {},
   "source": [
    "Calculons l'estimateur de $c(k)$ en utilisant cette fois-ci l'estimateur de densité de $g(x)$ d'hyperparamètre $h_1$ et en nous plaçant sur l'intervalle $[1,6]$"
   ]
  },
  {
   "cell_type": "code",
   "execution_count": 21,
   "metadata": {},
   "outputs": [
    {
     "data": {
      "text/plain": [
       "0.16842634435218015"
      ]
     },
     "execution_count": 21,
     "metadata": {},
     "output_type": "execute_result"
    },
    {
     "data": {
      "text/plain": [
       "0.5909939091738798"
      ]
     },
     "execution_count": 21,
     "metadata": {},
     "output_type": "execute_result"
    },
    {
     "data": {
      "text/plain": [
       "2.6446910086810096"
      ]
     },
     "execution_count": 21,
     "metadata": {},
     "output_type": "execute_result"
    },
    {
     "data": {
      "text/plain": [
       "13.280014967778506"
      ]
     },
     "execution_count": 21,
     "metadata": {},
     "output_type": "execute_result"
    },
    {
     "data": {
      "text/plain": [
       "70.34797702802754"
      ]
     },
     "execution_count": 21,
     "metadata": {},
     "output_type": "execute_result"
    },
    {
     "data": {
      "text/plain": [
       "383.2791630052203"
      ]
     },
     "execution_count": 21,
     "metadata": {},
     "output_type": "execute_result"
    },
    {
     "data": {
      "text/plain": [
       "2124.1425117407716"
      ]
     },
     "execution_count": 21,
     "metadata": {},
     "output_type": "execute_result"
    },
    {
     "data": {
      "text/plain": [
       "11908.701549045498"
      ]
     },
     "execution_count": 21,
     "metadata": {},
     "output_type": "execute_result"
    },
    {
     "data": {
      "text/plain": [
       "67328.93285667154"
      ]
     },
     "execution_count": 21,
     "metadata": {},
     "output_type": "execute_result"
    },
    {
     "data": {
      "text/plain": [
       "383129.49474834674"
      ]
     },
     "execution_count": 21,
     "metadata": {},
     "output_type": "execute_result"
    }
   ],
   "source": [
    "zgrid = np.linspace(1,6,5000)\n",
    "for k in range(10):\n",
    "    np.mean(X**k*f_hat(zgrid, X, h1))"
   ]
  },
  {
   "cell_type": "markdown",
   "metadata": {},
   "source": [
    "Les deux estimateurs retournent des valeurs éloignées. La loi uniforme ne semble pas non plus correspondre à la densité de X."
   ]
  },
  {
   "cell_type": "markdown",
   "metadata": {},
   "source": [
    "## 2. Reconstrucion de $r(x)$"
   ]
  },
  {
   "cell_type": "markdown",
   "metadata": {},
   "source": [
    "_Pour cette partie on utilise les données Data1_"
   ]
  },
  {
   "cell_type": "markdown",
   "metadata": {},
   "source": [
    "La représentation des données peut donc s'écrire sous la forme du modèle additif suivant:"
   ]
  },
  {
   "cell_type": "markdown",
   "metadata": {},
   "source": [
    "$ Y_i = r(X_i) + \\sigma\\varepsilon_i $ avec $\\sigma $ constante (modèle homoscédastique) et $r$ la fonction de régression."
   ]
  },
  {
   "cell_type": "markdown",
   "metadata": {},
   "source": [
    "2.1. Est-il plausible de penser que $r$ soit linéaire ?"
   ]
  },
  {
   "cell_type": "markdown",
   "metadata": {},
   "source": [
    "Pour répondre à cette question, nous allons commencer par représenter graphiquement les couples $(X_i,Y_i) $ avec $ 1 \\leq i \\leq 5000 .$"
   ]
  },
  {
   "cell_type": "code",
   "execution_count": 22,
   "metadata": {},
   "outputs": [
    {
     "data": {
      "text/plain": [
       "[<matplotlib.lines.Line2D at 0x1bc00010fd0>]"
      ]
     },
     "execution_count": 22,
     "metadata": {},
     "output_type": "execute_result"
    },
    {
     "data": {
      "image/png": "[encoded data removed]",
      "text/plain": [
       "<Figure size 432x288 with 1 Axes>"
      ]
     },
     "metadata": {
      "needs_background": "light"
     },
     "output_type": "display_data"
    }
   ],
   "source": [
    "plt.plot(Data1['X'],Data1['Y1'], 'r.')"
   ]
  },
  {
   "cell_type": "markdown",
   "metadata": {},
   "source": [
    "Le graphe Y contre X semble indiquer que l'hypothèse que r soit linéaire est peu probable"
   ]
  },
  {
   "cell_type": "markdown",
   "metadata": {},
   "source": [
    "Nous allons confirmer cette cette première conclusion par la régression linéaire des Moindres Carrés Ordinaires. Cela nous permet d'utiliser la régression linéaire avec Python. Si r est linéaire, r(x) s'écrit comme $ r(x) = ax + b $ avec $a, b \\in \\mathbb{R}$\n",
    "\n",
    "$\\mathbb{E}(Y_i) = a\\mathbb{E}(X_i)$ + b"
   ]
  },
  {
   "cell_type": "code",
   "execution_count": 23,
   "metadata": {},
   "outputs": [],
   "source": [
    "from sklearn.linear_model import LinearRegression"
   ]
  },
  {
   "cell_type": "code",
   "execution_count": 24,
   "metadata": {},
   "outputs": [],
   "source": [
    "lm = LinearRegression()"
   ]
  },
  {
   "cell_type": "markdown",
   "metadata": {},
   "source": [
    "Avant d'appliquer la régression linéaire il faut \"reshaper\" Y1."
   ]
  },
  {
   "cell_type": "code",
   "execution_count": 25,
   "metadata": {},
   "outputs": [],
   "source": [
    "Y = Data1['Y1']\n",
    "Ynew = Y.to_numpy().reshape(-1,1)"
   ]
  },
  {
   "cell_type": "code",
   "execution_count": 26,
   "metadata": {},
   "outputs": [
    {
     "data": {
      "text/plain": [
       "LinearRegression()"
      ]
     },
     "execution_count": 26,
     "metadata": {},
     "output_type": "execute_result"
    }
   ],
   "source": [
    "lm.fit(Xnew,Ynew)"
   ]
  },
  {
   "cell_type": "code",
   "execution_count": 27,
   "metadata": {},
   "outputs": [
    {
     "data": {
      "text/plain": [
       "array([[-0.14226115]])"
      ]
     },
     "execution_count": 27,
     "metadata": {},
     "output_type": "execute_result"
    }
   ],
   "source": [
    "lm.coef_"
   ]
  },
  {
   "cell_type": "markdown",
   "metadata": {},
   "source": [
    "La pente du modèle de régression linéaire est proche de 0. L'hypothèse \"r est linéaire\" est peu plausible."
   ]
  },
  {
   "cell_type": "markdown",
   "metadata": {},
   "source": [
    "2.2. Construire une estimateur non-paramétrique $\\widehat{r}_{n,h}(x)$ de $r(x)$ pour une fenêtre de lissage $h > 0 $ bien choisie et le représenter graphiquement. "
   ]
  },
  {
   "cell_type": "markdown",
   "metadata": {},
   "source": [
    "Le choix de h s'effectuera par validation croisée avec l'estimateur de régression de Nadaraya-Watson."
   ]
  },
  {
   "cell_type": "markdown",
   "metadata": {},
   "source": [
    "Le principe de la validation croisée consiste à partir de l'échantillon $(X_k,Y_k)_{k\\in(1..n),k\\neq i}$ privé d'un individu noté i, d'estimer $\\widehat{R}_{(-i),n,h}(x)$ avec h fixé pris dans la grille. A partir de cette estimation, l'erreur moyenne $ err_h = \\frac{1}{n}\\sum\\limits_{i=1}^{i=n}({Y_i - \\widehat{R}_{(-i),n,h}(X_i))}^2$ est calculée. On choisit h* comme le h de la grille minimisant cette erreur moyenne: $ h^* = \\underset{h \\in grid}{argmin}(err_h) $"
   ]
  },
  {
   "cell_type": "code",
   "execution_count": 28,
   "metadata": {},
   "outputs": [
    {
     "data": {
      "text/plain": [
       "array([0.15252058])"
      ]
     },
     "execution_count": 28,
     "metadata": {},
     "output_type": "execute_result"
    }
   ],
   "source": [
    "grid = np.linspace(1,6,100)\n",
    "Kreg = KernelReg(Data1['Y1'], Data1['X'], var_type = 'c', reg_type = 'll', bw = 'cv_ls')\n",
    "h_cv = Kreg.bw\n",
    "h_cv"
   ]
  },
  {
   "cell_type": "markdown",
   "metadata": {},
   "source": [
    "Maintenant que h a été estimé par l'algorithme de Naradaya Watson, nous pouvons déterminer un estimateur de la fonction de régression $\\widehat{r}_{(\\alpha,\\beta)(x)}$"
   ]
  },
  {
   "cell_type": "code",
   "execution_count": 29,
   "metadata": {},
   "outputs": [],
   "source": [
    "Kreg1 = KernelReg(Data1['Y1'], Data1['X'], var_type = 'c', reg_type = 'll', bw = h_cv)\n",
    "r_hat1, dr_hat1 = Kreg1.fit(grid)"
   ]
  },
  {
   "cell_type": "code",
   "execution_count": 30,
   "metadata": {},
   "outputs": [
    {
     "data": {
      "image/png": "[encoded data removed]",
      "text/plain": [
       "<Figure size 432x288 with 1 Axes>"
      ]
     },
     "metadata": {
      "needs_background": "light"
     },
     "output_type": "display_data"
    }
   ],
   "source": [
    "g, = plt.plot(Data1['X'],Data1['Y1'], 'c.')\n",
    "g1,= plt.plot(grid, r_hat1)\n",
    "g2,= plt.plot(grid, Kreg1.fit(grid)[0])"
   ]
  },
  {
   "cell_type": "markdown",
   "metadata": {},
   "source": [
    "2.3. _(Facultatif)_ On considère uniquement les valeurs de $X$ comprise dans [1,3]. Soit la fonction $r_{\\alpha,\\beta}(x) = \\beta + (x - 2)^\\alpha$, pensez-vous qu'il existe un couple $(\\alpha,\\beta) \\in \\mathbb{R}^2$ tel que le modèle $Y_1 = r_{\\alpha,\\beta}(X) + \\epsilon $ soit adapté aux données, pour une erreur $\\epsilon \\sim \\mathcal{N}(0,1)$ ?"
   ]
  },
  {
   "cell_type": "markdown",
   "metadata": {},
   "source": [
    "Si $\\alpha < 0$ la fonction n'est pas définie au point $x=2$. Nous nous plaçons donc dans le cas $\\alpha > 0 $.\n",
    "\n",
    "Il existe certainement un couple $(\\alpha,\\beta)$ tel que le modèle $Y_1 = r_{\\alpha,\\beta}(X) + \\epsilon $ soit adapté aux données. Nous avons ci-dessous représenter le graphe d'une fonction qui pourrait de part sa forme sinusoïdale aplatie, s'adapter aux données.\n",
    "\n",
    "Pour estimer le couple $(\\alpha,\\beta)$, peut-être pourrait-on dans un premier temps éliminier le paramètre $\\beta$ en estimant la densité de la dérivée de la fonction de régression et notamment sa valeur $r_{\\alpha,\\beta}(1)$ pour déterminer un estimateur de $\\alpha$. Une fois $\\alpha$ estimé par cette méthode, nous pourrions estimer la fonction de régression au point $x=2$ et ainsi estimer $\\beta$."
   ]
  },
  {
   "cell_type": "code",
   "execution_count": 31,
   "metadata": {},
   "outputs": [],
   "source": [
    "def reg_fun(a,b,x): return(b+(x-2)**a)"
   ]
  },
  {
   "cell_type": "code",
   "execution_count": 32,
   "metadata": {},
   "outputs": [
    {
     "data": {
      "text/plain": [
       "[<matplotlib.lines.Line2D at 0x1bc000dd0a0>]"
      ]
     },
     "execution_count": 32,
     "metadata": {},
     "output_type": "execute_result"
    },
    {
     "data": {
      "image/png": "[encoded data removed]",
      "text/plain": [
       "<Figure size 432x288 with 1 Axes>"
      ]
     },
     "metadata": {
      "needs_background": "light"
     },
     "output_type": "display_data"
    }
   ],
   "source": [
    "a=3\n",
    "b=10\n",
    "grid = np.linspace(-5,10,5000)\n",
    "plt.plot(grid,reg_fun(a,b,grid))"
   ]
  },
  {
   "cell_type": "markdown",
   "metadata": {},
   "source": [
    "## 3. Etude de la densité $\\mu$ des $\\varepsilon_i$"
   ]
  },
  {
   "cell_type": "markdown",
   "metadata": {},
   "source": [
    "3.1. A partir du jeu de données Data1"
   ]
  },
  {
   "cell_type": "markdown",
   "metadata": {},
   "source": [
    "3.1.1. "
   ]
  },
  {
   "cell_type": "code",
   "execution_count": 33,
   "metadata": {},
   "outputs": [],
   "source": [
    "Data1_first = Data1.iloc[0:2500] # sélection des 2500 premières lignes\n",
    "\n",
    "Data1_last = Data1.iloc[2500:5000] # sélection des 2500 dernières lignes"
   ]
  },
  {
   "cell_type": "code",
   "execution_count": 34,
   "metadata": {},
   "outputs": [
    {
     "data": {
      "text/plain": [
       "(2500, 3)"
      ]
     },
     "execution_count": 34,
     "metadata": {},
     "output_type": "execute_result"
    }
   ],
   "source": [
    "Data1_first.shape"
   ]
  },
  {
   "cell_type": "code",
   "execution_count": 35,
   "metadata": {},
   "outputs": [],
   "source": [
    "h_cv = 0.1525 # repris de la question 2.2\n",
    "grid_first = np.linspace(1,6,2500)\n",
    "Kreg2 = KernelReg(Data1_last['Y1'], Data1_last['X'], var_type = 'c', reg_type = 'll', bw = h_cv*np.ones(1))\n",
    "r_hat2, dr_hat2 = Kreg2.fit(grid_first)"
   ]
  },
  {
   "cell_type": "code",
   "execution_count": 36,
   "metadata": {},
   "outputs": [
    {
     "data": {
      "text/plain": [
       "0      -0.180661\n",
       "1       0.148494\n",
       "2      -0.193568\n",
       "3       0.082611\n",
       "4      -0.165017\n",
       "          ...   \n",
       "2495    0.701753\n",
       "2496    0.972601\n",
       "2497    0.452946\n",
       "2498    0.290325\n",
       "2499    0.025483\n",
       "Name: Y1, Length: 2500, dtype: float64"
      ]
     },
     "execution_count": 36,
     "metadata": {},
     "output_type": "execute_result"
    }
   ],
   "source": [
    "Eps = Data1_first['Y1'] - Kreg2.fit(grid_first)[0]\n",
    "Eps"
   ]
  },
  {
   "cell_type": "code",
   "execution_count": 37,
   "metadata": {},
   "outputs": [
    {
     "name": "stderr",
     "output_type": "stream",
     "text": [
      "C:\\Users\\admin\\anaconda3\\lib\\site-packages\\numpy\\linalg\\linalg.py:1966: RuntimeWarning: overflow encountered in true_divide\n",
      "  s = divide(1, s, where=large, out=s)\n",
      "C:\\Users\\admin\\anaconda3\\lib\\site-packages\\numpy\\linalg\\linalg.py:1969: RuntimeWarning: invalid value encountered in matmul\n",
      "  res = matmul(transpose(vt), multiply(s[..., newaxis], transpose(u)))\n"
     ]
    },
    {
     "ename": "ValueError",
     "evalue": "operands could not be broadcast together with shapes (2500,) (5000,) ",
     "output_type": "error",
     "traceback": [
      "\u001b[1;31m---------------------------------------------------------------------------\u001b[0m",
      "\u001b[1;31mValueError\u001b[0m                                Traceback (most recent call last)",
      "\u001b[1;32m<ipython-input-37-50f84a51030c>\u001b[0m in \u001b[0;36m<module>\u001b[1;34m\u001b[0m\n\u001b[1;32m----> 1\u001b[1;33m \u001b[0mEps\u001b[0m \u001b[1;33m=\u001b[0m \u001b[0mData1_first\u001b[0m\u001b[1;33m[\u001b[0m\u001b[1;34m'Y1'\u001b[0m\u001b[1;33m]\u001b[0m \u001b[1;33m-\u001b[0m \u001b[0mKreg2\u001b[0m\u001b[1;33m.\u001b[0m\u001b[0mfit\u001b[0m\u001b[1;33m(\u001b[0m\u001b[0mgrid\u001b[0m\u001b[1;33m)\u001b[0m\u001b[1;33m[\u001b[0m\u001b[1;36m0\u001b[0m\u001b[1;33m]\u001b[0m\u001b[1;33m\u001b[0m\u001b[1;33m\u001b[0m\u001b[0m\n\u001b[0m\u001b[0;32m      2\u001b[0m \u001b[0mplt\u001b[0m\u001b[1;33m.\u001b[0m\u001b[0mhist\u001b[0m\u001b[1;33m(\u001b[0m\u001b[0mEps\u001b[0m\u001b[1;33m,\u001b[0m\u001b[0mbins\u001b[0m\u001b[1;33m=\u001b[0m\u001b[1;36m100\u001b[0m\u001b[1;33m)\u001b[0m\u001b[1;33m\u001b[0m\u001b[1;33m\u001b[0m\u001b[0m\n",
      "\u001b[1;32m~\\anaconda3\\lib\\site-packages\\pandas\\core\\ops\\common.py\u001b[0m in \u001b[0;36mnew_method\u001b[1;34m(self, other)\u001b[0m\n\u001b[0;32m     62\u001b[0m         \u001b[0mother\u001b[0m \u001b[1;33m=\u001b[0m \u001b[0mitem_from_zerodim\u001b[0m\u001b[1;33m(\u001b[0m\u001b[0mother\u001b[0m\u001b[1;33m)\u001b[0m\u001b[1;33m\u001b[0m\u001b[1;33m\u001b[0m\u001b[0m\n\u001b[0;32m     63\u001b[0m \u001b[1;33m\u001b[0m\u001b[0m\n\u001b[1;32m---> 64\u001b[1;33m         \u001b[1;32mreturn\u001b[0m \u001b[0mmethod\u001b[0m\u001b[1;33m(\u001b[0m\u001b[0mself\u001b[0m\u001b[1;33m,\u001b[0m \u001b[0mother\u001b[0m\u001b[1;33m)\u001b[0m\u001b[1;33m\u001b[0m\u001b[1;33m\u001b[0m\u001b[0m\n\u001b[0m\u001b[0;32m     65\u001b[0m \u001b[1;33m\u001b[0m\u001b[0m\n\u001b[0;32m     66\u001b[0m     \u001b[1;32mreturn\u001b[0m \u001b[0mnew_method\u001b[0m\u001b[1;33m\u001b[0m\u001b[1;33m\u001b[0m\u001b[0m\n",
      "\u001b[1;32m~\\anaconda3\\lib\\site-packages\\pandas\\core\\ops\\__init__.py\u001b[0m in \u001b[0;36mwrapper\u001b[1;34m(left, right)\u001b[0m\n\u001b[0;32m    501\u001b[0m         \u001b[0mlvalues\u001b[0m \u001b[1;33m=\u001b[0m \u001b[0mextract_array\u001b[0m\u001b[1;33m(\u001b[0m\u001b[0mleft\u001b[0m\u001b[1;33m,\u001b[0m \u001b[0mextract_numpy\u001b[0m\u001b[1;33m=\u001b[0m\u001b[1;32mTrue\u001b[0m\u001b[1;33m)\u001b[0m\u001b[1;33m\u001b[0m\u001b[1;33m\u001b[0m\u001b[0m\n\u001b[0;32m    502\u001b[0m         \u001b[0mrvalues\u001b[0m \u001b[1;33m=\u001b[0m \u001b[0mextract_array\u001b[0m\u001b[1;33m(\u001b[0m\u001b[0mright\u001b[0m\u001b[1;33m,\u001b[0m \u001b[0mextract_numpy\u001b[0m\u001b[1;33m=\u001b[0m\u001b[1;32mTrue\u001b[0m\u001b[1;33m)\u001b[0m\u001b[1;33m\u001b[0m\u001b[1;33m\u001b[0m\u001b[0m\n\u001b[1;32m--> 503\u001b[1;33m         \u001b[0mresult\u001b[0m \u001b[1;33m=\u001b[0m \u001b[0marithmetic_op\u001b[0m\u001b[1;33m(\u001b[0m\u001b[0mlvalues\u001b[0m\u001b[1;33m,\u001b[0m \u001b[0mrvalues\u001b[0m\u001b[1;33m,\u001b[0m \u001b[0mop\u001b[0m\u001b[1;33m,\u001b[0m \u001b[0mstr_rep\u001b[0m\u001b[1;33m)\u001b[0m\u001b[1;33m\u001b[0m\u001b[1;33m\u001b[0m\u001b[0m\n\u001b[0m\u001b[0;32m    504\u001b[0m \u001b[1;33m\u001b[0m\u001b[0m\n\u001b[0;32m    505\u001b[0m         \u001b[1;32mreturn\u001b[0m \u001b[0m_construct_result\u001b[0m\u001b[1;33m(\u001b[0m\u001b[0mleft\u001b[0m\u001b[1;33m,\u001b[0m \u001b[0mresult\u001b[0m\u001b[1;33m,\u001b[0m \u001b[0mindex\u001b[0m\u001b[1;33m=\u001b[0m\u001b[0mleft\u001b[0m\u001b[1;33m.\u001b[0m\u001b[0mindex\u001b[0m\u001b[1;33m,\u001b[0m \u001b[0mname\u001b[0m\u001b[1;33m=\u001b[0m\u001b[0mres_name\u001b[0m\u001b[1;33m)\u001b[0m\u001b[1;33m\u001b[0m\u001b[1;33m\u001b[0m\u001b[0m\n",
      "\u001b[1;32m~\\anaconda3\\lib\\site-packages\\pandas\\core\\ops\\array_ops.py\u001b[0m in \u001b[0;36marithmetic_op\u001b[1;34m(left, right, op, str_rep)\u001b[0m\n\u001b[0;32m    195\u001b[0m     \u001b[1;32melse\u001b[0m\u001b[1;33m:\u001b[0m\u001b[1;33m\u001b[0m\u001b[1;33m\u001b[0m\u001b[0m\n\u001b[0;32m    196\u001b[0m         \u001b[1;32mwith\u001b[0m \u001b[0mnp\u001b[0m\u001b[1;33m.\u001b[0m\u001b[0merrstate\u001b[0m\u001b[1;33m(\u001b[0m\u001b[0mall\u001b[0m\u001b[1;33m=\u001b[0m\u001b[1;34m\"ignore\"\u001b[0m\u001b[1;33m)\u001b[0m\u001b[1;33m:\u001b[0m\u001b[1;33m\u001b[0m\u001b[1;33m\u001b[0m\u001b[0m\n\u001b[1;32m--> 197\u001b[1;33m             \u001b[0mres_values\u001b[0m \u001b[1;33m=\u001b[0m \u001b[0mna_arithmetic_op\u001b[0m\u001b[1;33m(\u001b[0m\u001b[0mlvalues\u001b[0m\u001b[1;33m,\u001b[0m \u001b[0mrvalues\u001b[0m\u001b[1;33m,\u001b[0m \u001b[0mop\u001b[0m\u001b[1;33m,\u001b[0m \u001b[0mstr_rep\u001b[0m\u001b[1;33m)\u001b[0m\u001b[1;33m\u001b[0m\u001b[1;33m\u001b[0m\u001b[0m\n\u001b[0m\u001b[0;32m    198\u001b[0m \u001b[1;33m\u001b[0m\u001b[0m\n\u001b[0;32m    199\u001b[0m     \u001b[1;32mreturn\u001b[0m \u001b[0mres_values\u001b[0m\u001b[1;33m\u001b[0m\u001b[1;33m\u001b[0m\u001b[0m\n",
      "\u001b[1;32m~\\anaconda3\\lib\\site-packages\\pandas\\core\\ops\\array_ops.py\u001b[0m in \u001b[0;36mna_arithmetic_op\u001b[1;34m(left, right, op, str_rep)\u001b[0m\n\u001b[0;32m    147\u001b[0m \u001b[1;33m\u001b[0m\u001b[0m\n\u001b[0;32m    148\u001b[0m     \u001b[1;32mtry\u001b[0m\u001b[1;33m:\u001b[0m\u001b[1;33m\u001b[0m\u001b[1;33m\u001b[0m\u001b[0m\n\u001b[1;32m--> 149\u001b[1;33m         \u001b[0mresult\u001b[0m \u001b[1;33m=\u001b[0m \u001b[0mexpressions\u001b[0m\u001b[1;33m.\u001b[0m\u001b[0mevaluate\u001b[0m\u001b[1;33m(\u001b[0m\u001b[0mop\u001b[0m\u001b[1;33m,\u001b[0m \u001b[0mstr_rep\u001b[0m\u001b[1;33m,\u001b[0m \u001b[0mleft\u001b[0m\u001b[1;33m,\u001b[0m \u001b[0mright\u001b[0m\u001b[1;33m)\u001b[0m\u001b[1;33m\u001b[0m\u001b[1;33m\u001b[0m\u001b[0m\n\u001b[0m\u001b[0;32m    150\u001b[0m     \u001b[1;32mexcept\u001b[0m \u001b[0mTypeError\u001b[0m\u001b[1;33m:\u001b[0m\u001b[1;33m\u001b[0m\u001b[1;33m\u001b[0m\u001b[0m\n\u001b[0;32m    151\u001b[0m         \u001b[0mresult\u001b[0m \u001b[1;33m=\u001b[0m \u001b[0mmasked_arith_op\u001b[0m\u001b[1;33m(\u001b[0m\u001b[0mleft\u001b[0m\u001b[1;33m,\u001b[0m \u001b[0mright\u001b[0m\u001b[1;33m,\u001b[0m \u001b[0mop\u001b[0m\u001b[1;33m)\u001b[0m\u001b[1;33m\u001b[0m\u001b[1;33m\u001b[0m\u001b[0m\n",
      "\u001b[1;32m~\\anaconda3\\lib\\site-packages\\pandas\\core\\computation\\expressions.py\u001b[0m in \u001b[0;36mevaluate\u001b[1;34m(op, op_str, a, b, use_numexpr)\u001b[0m\n\u001b[0;32m    206\u001b[0m     \u001b[0muse_numexpr\u001b[0m \u001b[1;33m=\u001b[0m \u001b[0muse_numexpr\u001b[0m \u001b[1;32mand\u001b[0m \u001b[0m_bool_arith_check\u001b[0m\u001b[1;33m(\u001b[0m\u001b[0mop_str\u001b[0m\u001b[1;33m,\u001b[0m \u001b[0ma\u001b[0m\u001b[1;33m,\u001b[0m \u001b[0mb\u001b[0m\u001b[1;33m)\u001b[0m\u001b[1;33m\u001b[0m\u001b[1;33m\u001b[0m\u001b[0m\n\u001b[0;32m    207\u001b[0m     \u001b[1;32mif\u001b[0m \u001b[0muse_numexpr\u001b[0m\u001b[1;33m:\u001b[0m\u001b[1;33m\u001b[0m\u001b[1;33m\u001b[0m\u001b[0m\n\u001b[1;32m--> 208\u001b[1;33m         \u001b[1;32mreturn\u001b[0m \u001b[0m_evaluate\u001b[0m\u001b[1;33m(\u001b[0m\u001b[0mop\u001b[0m\u001b[1;33m,\u001b[0m \u001b[0mop_str\u001b[0m\u001b[1;33m,\u001b[0m \u001b[0ma\u001b[0m\u001b[1;33m,\u001b[0m \u001b[0mb\u001b[0m\u001b[1;33m)\u001b[0m\u001b[1;33m\u001b[0m\u001b[1;33m\u001b[0m\u001b[0m\n\u001b[0m\u001b[0;32m    209\u001b[0m     \u001b[1;32mreturn\u001b[0m \u001b[0m_evaluate_standard\u001b[0m\u001b[1;33m(\u001b[0m\u001b[0mop\u001b[0m\u001b[1;33m,\u001b[0m \u001b[0mop_str\u001b[0m\u001b[1;33m,\u001b[0m \u001b[0ma\u001b[0m\u001b[1;33m,\u001b[0m \u001b[0mb\u001b[0m\u001b[1;33m)\u001b[0m\u001b[1;33m\u001b[0m\u001b[1;33m\u001b[0m\u001b[0m\n\u001b[0;32m    210\u001b[0m \u001b[1;33m\u001b[0m\u001b[0m\n",
      "\u001b[1;32m~\\anaconda3\\lib\\site-packages\\pandas\\core\\computation\\expressions.py\u001b[0m in \u001b[0;36m_evaluate_numexpr\u001b[1;34m(op, op_str, a, b)\u001b[0m\n\u001b[0;32m    119\u001b[0m \u001b[1;33m\u001b[0m\u001b[0m\n\u001b[0;32m    120\u001b[0m     \u001b[1;32mif\u001b[0m \u001b[0mresult\u001b[0m \u001b[1;32mis\u001b[0m \u001b[1;32mNone\u001b[0m\u001b[1;33m:\u001b[0m\u001b[1;33m\u001b[0m\u001b[1;33m\u001b[0m\u001b[0m\n\u001b[1;32m--> 121\u001b[1;33m         \u001b[0mresult\u001b[0m \u001b[1;33m=\u001b[0m \u001b[0m_evaluate_standard\u001b[0m\u001b[1;33m(\u001b[0m\u001b[0mop\u001b[0m\u001b[1;33m,\u001b[0m \u001b[0mop_str\u001b[0m\u001b[1;33m,\u001b[0m \u001b[0ma\u001b[0m\u001b[1;33m,\u001b[0m \u001b[0mb\u001b[0m\u001b[1;33m)\u001b[0m\u001b[1;33m\u001b[0m\u001b[1;33m\u001b[0m\u001b[0m\n\u001b[0m\u001b[0;32m    122\u001b[0m \u001b[1;33m\u001b[0m\u001b[0m\n\u001b[0;32m    123\u001b[0m     \u001b[1;32mreturn\u001b[0m \u001b[0mresult\u001b[0m\u001b[1;33m\u001b[0m\u001b[1;33m\u001b[0m\u001b[0m\n",
      "\u001b[1;32m~\\anaconda3\\lib\\site-packages\\pandas\\core\\computation\\expressions.py\u001b[0m in \u001b[0;36m_evaluate_standard\u001b[1;34m(op, op_str, a, b)\u001b[0m\n\u001b[0;32m     68\u001b[0m         \u001b[0m_store_test_result\u001b[0m\u001b[1;33m(\u001b[0m\u001b[1;32mFalse\u001b[0m\u001b[1;33m)\u001b[0m\u001b[1;33m\u001b[0m\u001b[1;33m\u001b[0m\u001b[0m\n\u001b[0;32m     69\u001b[0m     \u001b[1;32mwith\u001b[0m \u001b[0mnp\u001b[0m\u001b[1;33m.\u001b[0m\u001b[0merrstate\u001b[0m\u001b[1;33m(\u001b[0m\u001b[0mall\u001b[0m\u001b[1;33m=\u001b[0m\u001b[1;34m\"ignore\"\u001b[0m\u001b[1;33m)\u001b[0m\u001b[1;33m:\u001b[0m\u001b[1;33m\u001b[0m\u001b[1;33m\u001b[0m\u001b[0m\n\u001b[1;32m---> 70\u001b[1;33m         \u001b[1;32mreturn\u001b[0m \u001b[0mop\u001b[0m\u001b[1;33m(\u001b[0m\u001b[0ma\u001b[0m\u001b[1;33m,\u001b[0m \u001b[0mb\u001b[0m\u001b[1;33m)\u001b[0m\u001b[1;33m\u001b[0m\u001b[1;33m\u001b[0m\u001b[0m\n\u001b[0m\u001b[0;32m     71\u001b[0m \u001b[1;33m\u001b[0m\u001b[0m\n\u001b[0;32m     72\u001b[0m \u001b[1;33m\u001b[0m\u001b[0m\n",
      "\u001b[1;31mValueError\u001b[0m: operands could not be broadcast together with shapes (2500,) (5000,) "
     ]
    }
   ],
   "source": [
    "Eps = Data1_first['Y1'] - Kreg2.fit(grid)[0]\n",
    "plt.hist(Eps,bins=100)"
   ]
  },
  {
   "cell_type": "markdown",
   "metadata": {},
   "source": [
    "Les $\\tilde{\\xi_i}$ semblent suivre une loi normale centrée en 0 de variance 1. On en déduit que $\\sigma(X_i)$ vaut $\\frac{1}{2} $. "
   ]
  },
  {
   "cell_type": "markdown",
   "metadata": {},
   "source": [
    "Pour déduire un estimateur  de $\\mu(x)$ on va utiliser l'estimateur de densité "
   ]
  },
  {
   "cell_type": "markdown",
   "metadata": {},
   "source": [
    "3.1.2. "
   ]
  },
  {
   "cell_type": "code",
   "execution_count": null,
   "metadata": {},
   "outputs": [],
   "source": [
    "mu_hat = f_hat(grid, Eps, 0.1525)\n",
    "plt.plot(grid,mu_hat)"
   ]
  },
  {
   "cell_type": "markdown",
   "metadata": {},
   "source": [
    "3.1.3. (Facultatif)\n",
    "\n",
    "L'intérêt d'avoir découpé le jeu de données en deux est de pouvoir valider le modèle provenant du jeu de données J+ en le testant sur le jeu de données J-. Principe de validation croisée."
   ]
  },
  {
   "cell_type": "markdown",
   "metadata": {},
   "source": [
    "3.1.4. \n",
    "\n",
    "La densité $x \\mapsto \\mu(x)$ peut-être gaussienne ?"
   ]
  },
  {
   "cell_type": "markdown",
   "metadata": {},
   "source": [
    "Le graphique ci-dessus montre que la densité des $\\xi_i$ peut-être gaussienne."
   ]
  },
  {
   "cell_type": "code",
   "execution_count": null,
   "metadata": {},
   "outputs": [],
   "source": [
    "Pour le vérifier MCO"
   ]
  },
  {
   "cell_type": "code",
   "execution_count": null,
   "metadata": {},
   "outputs": [],
   "source": [
    "3.1.5. Pour tester si le modèle est homoscédastique nous pouvons étudier le graphique des résidus."
   ]
  },
  {
   "cell_type": "markdown",
   "metadata": {},
   "source": [
    "## 3.2. A partir du jeu de données Data2."
   ]
  },
  {
   "cell_type": "code",
   "execution_count": null,
   "metadata": {},
   "outputs": [],
   "source": []
  }
 ],
 "metadata": {
  "kernelspec": {
   "display_name": "Python 3 (ipykernel)",
   "language": "python",
   "name": "python3"
  },
  "language_info": {
   "codemirror_mode": {
    "name": "ipython",
    "version": 3
   },
   "file_extension": ".py",
   "mimetype": "text/x-python",
   "name": "python",
   "nbconvert_exporter": "python",
   "pygments_lexer": "ipython3",
   "version": "3.9.6"
  },
  "toc": {
   "base_numbering": 1,
   "nav_menu": {},
   "number_sections": true,
   "sideBar": true,
   "skip_h1_title": false,
   "title_cell": "Table of Contents",
   "title_sidebar": "Contents",
   "toc_cell": false,
   "toc_position": {},
   "toc_section_display": true,
   "toc_window_display": false
  }
 },
 "nbformat": 4,
 "nbformat_minor": 4
}
