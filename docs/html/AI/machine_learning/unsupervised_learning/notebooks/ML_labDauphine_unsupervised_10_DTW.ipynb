{
 "cells": [
  {
   "cell_type": "markdown",
   "id": "1b4ccef5",
   "metadata": {},
   "source": [
    "# Clustering: DTW (Dynamic Time Warping)"
   ]
  },
  {
   "cell_type": "markdown",
   "id": "05eacf41",
   "metadata": {},
   "source": [
    "> Dynamic Time Warping (DTW) is a non-linear distance measure that computes the optimal alignment between two sequences (or point series),  \n",
    "  allowing for stretching and compression of the time axis. It is especially useful for comparing sequences that are similar in shape but may be out of phase.  \n",
    "\n",
    "The dataset:\n",
    "\n",
    "We treat the following points as a sequence of spatial coordinates:\n",
    "\n",
    "| Index | Point | Coordinates |\n",
    "| ----- | ----- | ----------- |\n",
    "| 0     | A     | (1, 1)      |\n",
    "| 1     | B     | (2, 1)      |\n",
    "| 2     | C     | (4, 3)      |\n",
    "| 3     | D     | (5, 4)      |\n",
    "| 4     | E     | (3, 4)      |\n",
    "\n",
    "Let us consider the following two sequences of points (trajectories):  \n",
    "\n",
    "Sequence 1: $A \\rightarrow B \\rightarrow C \\rightarrow D$  \n",
    "Sequence 2: $A \\rightarrow B \\rightarrow E \\rightarrow D$  \n",
    "\n",
    "**We want to compare these two sequences.**  \n",
    "\n",
    "Even though they are similar overall, point $C$ is replaced by $E$ in Sequence 2 — and this may introduce misalignment in time/space.  \n",
    "\n",
    "\n",
    "**Step-0: Euclidean Distance Matrix**  \n",
    "\n",
    "We compute the pairwise Euclidean distances between points in both sequences.\n",
    "\n",
    "| From \\ To | A   | B   | E   | D   |\n",
    "| --------- | --- | --- | --- | --- |\n",
    "| A         | 0.0 | 1.0 | 3.6 | 5.0 |\n",
    "| B         | 1.0 | 0.0 | 3.2 | 4.2 |\n",
    "| C         | 3.6 | 2.8 | 1.4 | 1.4 |\n",
    "| D         | 5.0 | 4.2 | 2.0 | 0.0 |\n",
    "\n",
    "We use these distances as the cost of aligning one point from Sequence 1 with one point from Sequence 2.  \n",
    "\n",
    "**Step-1: DTW Alignment Matrix**  \n",
    "\n",
    "Let $S1 = [A, B, C, D]$ and $S2 = [A, B, E, D]$.\n",
    "\n",
    "We compute the DTW cost matrix using dynamic programming:  \n",
    "\n",
    "* Define a cost matrix $DTW[i][j]$ where:  \n",
    "$$DTW[i][j] = \\text{cost}(S1[i], S2[j]) + min(DTW[i−1][j], DTW[i][j-1], DTW[i-1][j-1])$$\n",
    "* Initialization:  \n",
    "  $DTW[0][0] = \\text{dist}(A,A) = 0$\n",
    "* Proceed to fill the matrix using the pairwise distances.  \n",
    "\n",
    "**Step-2: Optimal Warping Path**  \n",
    "\n",
    "Once the matrix is filled, we trace back the optimal warping path, which aligns points from Sequence 1 and 2 by minimizing the total distance.  \n",
    "\n",
    "This path may repeat points (i.e., stretch) or skip certain alignments to accommodate shape differences.  \n",
    "\n",
    "For instance:  \n",
    "\n",
    "* $C$ in Sequence 1 may be aligned with both $E$ and $D$ in Sequence 2.  \n",
    "* Even though $C \\neq E$, DTW may align them because their distance is small $(1.4)$.  \n",
    "\n",
    "**Step-3: DTW Distance**  \n",
    "\n",
    "The DTW distance is the total cost along the optimal path.  \n",
    "\n",
    "In our example:  \n",
    "\n",
    "* Without DTW (naive Euclidean):  \n",
    "  Total distance = $||A-A|| + ||B-B|| + ||C-E|| + ||D-D|| \\approx 0 + 0 + 1.4 + 0 = 1.4$  \n",
    "\n",
    "* With DTW (allowing warping), the alignment may stretch $C$ to better match $E$ and $D$, possibly lowering the effective cost by matching on shape rather than strict order.  \n",
    "\n",
    "📌 **Conclusion: Why DTW Preserves Shape Similarity Across Sequences**   \n",
    "\n",
    "| Property                 | Explanation                                                                   |\n",
    "| ------------------------ | ----------------------------------------------------------------------------- |\n",
    "| Time warping flexibility | Allows stretching/compression of sequences for better alignment               |\n",
    "| Handles phase shifts     | Can align similar shapes even when shifted or distorted in time               |\n",
    "| Sensitive to local shape | Preserves the sequence pattern better than Euclidean distance                 |\n",
    "| Useful for time series   | Ideal for clustering and comparing curves (e.g., gestures, ECG, trajectories) |\n"
   ]
  },
  {
   "cell_type": "code",
   "execution_count": 6,
   "id": "d264e5a8",
   "metadata": {},
   "outputs": [
    {
     "name": "stdout",
     "output_type": "stream",
     "text": [
      "FastDTW distance: 2.0\n",
      "Path: [(0, 0), (1, 1), (2, 2)]\n"
     ]
    }
   ],
   "source": [
    "# python3 -m pip install fastdtw\n",
    "from fastdtw import fastdtw\n",
    "from scipy.spatial.distance import euclidean\n",
    "import numpy as np\n",
    "\n",
    "x = np.array([[0,0], [1,1], [2,2]])\n",
    "y = np.array([[0,0], [1,2], [2,3]])\n",
    "\n",
    "distance, path = fastdtw(x, y, dist=euclidean)\n",
    "\n",
    "print(\"FastDTW distance:\", distance)\n",
    "print(\"Path:\", path)"
   ]
  }
 ],
 "metadata": {
  "kernelspec": {
   "display_name": ".venv",
   "language": "python",
   "name": "python3"
  },
  "language_info": {
   "codemirror_mode": {
    "name": "ipython",
    "version": 3
   },
   "file_extension": ".py",
   "mimetype": "text/x-python",
   "name": "python",
   "nbconvert_exporter": "python",
   "pygments_lexer": "ipython3",
   "version": "3.13.2"
  }
 },
 "nbformat": 4,
 "nbformat_minor": 5
}
