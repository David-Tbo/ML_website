{
 "cells": [
  {
   "cell_type": "markdown",
   "id": "97a156ac",
   "metadata": {},
   "source": [
    "# 🎯 Goal of the Chi-Squared: Test for Independence Between Two Categorical Variables"
   ]
  },
  {
   "cell_type": "markdown",
   "id": "87f5f081",
   "metadata": {},
   "source": [
    "**Let’s assume we want to test whether gender and loan approval are independent.**"
   ]
  },
  {
   "cell_type": "markdown",
   "id": "a49a6108",
   "metadata": {},
   "source": [
    "Example Dataset  \n",
    "\n",
    "Data from a bank on 100 clients:\n",
    "\n",
    "|Gender|Loan approved| Loan denied| Total|\n",
    "|----------|----------|----------|----------|\n",
    "|Male|30|20|50|\n",
    "|Female|10|40|50|\n",
    "|Total|40|60|100|"
   ]
  },
  {
   "cell_type": "markdown",
   "id": "6e5db125",
   "metadata": {},
   "source": [
    "❓ **Hypotheses**\n",
    "\n",
    "- $H_0$ (null hypothesis): Gender and loan approval are independent.  \n",
    "\n",
    "- $H_1$ (alternative hypothesis): Gender and loan approval are not independent."
   ]
  },
  {
   "cell_type": "markdown",
   "id": "8c789cc9",
   "metadata": {},
   "source": [
    "## Step 1: Compute Expected Frequencies\n",
    "\n",
    "**If the variables were independent, the expected frequency for each cell would be:**"
   ]
  },
  {
   "cell_type": "markdown",
   "id": "4ee4cabf",
   "metadata": {},
   "source": [
    "$E_{ij} = \\dfrac{(\\text{Row Total})_i\\times(\\text{Columns Total})_j}{(\\text{Grand Total})}$"
   ]
  },
  {
   "cell_type": "markdown",
   "id": "a1b76aa7",
   "metadata": {
    "vscode": {
     "languageId": "plaintext"
    }
   },
   "source": [
    "Let's compute them"
   ]
  },
  {
   "cell_type": "markdown",
   "id": "1c0c2631",
   "metadata": {},
   "source": [
    "For Male & Approved:  \n",
    "- $E = \\dfrac{50 \\times 40}{100}=20$"
   ]
  },
  {
   "cell_type": "markdown",
   "id": "24d7f348",
   "metadata": {},
   "source": [
    "For Male & Denied:  \n",
    "- $E = \\dfrac{50 \\times 60}{100}=30$"
   ]
  },
  {
   "cell_type": "markdown",
   "id": "4b033ffb",
   "metadata": {},
   "source": [
    "For Female & Approved:  \n",
    "- $E = \\dfrac{50 \\times 40}{100}=20$"
   ]
  },
  {
   "cell_type": "markdown",
   "id": "e30c8677",
   "metadata": {},
   "source": [
    "For Female & Denied:  \n",
    "- $E = \\dfrac{50 \\times 60}{100}=30$"
   ]
  },
  {
   "cell_type": "markdown",
   "id": "b2d4083b",
   "metadata": {},
   "source": [
    "**Expected Frequency Table:**  \n",
    "\n",
    "|Gender| Approved| Denied|\n",
    "|----------|----------|----------|\n",
    "|Male| 20| 30|\n",
    "|Female| 20| 30|"
   ]
  },
  {
   "cell_type": "markdown",
   "id": "d4a7ebe7",
   "metadata": {},
   "source": [
    "## Step 2: Chi-Squared Statistic"
   ]
  },
  {
   "cell_type": "markdown",
   "id": "6fb00bf7",
   "metadata": {},
   "source": [
    "Use the formula:  \n",
    "\n",
    "$\\chi^2 = \\sum \\dfrac{(O-E)^2}{E}$  \n",
    "\n",
    "Where $O = observed, E = expected$.\n",
    "\n",
    "$\\chi^2 = \\dfrac{(30-20)^2}{20} + \\dfrac{(20-30)^2}{30} + \\dfrac{(10-20)^2}{20} + \\dfrac{(40-30)^2}{30}$  \n",
    "\n",
    "$\\chi^2 = \\dfrac{100}{20} + \\dfrac{100}{30} + \\dfrac{100}{20} + \\dfrac{100}{30} = 5 + 3.33 + 5 + 3.33 = 16.66$"
   ]
  },
  {
   "cell_type": "markdown",
   "id": "8606281b",
   "metadata": {},
   "source": [
    "## Step 3: Compute the p-value"
   ]
  },
  {
   "cell_type": "markdown",
   "id": "bbb1facd",
   "metadata": {},
   "source": [
    "- Degrees of freedom:  \n",
    "\n",
    "$df = (rows - 1) \\times (columns - 1) = (2 - 1) \\times (2 - 1) = 1$"
   ]
  },
  {
   "cell_type": "code",
   "execution_count": 6,
   "id": "b696a742",
   "metadata": {},
   "outputs": [
    {
     "name": "stdout",
     "output_type": "stream",
     "text": [
      "p-value = 0.00004\n"
     ]
    }
   ],
   "source": [
    "from scipy.stats import chi2\n",
    "\n",
    "chi2_stat = 16.66\n",
    "df = 1\n",
    "p_value = 1 - chi2.cdf(chi2_stat, df)\n",
    "print(f\"p-value = {p_value:.5f}\")"
   ]
  },
  {
   "cell_type": "markdown",
   "id": "365330b2",
   "metadata": {},
   "source": [
    "✅ Conclusion\n",
    "\n",
    "Since the p-value < 0.05, we reject the null hypothesis.  \n",
    "- There is strong evidence that gender and loan approval are not independent."
   ]
  },
  {
   "cell_type": "markdown",
   "id": "27bee611",
   "metadata": {},
   "source": [
    "## 🐍 Python Code Version"
   ]
  },
  {
   "cell_type": "code",
   "execution_count": 7,
   "id": "bc107658",
   "metadata": {},
   "outputs": [
    {
     "name": "stdout",
     "output_type": "stream",
     "text": [
      "Chi-squared statistic: 15.04\n",
      "Degrees of freedom: 1\n",
      "Expected frequencies:\n",
      " [[20. 30.]\n",
      " [20. 30.]]\n",
      "p-value: 0.0001\n"
     ]
    }
   ],
   "source": [
    "import numpy as np\n",
    "from scipy.stats import chi2_contingency\n",
    "\n",
    "# Observed frequencies\n",
    "data = np.array([[30, 20],\n",
    "                 [10, 40]])\n",
    "\n",
    "chi2_stat, p_value, dof, expected = chi2_contingency(data)\n",
    "\n",
    "print(f\"Chi-squared statistic: {chi2_stat:.2f}\")\n",
    "print(f\"Degrees of freedom: {dof}\")\n",
    "print(\"Expected frequencies:\\n\", expected)\n",
    "print(f\"p-value: {p_value:.4f}\")"
   ]
  },
  {
   "cell_type": "markdown",
   "id": "a6981d22",
   "metadata": {},
   "source": [
    "**END**"
   ]
  }
 ],
 "metadata": {
  "kernelspec": {
   "display_name": ".venv",
   "language": "python",
   "name": "python3"
  },
  "language_info": {
   "codemirror_mode": {
    "name": "ipython",
    "version": 3
   },
   "file_extension": ".py",
   "mimetype": "text/x-python",
   "name": "python",
   "nbconvert_exporter": "python",
   "pygments_lexer": "ipython3",
   "version": "3.13.2"
  }
 },
 "nbformat": 4,
 "nbformat_minor": 5
}
