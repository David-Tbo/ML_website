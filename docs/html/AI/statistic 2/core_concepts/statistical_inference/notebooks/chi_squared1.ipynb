{
 "cells": [
  {
   "cell_type": "markdown",
   "id": "93c22edc",
   "metadata": {},
   "source": [
    "# 🎯 Purpose of the Chi-Squared Goodness-of-Fit Test"
   ]
  },
  {
   "cell_type": "markdown",
   "id": "1bd2d9b7",
   "metadata": {},
   "source": [
    "**Question: Does a single categorical variable follow a theoretical distribution?**"
   ]
  },
  {
   "cell_type": "markdown",
   "id": "c6eae65f",
   "metadata": {},
   "source": [
    "**It tests whether observed categorical frequencies differ significantly from what we would expect under a theoretical distribution (e.g., a fair die).** \n",
    "\n",
    "**Hypotheses:**  \n",
    "\n",
    "- *Null hypothesis ($H_0$):* The observed frequencies match the expected ones.  \n",
    "- *Alternative hypothesis ($H_1$):* The observed frequencies are different from the expected ones."
   ]
  },
  {
   "cell_type": "markdown",
   "id": "7d60a8a9",
   "metadata": {},
   "source": [
    "## Step 1 — Chi-squared Statistic Formula"
   ]
  },
  {
   "cell_type": "markdown",
   "id": "241ca943",
   "metadata": {},
   "source": [
    "- $O_i = \\text{observed frequency for category} \\ i$  \n",
    "- $E_i = \\text{expected frequency for category} \\ i$\n",
    "- $k = \\text{number of categories}$"
   ]
  },
  {
   "cell_type": "markdown",
   "id": "e55a259a",
   "metadata": {},
   "source": [
    "The chi-squared statistic is computed as:\n",
    "\n",
    "$$\\chi^2 = \\sum_{i=1}^k\\dfrac{(O_i - E_i)^2}{E_i}$$"
   ]
  },
  {
   "cell_type": "markdown",
   "id": "f1152cbd",
   "metadata": {},
   "source": [
    "This measures the total squared deviation between observed and expected frequencies, normalized by the expected count."
   ]
  },
  {
   "cell_type": "markdown",
   "id": "4e63cf3b",
   "metadata": {},
   "source": [
    "Example:\n",
    "\n",
    "Let's say you roll a die 600 times and get:"
   ]
  },
  {
   "cell_type": "code",
   "execution_count": 1,
   "id": "0dae6ba1",
   "metadata": {},
   "outputs": [],
   "source": [
    "observed = [90, 100, 110, 100, 105, 95]\n",
    "expected = [100, 100, 100, 100, 100, 100]"
   ]
  },
  {
   "cell_type": "markdown",
   "id": "d97da874",
   "metadata": {},
   "source": [
    "Apply the formula:  \n",
    "\n",
    "$\\chi^2 = \\dfrac{(90-100)^2}{100} + \\dfrac{(100-100)^2}{100} + \\dfrac{(110-100)^2}{100} + \\ldots + \\dfrac{(95-100)^2}{100}$\n",
    "\n",
    "\n",
    "$\\chi^2 = \\dfrac{100}{100} + \\dfrac{0}{100} + \\dfrac{100}{100} + \\dfrac{0}{100} + \\dfrac{25}{100} + \\dfrac{25}{100} = 2.5$"
   ]
  },
  {
   "cell_type": "markdown",
   "id": "7df2b409",
   "metadata": {},
   "source": [
    "## Step 2 — Compute the p-value"
   ]
  },
  {
   "cell_type": "markdown",
   "id": "a58cb358",
   "metadata": {},
   "source": [
    "Once you have the chi-squared statistic $\\chi^2 = 2.5$, you calculate the p-value using the chi-squared distribution with: \n",
    "\n",
    "- degrees of freedom (df) = k − 1 = 6 − 1 = 5  \n",
    "\n",
    "In Python:"
   ]
  },
  {
   "cell_type": "code",
   "execution_count": 2,
   "id": "dab834c8",
   "metadata": {},
   "outputs": [],
   "source": [
    "from scipy.stats import chi2\n",
    "p_value = 1 - chi2.cdf(2.5, df=5)"
   ]
  },
  {
   "cell_type": "markdown",
   "id": "e4b14a59",
   "metadata": {},
   "source": [
    "This gives the probability that a chi-squared value $\\ge 2.5$ occurs by chance, assuming the null hypothesis is true."
   ]
  },
  {
   "cell_type": "markdown",
   "id": "2e50950f",
   "metadata": {},
   "source": [
    "📌 **Summary**\n",
    "\n",
    "|Step|What it does ?|\n",
    "|------|------------|\n",
    "|1. Chi-squared stat | Measures how far observed counts devriate from expected|\n",
    "|2. Degress of freedom | Number of categories minus 1|\n",
    "|3. p-value| Probability of seeing that deviation (or worse) by chance|\n",
    "|4. Decision| Reject $H_0$ if p-value < threshold (e.g., 0.05)|"
   ]
  },
  {
   "cell_type": "markdown",
   "id": "2351215a",
   "metadata": {},
   "source": [
    "**END**"
   ]
  }
 ],
 "metadata": {
  "kernelspec": {
   "display_name": ".venv",
   "language": "python",
   "name": "python3"
  },
  "language_info": {
   "codemirror_mode": {
    "name": "ipython",
    "version": 3
   },
   "file_extension": ".py",
   "mimetype": "text/x-python",
   "name": "python",
   "nbconvert_exporter": "python",
   "pygments_lexer": "ipython3",
   "version": "3.13.2"
  }
 },
 "nbformat": 4,
 "nbformat_minor": 5
}
