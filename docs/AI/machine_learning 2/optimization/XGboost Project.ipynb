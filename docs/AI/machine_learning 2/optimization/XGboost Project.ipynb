{
 "cells": [
  {
   "cell_type": "code",
   "execution_count": null,
   "id": "752d8691",
   "metadata": {},
   "outputs": [
    {
     "ename": "",
     "evalue": "",
     "output_type": "error",
     "traceback": [
      "\u001b[1;31mLes cellules en cours d’exécution avec Python 3.13.2 nécessitent le package ipykernel.\n",
      "\u001b[1;31mExécutez la commande suivante pour installer 'ipykernel' dans l’environnement Python. \n",
      "\u001b[1;31mCommande : '/opt/homebrew/bin/python3 -m pip install ipykernel -U --user --force-reinstall'"
     ]
    }
   ],
   "source": [
    "# Coder un Extreme Gradient Boosting"
   ]
  },
  {
   "cell_type": "code",
   "execution_count": null,
   "id": "9ce35153",
   "metadata": {},
   "outputs": [],
   "source": [
    "import numpy as np\n",
    "import pandas as pd\n",
    "import os"
   ]
  },
  {
   "cell_type": "code",
   "execution_count": null,
   "id": "6c70d919",
   "metadata": {},
   "outputs": [],
   "source": [
    "# 1. Gradient Boosting"
   ]
  },
  {
   "cell_type": "code",
   "execution_count": null,
   "id": "971686d5",
   "metadata": {},
   "outputs": [],
   "source": [
    "## 1.1. Fonctions de perte L2 et sa dérivée"
   ]
  },
  {
   "cell_type": "code",
   "execution_count": null,
   "id": "afcb0099",
   "metadata": {},
   "outputs": [],
   "source": [
    "# Fonction de perte L2\n",
    "def qloss(p,v):\n",
    "    return (p-v)**2"
   ]
  },
  {
   "cell_type": "code",
   "execution_count": null,
   "id": "94d4ef1d",
   "metadata": {},
   "outputs": [],
   "source": [
    "# Fonction dérivée de la perte L2\n",
    "def qloss_d(p,v):\n",
    "    return 2*(p-v)"
   ]
  },
  {
   "cell_type": "code",
   "execution_count": null,
   "id": "aeb626dd",
   "metadata": {},
   "outputs": [],
   "source": [
    "qloss_d(np.array([(2,4)]),np.array([(3,9)]))"
   ]
  },
  {
   "cell_type": "code",
   "execution_count": null,
   "id": "d0fcd881",
   "metadata": {},
   "outputs": [],
   "source": [
    "# Fonction qui retourne le meilleur estimateur au sens L2\n",
    "# Le y qui minimise la perte L2 par rapport au vecteur Yi\n",
    "def qloss_best_cst(y):\n",
    "    return y.mean()"
   ]
  },
  {
   "cell_type": "code",
   "execution_count": null,
   "id": "73012282",
   "metadata": {},
   "outputs": [],
   "source": [
    "qloss_best_cst(np.array([5,25]))"
   ]
  },
  {
   "cell_type": "code",
   "execution_count": null,
   "id": "65bd473f",
   "metadata": {},
   "outputs": [],
   "source": [
    "print(\"np.arange(-2,1,0.25): \", np.arange(-2,1,0.25))\n",
    "print(\"np.random.random_integers(-4,3): \", np.random.random_integers(-4,3))\n",
    "x = np.random.rand(1)\n",
    "print(\"np.random.rand(1): \", x,\"np.random.rand(1)[0]: \", x[0])"
   ]
  },
  {
   "cell_type": "code",
   "execution_count": null,
   "id": "5b632aed",
   "metadata": {},
   "outputs": [],
   "source": [
    "# Representation of the model\n",
    "# cst: constant\n",
    "# rho: coefficients vector\n",
    "# f: the model's list\n",
    "# preds: predictions\n",
    "\n",
    "dico = {'cst': 0, 'rho': 0, 'f': [], 'preds': []}"
   ]
  },
  {
   "cell_type": "code",
   "execution_count": null,
   "id": "fe57882d",
   "metadata": {},
   "outputs": [],
   "source": [
    "dico.keys()"
   ]
  },
  {
   "cell_type": "code",
   "execution_count": null,
   "id": "6f03f07e",
   "metadata": {},
   "outputs": [],
   "source": [
    "dico.values()"
   ]
  },
  {
   "cell_type": "code",
   "execution_count": null,
   "id": "ad338beb",
   "metadata": {},
   "outputs": [],
   "source": [
    "# Bagging\n",
    "# K models trained on a boostraped data and the final model is the average vote\n",
    "K=2\n",
    "dico_bag = {'cst': 0, 'rho': 1/K, 'f': [], 'preds': []}"
   ]
  },
  {
   "cell_type": "code",
   "execution_count": null,
   "id": "bfde985a",
   "metadata": {},
   "outputs": [],
   "source": [
    "dico_bag.values()"
   ]
  },
  {
   "cell_type": "code",
   "execution_count": null,
   "id": "4bd967c0",
   "metadata": {},
   "outputs": [],
   "source": [
    "def bagging(h, df, K):\n",
    "    for i in range(K):\n",
    "        x =1/(i+1)\n",
    "    return x"
   ]
  },
  {
   "cell_type": "code",
   "execution_count": null,
   "id": "6a1586c0",
   "metadata": {},
   "outputs": [],
   "source": [
    "bagging(h=0, df='', K=3)"
   ]
  },
  {
   "cell_type": "code",
   "execution_count": null,
   "id": "e248f94a",
   "metadata": {},
   "outputs": [],
   "source": [
    "#for i,j in enumerate(range(4)):\n",
    "#    dico['cle'].extend([1/(i+1)])"
   ]
  },
  {
   "cell_type": "code",
   "execution_count": null,
   "id": "94f2d783",
   "metadata": {},
   "outputs": [],
   "source": [
    "dico"
   ]
  },
  {
   "cell_type": "code",
   "execution_count": null,
   "id": "8cfed5ac",
   "metadata": {},
   "outputs": [],
   "source": [
    "# Import du dataset Boston Housing"
   ]
  },
  {
   "cell_type": "code",
   "execution_count": null,
   "id": "c9097614",
   "metadata": {},
   "outputs": [],
   "source": [
    "from sklearn import datasets"
   ]
  },
  {
   "cell_type": "code",
   "execution_count": null,
   "id": "bba103d2",
   "metadata": {},
   "outputs": [],
   "source": [
    "boston = datasets.load_boston()"
   ]
  },
  {
   "cell_type": "code",
   "execution_count": null,
   "id": "da1ebcf6",
   "metadata": {},
   "outputs": [],
   "source": [
    "X = boston.data"
   ]
  },
  {
   "cell_type": "code",
   "execution_count": null,
   "id": "3bd2afd5",
   "metadata": {},
   "outputs": [],
   "source": [
    "y = boston.target"
   ]
  },
  {
   "cell_type": "code",
   "execution_count": null,
   "id": "99628d82",
   "metadata": {},
   "outputs": [],
   "source": [
    "feature_name = boston.feature_names"
   ]
  },
  {
   "cell_type": "code",
   "execution_count": null,
   "id": "7e0e7aa3",
   "metadata": {},
   "outputs": [],
   "source": [
    "df = pd.DataFrame(X)"
   ]
  },
  {
   "cell_type": "code",
   "execution_count": null,
   "id": "a03921a6",
   "metadata": {},
   "outputs": [],
   "source": [
    "df.columns = feature_name"
   ]
  },
  {
   "cell_type": "code",
   "execution_count": null,
   "id": "7d2e5199",
   "metadata": {},
   "outputs": [],
   "source": [
    "df['PRICE'] = y"
   ]
  },
  {
   "cell_type": "code",
   "execution_count": null,
   "id": "d9989c1a",
   "metadata": {},
   "outputs": [],
   "source": [
    "df.head()"
   ]
  },
  {
   "cell_type": "code",
   "execution_count": null,
   "id": "6d7144ba",
   "metadata": {},
   "outputs": [],
   "source": [
    "import rpy2\n",
    "print(rpy2.__version__)"
   ]
  },
  {
   "cell_type": "code",
   "execution_count": null,
   "id": "39df787f",
   "metadata": {},
   "outputs": [],
   "source": [
    "import os\n",
    "os.getcwd()"
   ]
  },
  {
   "cell_type": "code",
   "execution_count": null,
   "id": "83fafd04",
   "metadata": {},
   "outputs": [],
   "source": [
    "for f in os.listdir(\"/Users/davidtbo/miniconda3/pkgs/r-base-4.0.3-hb6e1b8c_8/lib/R/lib\"):\n",
    "    print(f)"
   ]
  },
  {
   "cell_type": "code",
   "execution_count": null,
   "id": "23499d8a",
   "metadata": {},
   "outputs": [],
   "source": [
    "import os\n",
    "os.environ['R_HOME'] = '/Users/davidtbo/miniconda3/pkgs/r-base-4.0.3-hb6e1b8c_8/lib/R'"
   ]
  },
  {
   "cell_type": "code",
   "execution_count": null,
   "id": "18920d5a",
   "metadata": {},
   "outputs": [],
   "source": [
    "%load_ext rpy2.ipython"
   ]
  },
  {
   "cell_type": "code",
   "execution_count": null,
   "id": "d499421a",
   "metadata": {},
   "outputs": [],
   "source": [
    "import rpy2.robjects as robjects"
   ]
  },
  {
   "cell_type": "code",
   "execution_count": null,
   "id": "f3ac823a",
   "metadata": {},
   "outputs": [],
   "source": [
    "import rpy2.robjects.packages as rpackages"
   ]
  },
  {
   "cell_type": "code",
   "execution_count": null,
   "id": "a2217523",
   "metadata": {},
   "outputs": [],
   "source": [
    "!cd ../../../../../davidtbo"
   ]
  },
  {
   "cell_type": "code",
   "execution_count": null,
   "id": "60a9b40a",
   "metadata": {},
   "outputs": [],
   "source": [
    "!cd ../../../../../davidtbo/miniconda3/pkgs/r-base-4.0.3-hb6e1b8c_8/lib"
   ]
  },
  {
   "cell_type": "code",
   "execution_count": null,
   "id": "fdb1891c",
   "metadata": {},
   "outputs": [],
   "source": [
    "!cd /Library/Frameworks/R.framework/Versions/4.0/Resources/library\n",
    "!ls"
   ]
  },
  {
   "cell_type": "code",
   "execution_count": null,
   "id": "ed8789ac",
   "metadata": {},
   "outputs": [],
   "source": [
    "/Users/davidtbo/miniconda3/pkgs/r-base-4.0.3-hb6e1b8c_8/lib/R/lib"
   ]
  },
  {
   "cell_type": "code",
   "execution_count": null,
   "id": "48b724c4",
   "metadata": {},
   "outputs": [],
   "source": [
    "import os\n",
    "os.environ['R_HOME'] = '/Library/Frameworks/R.framework/Versions/4.0/Resources/library'"
   ]
  },
  {
   "cell_type": "code",
   "execution_count": null,
   "id": "d7e63ae6",
   "metadata": {},
   "outputs": [],
   "source": [
    "from rpy2.robjects.packages import importr"
   ]
  },
  {
   "cell_type": "code",
   "execution_count": null,
   "id": "955575b9",
   "metadata": {},
   "outputs": [],
   "source": [
    "# import R's \"base\" package\n",
    "base = importr('base')"
   ]
  },
  {
   "cell_type": "code",
   "execution_count": null,
   "id": "bf4b312b",
   "metadata": {},
   "outputs": [],
   "source": [
    "# import R's \"utils\" package\n",
    "utils = importr('utils')"
   ]
  },
  {
   "cell_type": "code",
   "execution_count": null,
   "id": "dbe93095",
   "metadata": {},
   "outputs": [],
   "source": [
    "%load_ext rpy2.ipython"
   ]
  },
  {
   "cell_type": "code",
   "execution_count": null,
   "id": "414371b8",
   "metadata": {},
   "outputs": [],
   "source": [
    "import rpy2.robjects as robjects\n",
    "import rpy2.rinterface as rinterface\n",
    "from rpy2.robjects.packages import importr"
   ]
  },
  {
   "cell_type": "code",
   "execution_count": null,
   "id": "f04ccb50",
   "metadata": {},
   "outputs": [],
   "source": [
    "%R x<-3\n",
    "%R x"
   ]
  },
  {
   "cell_type": "code",
   "execution_count": null,
   "id": "4073b35b",
   "metadata": {},
   "outputs": [],
   "source": [
    "%R qloss = function(p,v) {f = (p-v)^2 return(f)}"
   ]
  },
  {
   "cell_type": "code",
   "execution_count": null,
   "id": "2c6c1d28",
   "metadata": {},
   "outputs": [],
   "source": [
    "%R qloss(c(1,2,3),c(3,4,5))"
   ]
  }
 ],
 "metadata": {
  "kernelspec": {
   "display_name": "Python 3",
   "language": "python",
   "name": "python3"
  },
  "language_info": {
   "codemirror_mode": {
    "name": "ipython",
    "version": 3
   },
   "file_extension": ".py",
   "mimetype": "text/x-python",
   "name": "python",
   "nbconvert_exporter": "python",
   "pygments_lexer": "ipython3",
   "version": "3.13.2"
  },
  "toc": {
   "base_numbering": 1,
   "nav_menu": {},
   "number_sections": true,
   "sideBar": true,
   "skip_h1_title": false,
   "title_cell": "Table of Contents",
   "title_sidebar": "Contents",
   "toc_cell": false,
   "toc_position": {},
   "toc_section_display": true,
   "toc_window_display": false
  }
 },
 "nbformat": 4,
 "nbformat_minor": 5
}
