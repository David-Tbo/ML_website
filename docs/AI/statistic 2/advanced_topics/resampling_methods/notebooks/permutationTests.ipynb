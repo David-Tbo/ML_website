{
 "cells": [
  {
   "cell_type": "markdown",
   "id": "b9e17c34",
   "metadata": {},
   "source": [
    "# Permutations Tests"
   ]
  },
  {
   "cell_type": "markdown",
   "id": "9fe971c8",
   "metadata": {},
   "source": []
  }
 ],
 "metadata": {
  "kernelspec": {
   "display_name": "base",
   "language": "python",
   "name": "python3"
  },
  "language_info": {
   "codemirror_mode": {
    "name": "ipython",
    "version": 3
   },
   "file_extension": ".py",
   "mimetype": "text/x-python",
   "name": "python",
   "nbconvert_exporter": "python",
   "pygments_lexer": "ipython3",
   "version": "3.11.10"
  }
 },
 "nbformat": 4,
 "nbformat_minor": 5
}
