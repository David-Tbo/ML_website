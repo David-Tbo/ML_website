{
 "cells": [
  {
   "cell_type": "markdown",
   "metadata": {},
   "source": [
    "## Executive Master Statistique et Big Data: Année 2020-2021 - Université Paris-Dauphine\n",
    "\n",
    "## Régression non-paramétrique\n",
    "### Cours enseigné par Céline Duval \n",
    "\n",
    "### Devoir Maison rédigé par David Thébault\n"
   ]
  },
  {
   "cell_type": "markdown",
   "metadata": {},
   "source": [
    "### Cadre\n",
    "\n",
    "On dispose de données $(Xi, Yi)_{1 \\leq i \\leq 5000} $,  où les $X_i$ et les $Y_i$ sont des réalisations de variables\n",
    "aléatoires réelles admettant la représentation\n",
    "\n",
    "$ Y_i = r(X_i) + \\sigma(X_i)*\\xi_i  $ avec $ 1 \\leq i \\leq 5000 $\n",
    "\n",
    "- Les $\\xi_i$ sont indépendantes et identiquement distribuées, avec $E[\\xi_1] = 0 $, et $E[\\xi_1^2] = 1$, et ont une densité $\\mu$.\n",
    "\n",
    "- La fonction $x \\mapsto \\sigma(x)$ est strictement positive. Si $\\sigma$ est constante on parle d'un modèle\n",
    "homoscédastique, sinon le modèle est dit hétéroscédastique.\n",
    "\n",
    "- Les $X_i$ sont indépendantes et identiquement distribuées de densité $g : [1; 6] \\mapsto \\mathbb{R}_+$, et\n",
    "indépendantes des $\\xi_i$.\n",
    "\n",
    "- La fonction $r : \\mathbb{R} \\mapsto\\mathbb{R}$, vérifie $|r(x)| \\leq 2$ pour tout $x \\in [1; 6]$."
   ]
  },
  {
   "cell_type": "markdown",
   "metadata": {},
   "source": [
    "On dispose de deux jeux de données, Data1 et Data2, dont la première colonne correspond\n",
    "aux $X_i$ et la seconde colonne correspond aux $Y_i$.\n",
    "\n",
    "- Data1: Dans ce jeu de données la variance des erreurs ne dépend pas de $X$ (modèle homoscédastique).\n",
    "\n",
    "- Data2 : Les différences avec les donnees Data1 sont la loi $\\mu$ des erreurs $\\xi$ et le fait que\n",
    "$\\sigma$ est non constante (modèle hétéroscédastique).\n",
    "\n",
    "\n",
    "On a les mêmes valeurs pour les $X_i$ et la même fonction de régression r dans Data1 et Data2."
   ]
  },
  {
   "cell_type": "markdown",
   "metadata": {},
   "source": [
    "### Objectifs\n",
    "\n",
    "Les objectifs des 3 parties qui suivent sont :\n",
    "1. Reconstruire $x \\mapsto g(x)$ graphiquement et étudier si $g$ est la densité uniforme ou non.\n",
    "2. Reconstruire $x \\mapsto r(x)$ graphiquement.\n",
    "3. Explorer les propriétés de $x \\mapsto \\mu(x)$ et $x \\mapsto \\sigma(x)$."
   ]
  },
  {
   "cell_type": "markdown",
   "metadata": {},
   "source": [
    "### 1. Etude de la densité g des X\n",
    "\n",
    "Pour cette partie on utilisera la première colonne des données __Data1__.\n",
    "\n",
    "1.1. Construire un estimateur à noyau $\\hat{g}_{n,h}(x)$ de $g(x)$ pour une fenêtre de lissage $h > 0$ donnée et représenter graphiquement $x \\mapsto \\hat{g}_{n,h}(x)$ pour différentes valeurs de h que vous choisirez. On discutera la raison pour laquelle ce choix est important."
   ]
  },
  {
   "cell_type": "code",
   "execution_count": 138,
   "metadata": {},
   "outputs": [],
   "source": [
    "# import des librairies\n",
    "\n",
    "from IPython.core.interactiveshell import InteractiveShell\n",
    "InteractiveShell.ast_node_interactivity = \"all\"\n",
    "\n",
    "from math import *\n",
    "\n",
    "import pandas as pd # gestion de données de type DataFrame\n",
    "import numpy as np # gestion des tableaux et opérations d'algèbre linéaire de base\n",
    "import matplotlib.pyplot as plt # graphes\n",
    "import matplotlib as mpl # statistics et visualisation\n",
    "import os.path # gestion des path\n",
    "import scipy.stats as st # librairie de calcul scientifique basée sur numpy, import du package statistiques\n",
    "\n",
    "from scipy.stats import expon\n",
    "\n",
    "# Deux fonctions (au moins) permettent de faire de l'estimation à noyau sous Python\n",
    "# La première KDEUnivarite\n",
    "from statsmodels.nonparametric.kde import KDEUnivariate \n",
    "from statsmodels.nonparametric.kernel_regression import KernelReg # NW et Polynome locaux p=0\n",
    "import statsmodels.nonparametric.bandwidths\n",
    "# La seconde KernelDensity\n",
    "from sklearn.neighbors import KernelDensity\n",
    "from sklearn.model_selection import GridSearchCV\n",
    "#from sklearn_extensions.kernel_regression import KernelRegression\n"
   ]
  },
  {
   "cell_type": "code",
   "execution_count": 139,
   "metadata": {},
   "outputs": [],
   "source": [
    "# Nous allons commencer par charger les données Data1.csv et Data2.csv\n",
    "\n",
    "path_work_win = r'/Users/davidtbo/OneDrive/Documents/Data_Science/10_Régression_non_paramétrique'\n",
    "path_win_Data1 = os.path.join(path_work_win, 'Data1.csv')\n",
    "path_win_Data2 = os.path.join(path_work_win, 'Data2.csv')\n",
    "\n",
    "path_win_Data1 = path_win_Data1.replace(\"\\\\\",\"/\")\n",
    "path_win_Data1 = path_win_Data1.replace(\"\\\\\",\"/\")\n",
    "\n",
    "if os.path.isfile(path_win_Data1):\n",
    "\n",
    "    Data1 = pd.read_csv(path_win_Data1)\n",
    "\n",
    "else:\n",
    "\n",
    "    print(\"absence du fichier: \",path_win_Data1)\n",
    "\n",
    "if os.path.isfile(path_win_Data2):\n",
    "\n",
    "    Data2 = pd.read_csv(path_win_Data2)\n",
    "\n",
    "else:\n",
    "\n",
    "    print(\"absence du fichier: \",path_win_Data2)\n"
   ]
  },
  {
   "cell_type": "code",
   "execution_count": 140,
   "metadata": {},
   "outputs": [
    {
     "data": {
      "text/html": [
       "<div>\n",
       "<style scoped>\n",
       "    .dataframe tbody tr th:only-of-type {\n",
       "        vertical-align: middle;\n",
       "    }\n",
       "\n",
       "    .dataframe tbody tr th {\n",
       "        vertical-align: top;\n",
       "    }\n",
       "\n",
       "    .dataframe thead th {\n",
       "        text-align: right;\n",
       "    }\n",
       "</style>\n",
       "<table border=\"1\" class=\"dataframe\">\n",
       "  <thead>\n",
       "    <tr style=\"text-align: right;\">\n",
       "      <th></th>\n",
       "      <th>Unnamed: 0</th>\n",
       "      <th>X</th>\n",
       "      <th>Y1</th>\n",
       "    </tr>\n",
       "  </thead>\n",
       "  <tbody>\n",
       "    <tr>\n",
       "      <th>0</th>\n",
       "      <td>1</td>\n",
       "      <td>1.034366</td>\n",
       "      <td>1.035967</td>\n",
       "    </tr>\n",
       "    <tr>\n",
       "      <th>1</th>\n",
       "      <td>2</td>\n",
       "      <td>3.643734</td>\n",
       "      <td>1.368706</td>\n",
       "    </tr>\n",
       "    <tr>\n",
       "      <th>2</th>\n",
       "      <td>3</td>\n",
       "      <td>5.701457</td>\n",
       "      <td>1.030205</td>\n",
       "    </tr>\n",
       "    <tr>\n",
       "      <th>3</th>\n",
       "      <td>4</td>\n",
       "      <td>5.420473</td>\n",
       "      <td>1.309923</td>\n",
       "    </tr>\n",
       "    <tr>\n",
       "      <th>4</th>\n",
       "      <td>5</td>\n",
       "      <td>1.009888</td>\n",
       "      <td>1.065813</td>\n",
       "    </tr>\n",
       "  </tbody>\n",
       "</table>\n",
       "</div>"
      ],
      "text/plain": [
       "   Unnamed: 0         X        Y1\n",
       "0           1  1.034366  1.035967\n",
       "1           2  3.643734  1.368706\n",
       "2           3  5.701457  1.030205\n",
       "3           4  5.420473  1.309923\n",
       "4           5  1.009888  1.065813"
      ]
     },
     "execution_count": 140,
     "metadata": {},
     "output_type": "execute_result"
    },
    {
     "data": {
      "text/html": [
       "<div>\n",
       "<style scoped>\n",
       "    .dataframe tbody tr th:only-of-type {\n",
       "        vertical-align: middle;\n",
       "    }\n",
       "\n",
       "    .dataframe tbody tr th {\n",
       "        vertical-align: top;\n",
       "    }\n",
       "\n",
       "    .dataframe thead th {\n",
       "        text-align: right;\n",
       "    }\n",
       "</style>\n",
       "<table border=\"1\" class=\"dataframe\">\n",
       "  <thead>\n",
       "    <tr style=\"text-align: right;\">\n",
       "      <th></th>\n",
       "      <th>Unnamed: 0</th>\n",
       "      <th>X</th>\n",
       "      <th>Y2</th>\n",
       "    </tr>\n",
       "  </thead>\n",
       "  <tbody>\n",
       "    <tr>\n",
       "      <th>0</th>\n",
       "      <td>1</td>\n",
       "      <td>1.034366</td>\n",
       "      <td>0.458698</td>\n",
       "    </tr>\n",
       "    <tr>\n",
       "      <th>1</th>\n",
       "      <td>2</td>\n",
       "      <td>3.643734</td>\n",
       "      <td>1.439542</td>\n",
       "    </tr>\n",
       "    <tr>\n",
       "      <th>2</th>\n",
       "      <td>3</td>\n",
       "      <td>5.701457</td>\n",
       "      <td>0.907269</td>\n",
       "    </tr>\n",
       "    <tr>\n",
       "      <th>3</th>\n",
       "      <td>4</td>\n",
       "      <td>5.420473</td>\n",
       "      <td>1.807085</td>\n",
       "    </tr>\n",
       "    <tr>\n",
       "      <th>4</th>\n",
       "      <td>5</td>\n",
       "      <td>1.009888</td>\n",
       "      <td>1.393327</td>\n",
       "    </tr>\n",
       "  </tbody>\n",
       "</table>\n",
       "</div>"
      ],
      "text/plain": [
       "   Unnamed: 0         X        Y2\n",
       "0           1  1.034366  0.458698\n",
       "1           2  3.643734  1.439542\n",
       "2           3  5.701457  0.907269\n",
       "3           4  5.420473  1.807085\n",
       "4           5  1.009888  1.393327"
      ]
     },
     "execution_count": 140,
     "metadata": {},
     "output_type": "execute_result"
    }
   ],
   "source": [
    "Data1.head(5)\n",
    "Data2.head(5)"
   ]
  },
  {
   "cell_type": "code",
   "execution_count": 141,
   "metadata": {},
   "outputs": [
    {
     "data": {
      "text/plain": [
       "pandas.core.frame.DataFrame"
      ]
     },
     "execution_count": 141,
     "metadata": {},
     "output_type": "execute_result"
    }
   ],
   "source": [
    "type(Data1)"
   ]
  },
  {
   "cell_type": "code",
   "execution_count": 142,
   "metadata": {},
   "outputs": [
    {
     "data": {
      "text/plain": [
       "(5000, 3)"
      ]
     },
     "execution_count": 142,
     "metadata": {},
     "output_type": "execute_result"
    }
   ],
   "source": [
    "Data1.shape"
   ]
  },
  {
   "cell_type": "markdown",
   "metadata": {},
   "source": [
    "Résumé statistique des $X_i$, $Y_i$ des deux jeux de données Data1 et Data2"
   ]
  },
  {
   "cell_type": "code",
   "execution_count": 143,
   "metadata": {},
   "outputs": [
    {
     "data": {
      "text/html": [
       "<div>\n",
       "<style scoped>\n",
       "    .dataframe tbody tr th:only-of-type {\n",
       "        vertical-align: middle;\n",
       "    }\n",
       "\n",
       "    .dataframe tbody tr th {\n",
       "        vertical-align: top;\n",
       "    }\n",
       "\n",
       "    .dataframe thead th {\n",
       "        text-align: right;\n",
       "    }\n",
       "</style>\n",
       "<table border=\"1\" class=\"dataframe\">\n",
       "  <thead>\n",
       "    <tr style=\"text-align: right;\">\n",
       "      <th></th>\n",
       "      <th>Unnamed: 0</th>\n",
       "      <th>X</th>\n",
       "      <th>Y1</th>\n",
       "    </tr>\n",
       "  </thead>\n",
       "  <tbody>\n",
       "    <tr>\n",
       "      <th>count</th>\n",
       "      <td>5000.000000</td>\n",
       "      <td>5000.000000</td>\n",
       "      <td>5000.000000</td>\n",
       "    </tr>\n",
       "    <tr>\n",
       "      <th>mean</th>\n",
       "      <td>2500.500000</td>\n",
       "      <td>3.527486</td>\n",
       "      <td>1.235370</td>\n",
       "    </tr>\n",
       "    <tr>\n",
       "      <th>std</th>\n",
       "      <td>1443.520003</td>\n",
       "      <td>1.839532</td>\n",
       "      <td>0.585506</td>\n",
       "    </tr>\n",
       "    <tr>\n",
       "      <th>min</th>\n",
       "      <td>1.000000</td>\n",
       "      <td>1.000000</td>\n",
       "      <td>-4.952235</td>\n",
       "    </tr>\n",
       "    <tr>\n",
       "      <th>25%</th>\n",
       "      <td>1250.750000</td>\n",
       "      <td>1.617688</td>\n",
       "      <td>0.833701</td>\n",
       "    </tr>\n",
       "    <tr>\n",
       "      <th>50%</th>\n",
       "      <td>2500.500000</td>\n",
       "      <td>3.576746</td>\n",
       "      <td>1.175970</td>\n",
       "    </tr>\n",
       "    <tr>\n",
       "      <th>75%</th>\n",
       "      <td>3750.250000</td>\n",
       "      <td>5.418334</td>\n",
       "      <td>1.536368</td>\n",
       "    </tr>\n",
       "    <tr>\n",
       "      <th>max</th>\n",
       "      <td>5000.000000</td>\n",
       "      <td>6.000000</td>\n",
       "      <td>10.325009</td>\n",
       "    </tr>\n",
       "  </tbody>\n",
       "</table>\n",
       "</div>"
      ],
      "text/plain": [
       "        Unnamed: 0            X           Y1\n",
       "count  5000.000000  5000.000000  5000.000000\n",
       "mean   2500.500000     3.527486     1.235370\n",
       "std    1443.520003     1.839532     0.585506\n",
       "min       1.000000     1.000000    -4.952235\n",
       "25%    1250.750000     1.617688     0.833701\n",
       "50%    2500.500000     3.576746     1.175970\n",
       "75%    3750.250000     5.418334     1.536368\n",
       "max    5000.000000     6.000000    10.325009"
      ]
     },
     "execution_count": 143,
     "metadata": {},
     "output_type": "execute_result"
    },
    {
     "data": {
      "text/html": [
       "<div>\n",
       "<style scoped>\n",
       "    .dataframe tbody tr th:only-of-type {\n",
       "        vertical-align: middle;\n",
       "    }\n",
       "\n",
       "    .dataframe tbody tr th {\n",
       "        vertical-align: top;\n",
       "    }\n",
       "\n",
       "    .dataframe thead th {\n",
       "        text-align: right;\n",
       "    }\n",
       "</style>\n",
       "<table border=\"1\" class=\"dataframe\">\n",
       "  <thead>\n",
       "    <tr style=\"text-align: right;\">\n",
       "      <th></th>\n",
       "      <th>Unnamed: 0</th>\n",
       "      <th>X</th>\n",
       "      <th>Y2</th>\n",
       "    </tr>\n",
       "  </thead>\n",
       "  <tbody>\n",
       "    <tr>\n",
       "      <th>count</th>\n",
       "      <td>5000.000000</td>\n",
       "      <td>5000.000000</td>\n",
       "      <td>5000.000000</td>\n",
       "    </tr>\n",
       "    <tr>\n",
       "      <th>mean</th>\n",
       "      <td>2500.500000</td>\n",
       "      <td>3.527486</td>\n",
       "      <td>1.226723</td>\n",
       "    </tr>\n",
       "    <tr>\n",
       "      <th>std</th>\n",
       "      <td>1443.520003</td>\n",
       "      <td>1.839532</td>\n",
       "      <td>2.075400</td>\n",
       "    </tr>\n",
       "    <tr>\n",
       "      <th>min</th>\n",
       "      <td>1.000000</td>\n",
       "      <td>1.000000</td>\n",
       "      <td>-7.603334</td>\n",
       "    </tr>\n",
       "    <tr>\n",
       "      <th>25%</th>\n",
       "      <td>1250.750000</td>\n",
       "      <td>1.617688</td>\n",
       "      <td>0.233537</td>\n",
       "    </tr>\n",
       "    <tr>\n",
       "      <th>50%</th>\n",
       "      <td>2500.500000</td>\n",
       "      <td>3.576746</td>\n",
       "      <td>1.046899</td>\n",
       "    </tr>\n",
       "    <tr>\n",
       "      <th>75%</th>\n",
       "      <td>3750.250000</td>\n",
       "      <td>5.418334</td>\n",
       "      <td>2.250319</td>\n",
       "    </tr>\n",
       "    <tr>\n",
       "      <th>max</th>\n",
       "      <td>5000.000000</td>\n",
       "      <td>6.000000</td>\n",
       "      <td>10.562283</td>\n",
       "    </tr>\n",
       "  </tbody>\n",
       "</table>\n",
       "</div>"
      ],
      "text/plain": [
       "        Unnamed: 0            X           Y2\n",
       "count  5000.000000  5000.000000  5000.000000\n",
       "mean   2500.500000     3.527486     1.226723\n",
       "std    1443.520003     1.839532     2.075400\n",
       "min       1.000000     1.000000    -7.603334\n",
       "25%    1250.750000     1.617688     0.233537\n",
       "50%    2500.500000     3.576746     1.046899\n",
       "75%    3750.250000     5.418334     2.250319\n",
       "max    5000.000000     6.000000    10.562283"
      ]
     },
     "execution_count": 143,
     "metadata": {},
     "output_type": "execute_result"
    }
   ],
   "source": [
    "Data1.describe()\n",
    "Data2.describe()"
   ]
  },
  {
   "cell_type": "markdown",
   "metadata": {},
   "source": [
    "Représentons graphiquemenent, par un histogramme, la variable X."
   ]
  },
  {
   "cell_type": "code",
   "execution_count": 144,
   "metadata": {},
   "outputs": [
    {
     "data": {
      "text/plain": [
       "<AxesSubplot:ylabel='Frequency'>"
      ]
     },
     "execution_count": 144,
     "metadata": {},
     "output_type": "execute_result"
    },
    {
     "data": {
      "image/png": "[encoded data removed]",
      "text/plain": [
       "<Figure size 432x288 with 1 Axes>"
      ]
     },
     "metadata": {
      "needs_background": "light"
     },
     "output_type": "display_data"
    }
   ],
   "source": [
    "Data1.X.plot(kind = \"hist\")"
   ]
  },
  {
   "cell_type": "markdown",
   "metadata": {},
   "source": [
    "La distribution de $X$ est bimodale. La variable $X$ ne suit pas la loi normale."
   ]
  },
  {
   "cell_type": "markdown",
   "metadata": {},
   "source": [
    "## 1. Etude de la densité g des X"
   ]
  },
  {
   "cell_type": "markdown",
   "metadata": {},
   "source": [
    "_Pour cette partie on utilisera la première colonne des données_ __Data1__.\n",
    "\n",
    "### 1.1. Estimateur à noyau $\\hat{g}_{n,h}(x)$ de la densité $g(x)$\n",
    "\n",
    "Construire un estimateur à noyau $\\hat{g}_{n,h}(x)$ de $g(x)$ pour une fenêtre de lissage $h > 0$ donnée et représenter graphiquement $x \\mapsto \\hat{g}_{n,h}(x)$ pour différentes valeurs de h que vous choisirez. On discutera la raison pour laquelle ce choix est important."
   ]
  },
  {
   "cell_type": "markdown",
   "metadata": {},
   "source": [
    "Pour construire un estimateur à noyau $\\hat{g}_{n,h}(x)$ de $g(x)$ pour une fenêtre de lissage $h > 0$ donnée, nous reprenons la fonction vue en cours qui utilise la méthode KDEUnivariate."
   ]
  },
  {
   "cell_type": "code",
   "execution_count": 145,
   "metadata": {},
   "outputs": [],
   "source": [
    "def g_hat(grid , X, h, **kwargs):\n",
    "    \"\"\"Univariate Kernel Density Estimation with Statsmodels\"\"\" \n",
    "    # grid: grille de points où l'estimateur de $g$ sera évalué\n",
    "    # X: échantillon (X_1,..., X_n)\n",
    "    # h: choix de la taille de la fenêtre\n",
    "    # **kwargs: arguments optionels Par défaut le noyau gaussien est utilisé\n",
    "    kde = KDEUnivariate(X)\n",
    "    kde.fit(bw = h, **kwargs)\n",
    "    return kde.evaluate(grid)"
   ]
  },
  {
   "cell_type": "markdown",
   "metadata": {},
   "source": [
    "Ci-dessous nous représentons graphiquement la fonction $x \\mapsto \\hat{g}_{n,h}(x)$ pour différentes valeurs du paramètre de lissage h que nous avons déterminées."
   ]
  },
  {
   "cell_type": "code",
   "execution_count": 146,
   "metadata": {},
   "outputs": [
    {
     "data": {
      "text/plain": [
       "<matplotlib.legend.Legend at 0x7ff589437b80>"
      ]
     },
     "execution_count": 146,
     "metadata": {},
     "output_type": "execute_result"
    },
    {
     "data": {
      "text/plain": [
       "Text(0.5, 0, 'X')"
      ]
     },
     "execution_count": 146,
     "metadata": {},
     "output_type": "execute_result"
    },
    {
     "data": {
      "text/plain": [
       "Text(0, 0.5, 'fonction densité')"
      ]
     },
     "execution_count": 146,
     "metadata": {},
     "output_type": "execute_result"
    },
    {
     "data": {
      "text/plain": [
       "Text(0.5, 1.0, 'Représentation de la densité')"
      ]
     },
     "execution_count": 146,
     "metadata": {},
     "output_type": "execute_result"
    },
    {
     "data": {
      "image/png": "[encoded data removed]",
      "text/plain": [
       "<Figure size 432x288 with 1 Axes>"
      ]
     },
     "metadata": {
      "needs_background": "light"
     },
     "output_type": "display_data"
    }
   ],
   "source": [
    "grid = np.linspace(-1,10,500)\n",
    "g1,  = plt.plot(grid, g_hat(grid, Data1['X'],h=0.1))\n",
    "g3,  = plt.plot(grid, g_hat(grid, Data1['X'],h=0.3))\n",
    "g5,  = plt.plot(grid, g_hat(grid, Data1['X'],h=0.5))\n",
    "g7,  = plt.plot(grid, g_hat(grid, Data1['X'],h=0.7))\n",
    "g9,  = plt.plot(grid, g_hat(grid, Data1['X'],h=0.9))\n",
    "g11, = plt.plot(grid, g_hat(grid, Data1['X'],h=1.1))\n",
    "g13, = plt.plot(grid, g_hat(grid, Data1['X'],h=1.3))\n",
    "g15, = plt.plot(grid, g_hat(grid, Data1['X'],h=1.5))\n",
    "\n",
    "plt.legend([g1, g3, g5, g7, g9, g11, g13, g15], ['h = 0,1', 'h = 0,3', 'h = 0,7', 'h = 0,9', 'h = 1,1', 'h = 1,3', 'h = 1,5'],\n",
    "              loc = 'upper right' , title = 'Légende')\n",
    "plt.xlabel('X')\n",
    "plt.ylabel('fonction densité')\n",
    "plt.title('Représentation de la densité')"
   ]
  },
  {
   "cell_type": "markdown",
   "metadata": {},
   "source": [
    "- Pour les valeurs de h, $h \\in ]0; 1.5]$.\n",
    "    - La densité est bimodale, \n",
    "    - Plus h est grand, plus les deux bosses deviennent plates\n",
    "    - Pour $h = 0.1$ on observe une plus grande volatilité autour de la moyenne."
   ]
  },
  {
   "cell_type": "code",
   "execution_count": 147,
   "metadata": {},
   "outputs": [
    {
     "data": {
      "text/plain": [
       "<matplotlib.legend.Legend at 0x7ff5aa276520>"
      ]
     },
     "execution_count": 147,
     "metadata": {},
     "output_type": "execute_result"
    },
    {
     "data": {
      "text/plain": [
       "Text(0.5, 0, 'X')"
      ]
     },
     "execution_count": 147,
     "metadata": {},
     "output_type": "execute_result"
    },
    {
     "data": {
      "text/plain": [
       "Text(0, 0.5, 'fonction densité')"
      ]
     },
     "execution_count": 147,
     "metadata": {},
     "output_type": "execute_result"
    },
    {
     "data": {
      "text/plain": [
       "Text(0.5, 1.0, 'Représentation de la densité')"
      ]
     },
     "execution_count": 147,
     "metadata": {},
     "output_type": "execute_result"
    },
    {
     "data": {
      "image/png": "[encoded data removed]",
      "text/plain": [
       "<Figure size 432x288 with 1 Axes>"
      ]
     },
     "metadata": {
      "needs_background": "light"
     },
     "output_type": "display_data"
    }
   ],
   "source": [
    "grid = np.linspace(-1,10,500)\n",
    "g17,  = plt.plot(grid, g_hat(grid, Data1['X'],h=1.7))\n",
    "g19,  = plt.plot(grid, g_hat(grid, Data1['X'],h=1.9))\n",
    "g100, = plt.plot(grid, g_hat(grid, Data1['X'],h=10))\n",
    "\n",
    "plt.legend([g17, g19, g100], ['h = 1,7', 'h = 1,9', 'h = 10'],\n",
    "              loc = 'upper right' , title = 'Légende')\n",
    "plt.xlabel('X')\n",
    "plt.ylabel('fonction densité')\n",
    "plt.title('Représentation de la densité')"
   ]
  },
  {
   "cell_type": "markdown",
   "metadata": {},
   "source": [
    "- Pour $h > 1,5$ :\n",
    "    - la densité est unimodale\n",
    "    - la variable est centrée,\n",
    "    - Pour $h = 10$, la densité devient quasiment plate."
   ]
  },
  {
   "cell_type": "markdown",
   "metadata": {},
   "source": [
    "Le choix de h est primordial car si cet hyperparamètre est trop grand, le lissage ne permettra pas de reproduire la forme bimodale observée grâce à l'histogramme. Si h est trop petit, on observe une relativement forte volatilité de la densité autour de la moyenne, la variance est plus grande. Ce que l'on gagne en précision avec h petit (biais plus petit sous condition de régularité de g), impacte négativement la variance qui augmente. Le choix de h est un compromis biais-variance - biais contrôlé et une variance petite - comme souvent en statistiques."
   ]
  },
  {
   "cell_type": "markdown",
   "metadata": {},
   "source": [
    "D'une part les caractéristiques des données semblent être mieux représentées quand $h \\leq 1.5$ et d'autre part avec les effets observés précédemment sur la variance d'un h trop petit, on aurait tendance à privilégier $h \\geq 0.1$."
   ]
  },
  {
   "cell_type": "markdown",
   "metadata": {},
   "source": [
    "### 1.2. Représentation graphique de l'estimateur $\\hat{g}_{n,h}(x)$ de la densité $g(x)$"
   ]
  },
  {
   "cell_type": "markdown",
   "metadata": {},
   "source": [
    "- Nous avons besoin de déterminer l'estimateur de la fenêtre h noté $ \\hat{h}_n $ "
   ]
  },
  {
   "cell_type": "markdown",
   "metadata": {},
   "source": [
    "- La règle du pouce de Silverman et celle de Scott nous fournissent une première approximation de h pour les fonctions de densité deux fois dérivable. L'hyperparamètre h1 de Scott se retrouve par la formule suivante: $h_{est} = 1.06*\\sigma(X)*n^{\\frac{-1}{2\\alpha + 1}}$ avec ici $\\alpha = 2$ pour g deux fois dérivable.\n"
   ]
  },
  {
   "cell_type": "code",
   "execution_count": 148,
   "metadata": {},
   "outputs": [
    {
     "data": {
      "text/plain": [
       "(0.35495697624782646, 0.3546575787072305, 0.3014087071166265)"
      ]
     },
     "execution_count": 148,
     "metadata": {},
     "output_type": "execute_result"
    }
   ],
   "source": [
    "n= 5000\n",
    "h1 = statsmodels.nonparametric.bandwidths.bw_scott(Data1['X'])\n",
    "h2 = statsmodels.nonparametric.bandwidths.bw_silverman(Data1['X'])\n",
    "(1.06*np.sqrt(np.var(Data1['X']))*n**(-1/5), h1, h2)"
   ]
  },
  {
   "cell_type": "markdown",
   "metadata": {},
   "source": [
    "Les estimateurs h1 et h2 (Scott et Silverman) de l'hyperparamètre h sont calculés en faisant l'hypothèse que la densité g des $X_i$ est deux fois dérivable, mais la fonction de densité peut être dérivable plus de deux fois. \n",
    "A contratrio, si par exemple la densité n'était qu'une fois dérivable, l'estimateur de Scott serait égal à:"
   ]
  },
  {
   "cell_type": "code",
   "execution_count": 149,
   "metadata": {},
   "outputs": [
    {
     "data": {
      "text/plain": [
       "0.11401965315212556"
      ]
     },
     "execution_count": 149,
     "metadata": {},
     "output_type": "execute_result"
    }
   ],
   "source": [
    "n=5000\n",
    "1.06*np.sqrt(np.var(Data1['X']))*n**(-1/3)"
   ]
  },
  {
   "cell_type": "markdown",
   "metadata": {},
   "source": [
    "Estimation de h par validation croisée (leave one out)"
   ]
  },
  {
   "cell_type": "code",
   "execution_count": 150,
   "metadata": {},
   "outputs": [
    {
     "data": {
      "text/plain": [
       "array([0.        , 0.03448276, 0.06896552, 0.10344828, 0.13793103,\n",
       "       0.17241379, 0.20689655, 0.24137931, 0.27586207, 0.31034483,\n",
       "       0.34482759, 0.37931034, 0.4137931 , 0.44827586, 0.48275862,\n",
       "       0.51724138, 0.55172414, 0.5862069 , 0.62068966, 0.65517241,\n",
       "       0.68965517, 0.72413793, 0.75862069, 0.79310345, 0.82758621,\n",
       "       0.86206897, 0.89655172, 0.93103448, 0.96551724, 1.        ])"
      ]
     },
     "execution_count": 150,
     "metadata": {},
     "output_type": "execute_result"
    }
   ],
   "source": [
    "bandwidths = np.linspace(0, 1, 30) # nous fixons une grille de 30 points compris entre 0 et 1 sur laquelle évaluerons\n",
    "bandwidths"
   ]
  },
  {
   "cell_type": "markdown",
   "metadata": {},
   "source": [
    "Nous devons procéder à un reformatage des données X pour utiliser les fonctions d optimisation ci-après."
   ]
  },
  {
   "cell_type": "code",
   "execution_count": 151,
   "metadata": {},
   "outputs": [
    {
     "data": {
      "text/plain": [
       "(5000, 1)"
      ]
     },
     "execution_count": 151,
     "metadata": {},
     "output_type": "execute_result"
    }
   ],
   "source": [
    "X = Data1['X']\n",
    "Xnew = X.to_numpy().reshape(-1,1)\n",
    "np.shape(Xnew)"
   ]
  },
  {
   "cell_type": "markdown",
   "metadata": {},
   "source": [
    "Nous utilisons la fonction GrideSearchCV pour déterminer l'estimateur optimal de l'hyperparamètre h."
   ]
  },
  {
   "cell_type": "code",
   "execution_count": 152,
   "metadata": {},
   "outputs": [
    {
     "data": {
      "text/plain": [
       "GridSearchCV(cv=2, estimator=KernelDensity(),\n",
       "             param_grid={'bandwidth': array([0.        , 0.03448276, 0.06896552, 0.10344828, 0.13793103,\n",
       "       0.17241379, 0.20689655, 0.24137931, 0.27586207, 0.31034483,\n",
       "       0.34482759, 0.37931034, 0.4137931 , 0.44827586, 0.48275862,\n",
       "       0.51724138, 0.55172414, 0.5862069 , 0.62068966, 0.65517241,\n",
       "       0.68965517, 0.72413793, 0.75862069, 0.79310345, 0.82758621,\n",
       "       0.86206897, 0.89655172, 0.93103448, 0.96551724, 1.        ])})"
      ]
     },
     "execution_count": 152,
     "metadata": {},
     "output_type": "execute_result"
    },
    {
     "data": {
      "text/plain": [
       "0.034482758620689655"
      ]
     },
     "execution_count": 152,
     "metadata": {},
     "output_type": "execute_result"
    }
   ],
   "source": [
    "GG = GridSearchCV(KernelDensity(kernel='gaussian'),{'bandwidth': bandwidths},cv = 2)\n",
    "GG.fit(Xnew)\n",
    "h_cv = GG.best_params_[\"bandwidth\"] \n",
    "h_cv"
   ]
  },
  {
   "cell_type": "markdown",
   "metadata": {},
   "source": [
    "L'estimateur h_cv de l'hyperparamètre h calculé par la validation croisée est très petit. Comme nous l'avons vu plus haut, l'estimateur à noyeau de la densité g de X pour un h trop petit $(h < 0.3)$ entraîne une variance plus élevée autour de la moyenne. Pour éviter cela nous préférons comme estimateur de h, l'estimateur $\\hat{h}_n$ de Silverman $h_2 = 0.30$.\n",
    "\n",
    "Nous reprenons à nouveau la fonction vue en cours pour déterminer graphiquement $\\hat{g}_{n,\\hat{h}_n}$ selon les trois hyperparamètres Scott, Silverman et celui obtenu par validation croisée."
   ]
  },
  {
   "cell_type": "code",
   "execution_count": 153,
   "metadata": {},
   "outputs": [
    {
     "data": {
      "text/plain": [
       "<matplotlib.legend.Legend at 0x7ff5893c1760>"
      ]
     },
     "execution_count": 153,
     "metadata": {},
     "output_type": "execute_result"
    },
    {
     "data": {
      "text/plain": [
       "Text(0.5, 0, 'X')"
      ]
     },
     "execution_count": 153,
     "metadata": {},
     "output_type": "execute_result"
    },
    {
     "data": {
      "text/plain": [
       "Text(0, 0.5, 'fonction densité')"
      ]
     },
     "execution_count": 153,
     "metadata": {},
     "output_type": "execute_result"
    },
    {
     "data": {
      "text/plain": [
       "Text(0.5, 1.0, 'Représentation de l estimateur de la densité')"
      ]
     },
     "execution_count": 153,
     "metadata": {},
     "output_type": "execute_result"
    },
    {
     "data": {
      "image/png": "[encoded data removed]",
      "text/plain": [
       "<Figure size 432x288 with 1 Axes>"
      ]
     },
     "metadata": {
      "needs_background": "light"
     },
     "output_type": "display_data"
    }
   ],
   "source": [
    "# Utilisation en densité\n",
    "def g_hat(grid , X, h, **kwargs):\n",
    "    \"\"\"Univariate Kernel Density Estimation with Statsmodels\"\"\" \n",
    "    # grid: grille de points où l'estimateur de $f$ sera évalué\n",
    "    # X: échantillon (X_1,..., X_n)\n",
    "    # h: choix de la taille de la fenêtre\n",
    "    # **kwargs: arguments optionels Par défaut le noyau gaussien est utilisé\n",
    "    kde = KDEUnivariate(X)\n",
    "    kde.fit(bw = h, **kwargs)\n",
    "    return kde.evaluate(grid)\n",
    "\n",
    "\n",
    "g1, = plt.plot(grid, g_hat(grid, X, h1))\n",
    "g2, = plt.plot(grid, g_hat(grid, X, h2))\n",
    "g3, = plt.plot(grid, g_hat(grid, X, h_cv))\n",
    "\n",
    "plt.legend([g1, g2, g3], ['h = Scott', 'h = Silverman', 'h = CV'],loc = 'upper right' , title = 'Légende')\n",
    "plt.xlabel('X')\n",
    "plt.ylabel('fonction densité')\n",
    "plt.title('Représentation de l estimateur de la densité')"
   ]
  },
  {
   "cell_type": "markdown",
   "metadata": {},
   "source": [
    "La variance est beaucoup plus élevée quand on utilise l'estimateur de l'hyperparamètre h obtenu par validation croisée dont la valeur est relativement faible."
   ]
  },
  {
   "cell_type": "markdown",
   "metadata": {},
   "source": [
    "Fonction de répartition de la loi uniforme $U[a;b]$"
   ]
  },
  {
   "cell_type": "markdown",
   "metadata": {},
   "source": [
    "### 1.3. Implémenter un QQ-plot pour vérifier l'hypothèse _g_ est la distribution uniforme"
   ]
  },
  {
   "cell_type": "code",
   "execution_count": 154,
   "metadata": {},
   "outputs": [
    {
     "data": {
      "text/plain": [
       "((array([1.00083172, 1.00201885, 1.00321877, ..., 6.99678123, 6.99798115,\n",
       "         6.99916828]),\n",
       "  array([1.        , 1.00000241, 1.00000245, ..., 5.99999668, 5.99999799,\n",
       "         5.99999985])),\n",
       " (1.048060171500124, -0.6647543013787347, 0.9868503047727718))"
      ]
     },
     "execution_count": 154,
     "metadata": {},
     "output_type": "execute_result"
    },
    {
     "data": {
      "image/png": "[encoded data removed]",
      "text/plain": [
       "<Figure size 432x288 with 1 Axes>"
      ]
     },
     "metadata": {
      "needs_background": "light"
     },
     "output_type": "display_data"
    }
   ],
   "source": [
    "unif = st.uniform(1,6)\n",
    "st.probplot(X,dist=unif, plot=plt)"
   ]
  },
  {
   "cell_type": "markdown",
   "metadata": {},
   "source": [
    "L'hypothèse que g soit la distribution uniforme me paraît peu probable car la forme de la courbe bleue des quantiles associés aux observations n'est pas alignée avec les quantiles de la loi uniforme. La courbe bleue est trop sinusoïdale et s'éloigne régulièrement de la première bissectrice."
   ]
  },
  {
   "cell_type": "markdown",
   "metadata": {},
   "source": [
    "### 1.4. Zone de l'espace où l'estimation de r sera plus précise"
   ]
  },
  {
   "cell_type": "markdown",
   "metadata": {},
   "source": [
    "L'estimation de r sera la plus précise là où les observations des $X_i$ seront les plus nombreux i.e. au voisinage de $1^+$ et $6^-$ et nous avons vu qu'à ces voisinages l'estimation de g était fortement dépendante du choix de h."
   ]
  },
  {
   "cell_type": "code",
   "execution_count": 155,
   "metadata": {},
   "outputs": [
    {
     "data": {
      "text/plain": [
       "<AxesSubplot:ylabel='Frequency'>"
      ]
     },
     "execution_count": 155,
     "metadata": {},
     "output_type": "execute_result"
    },
    {
     "data": {
      "text/plain": [
       "Text(0.5, 0, 'bins')"
      ]
     },
     "execution_count": 155,
     "metadata": {},
     "output_type": "execute_result"
    },
    {
     "data": {
      "image/png": "[encoded data removed]",
      "text/plain": [
       "<Figure size 432x288 with 1 Axes>"
      ]
     },
     "metadata": {
      "needs_background": "light"
     },
     "output_type": "display_data"
    }
   ],
   "source": [
    "Data1.X.plot(kind = \"hist\")\n",
    "plt.xlabel('bins')"
   ]
  },
  {
   "cell_type": "markdown",
   "metadata": {},
   "source": [
    "### 1.5. Estimateur $ \\hat{c}_n^{(k)}$ de $c(k)$.\n",
    "\n",
    "Pour $ k \\geq 1 $, on pose $ c(k) = \\int_1^6{x^kg(x)dx} $. \n",
    "\n",
    " \n",
    "Construire un estimateur $ \\hat{c}_n^{(k)}$ de $c(k)$. On pourra en particulier discuter de la qualité de l'estimation en prenant $k=0$."
   ]
  },
  {
   "cell_type": "markdown",
   "metadata": {},
   "source": [
    "Si la densité $g(x)$ de $X$ est la distribution uniforme $\\textit{U}[1,6]$ alors $c(k) = \\mathbb{E}[X^k\\mathbb{1}_{[1,6]}(X)]$.\n",
    "Par la méthode de Monte-Carlo on obtient l'estimateur de $c(k)$ suivant:"
   ]
  },
  {
   "cell_type": "code",
   "execution_count": 156,
   "metadata": {},
   "outputs": [
    {
     "data": {
      "text/plain": [
       "(1.0015348567332862, 6.999558466958535)"
      ]
     },
     "execution_count": 156,
     "metadata": {},
     "output_type": "execute_result"
    },
    {
     "name": "stdout",
     "output_type": "stream",
     "text": [
      "k =  0\n"
     ]
    },
    {
     "data": {
      "text/plain": [
       "1.0"
      ]
     },
     "execution_count": 156,
     "metadata": {},
     "output_type": "execute_result"
    },
    {
     "data": {
      "text/plain": [
       "0.17090078695149413"
      ]
     },
     "execution_count": 156,
     "metadata": {},
     "output_type": "execute_result"
    },
    {
     "name": "stdout",
     "output_type": "stream",
     "text": [
      "k =  1\n"
     ]
    },
    {
     "data": {
      "text/plain": [
       "3.9991178705221677"
      ]
     },
     "execution_count": 156,
     "metadata": {},
     "output_type": "execute_result"
    },
    {
     "data": {
      "text/plain": [
       "0.601977270023502"
      ]
     },
     "execution_count": 156,
     "metadata": {},
     "output_type": "execute_result"
    }
   ],
   "source": [
    "n=5000\n",
    "zgrid = np.linspace(1,6,5000)\n",
    "u=st.uniform.rvs(1,6, size=n)\n",
    "np.min(u), np.max(u)\n",
    "X=Data1['X']\n",
    "for k in range(2):\n",
    "        print(\"k = \",k)\n",
    "        #np.mean(u**k*(u>=1)*(u<=6)) # estimateur Monte-Carlo avec hypothèse de loi uniforme\n",
    "        np.mean(u**k) # estimateur Monte-Carlo avec hypothèse de loi uniforme\n",
    "        np.mean(zgrid**k*g_hat(zgrid, X, h2)) # estimateur non-paramétrique (h = h2)"
   ]
  },
  {
   "cell_type": "markdown",
   "metadata": {},
   "source": [
    "Pour k = 0, l'estimateur de Monte-Carlo est bien égal à 1 comme intégrale d'une densité sur R alors que l'estimateur non paramétrique est très inférieur à 1. X ne semble donc pas suivre une loi uniforme sur [1,6]."
   ]
  },
  {
   "cell_type": "markdown",
   "metadata": {},
   "source": [
    "Les deux estimateurs retournent des valeurs éloignées. La densité de X ne semble donc pas être la loi uniformeloi uniforme ne semble."
   ]
  },
  {
   "cell_type": "markdown",
   "metadata": {},
   "source": [
    "## 2. Reconstruction de $r(x)$"
   ]
  },
  {
   "cell_type": "markdown",
   "metadata": {},
   "source": [
    "_Pour cette partie on utilise les données Data1_"
   ]
  },
  {
   "cell_type": "markdown",
   "metadata": {},
   "source": [
    "La représentation des données peut donc s'écrire sous la forme du modèle additif suivant:"
   ]
  },
  {
   "cell_type": "markdown",
   "metadata": {},
   "source": [
    "$ Y_i = r(X_i) + \\sigma\\xi_i $ avec $\\sigma $ constante (modèle homoscédastique) et $r$ la fonction de régression."
   ]
  },
  {
   "cell_type": "markdown",
   "metadata": {},
   "source": [
    "### 2.1. Est-il plausible de penser que $r$ soit linéaire ?"
   ]
  },
  {
   "cell_type": "markdown",
   "metadata": {},
   "source": [
    "Pour répondre à cette question, nous allons commencer par représenter graphiquement les couples $(X_i,Y_i) $ avec $ 1 \\leq i \\leq 5000 .$"
   ]
  },
  {
   "cell_type": "code",
   "execution_count": 157,
   "metadata": {},
   "outputs": [
    {
     "data": {
      "text/plain": [
       "[<matplotlib.lines.Line2D at 0x7ff598720760>]"
      ]
     },
     "execution_count": 157,
     "metadata": {},
     "output_type": "execute_result"
    },
    {
     "data": {
      "text/plain": [
       "(0.0, 3.0)"
      ]
     },
     "execution_count": 157,
     "metadata": {},
     "output_type": "execute_result"
    },
    {
     "data": {
      "image/png": "[encoded data removed]",
      "text/plain": [
       "<Figure size 432x288 with 1 Axes>"
      ]
     },
     "metadata": {
      "needs_background": "light"
     },
     "output_type": "display_data"
    }
   ],
   "source": [
    "plt.plot(Data1['X'],Data1['Y1'], 'r.')\n",
    "plt.ylim(0,3)"
   ]
  },
  {
   "cell_type": "markdown",
   "metadata": {},
   "source": [
    "Le graphe Y contre X indique qu'il est peu probable que r soit linéaire car il serait difficile de trouver une droite s'ajustant au nuage de points."
   ]
  },
  {
   "cell_type": "markdown",
   "metadata": {},
   "source": [
    "Nous allons confirmer cette cette première conclusion par la régression linéaire des Moindres Carrés Ordinaires (paramétrique). Cela nous permet d'utiliser la régression linéaire avec Python. Si r est linéaire, r(x) s'écrit comme $ r(x) = ax + b $ avec $a, b \\in \\mathbb{R}$\n",
    "\n",
    "$\\mathbb{E}(Y_i) = a\\mathbb{E}(X_i)$ + b"
   ]
  },
  {
   "cell_type": "code",
   "execution_count": 158,
   "metadata": {},
   "outputs": [],
   "source": [
    "from sklearn.linear_model import LinearRegression"
   ]
  },
  {
   "cell_type": "code",
   "execution_count": 159,
   "metadata": {},
   "outputs": [],
   "source": [
    "lm = LinearRegression()"
   ]
  },
  {
   "cell_type": "markdown",
   "metadata": {},
   "source": [
    "Avant d'appliquer la régression linéaire il faut \"reshaper\" Y1."
   ]
  },
  {
   "cell_type": "code",
   "execution_count": 160,
   "metadata": {},
   "outputs": [],
   "source": [
    "Y = Data1['Y1']\n",
    "Ynew = Y.to_numpy().reshape(-1,1)"
   ]
  },
  {
   "cell_type": "code",
   "execution_count": 161,
   "metadata": {},
   "outputs": [
    {
     "data": {
      "text/plain": [
       "LinearRegression()"
      ]
     },
     "execution_count": 161,
     "metadata": {},
     "output_type": "execute_result"
    }
   ],
   "source": [
    "lm.fit(Xnew,Ynew)"
   ]
  },
  {
   "cell_type": "code",
   "execution_count": 162,
   "metadata": {},
   "outputs": [
    {
     "data": {
      "text/plain": [
       "array([[-0.14226115]])"
      ]
     },
     "execution_count": 162,
     "metadata": {},
     "output_type": "execute_result"
    }
   ],
   "source": [
    "lm.coef_"
   ]
  },
  {
   "cell_type": "markdown",
   "metadata": {},
   "source": [
    "La pente du modèle de régression linéaire est proche de 0. L'hypothèse \"r est linéaire\" est peu plausible."
   ]
  },
  {
   "cell_type": "markdown",
   "metadata": {},
   "source": [
    "### 2.2. Construction de l'estimateur non-paramétrique $\\widehat{r}_{n,h}(x)$ de $r(x)$ \n",
    "\n",
    "Construire une estimateur non-paramétrique $\\widehat{r}_{n,h}(x)$ de $r(x)$ pour une fenêtre de lissage $h > 0 $ bien choisie et le représenter graphiquement. "
   ]
  },
  {
   "cell_type": "markdown",
   "metadata": {},
   "source": [
    "Le choix de h s'effectuera par validation croisée avec l'estimateur de régression de Nadaraya-Watson."
   ]
  },
  {
   "cell_type": "markdown",
   "metadata": {},
   "source": [
    "Le principe de la validation croisée consiste à partir de l'échantillon $(X_k,Y_k)_{k\\in(1..n),k\\neq i}$ privé d'un individu noté i, d'estimer $\\widehat{R}_{(-i),n,h}(x)$ avec h fixé pris dans la grille. A partir de cette estimation, l'erreur moyenne $ err_h = \\frac{1}{n}\\sum\\limits_{i=1}^{i=n}({Y_i - \\widehat{R}_{(-i),n,h}(X_i))}^2$ est calculée. On choisit h* comme le h de la grille minimisant cette erreur moyenne: $ h^* = \\underset{h \\in grid}{argmin}(err_h) $"
   ]
  },
  {
   "cell_type": "markdown",
   "metadata": {},
   "source": [
    "Nous allons estimer h par la méthode de régression à noyau Nadaraya-Watson (noté h_cv_nw) et par celle des polynômes locaux (noté h_cv_pl)."
   ]
  },
  {
   "cell_type": "code",
   "execution_count": 163,
   "metadata": {},
   "outputs": [
    {
     "data": {
      "text/plain": [
       "(array([0.15252058]), array([0.08464892]))"
      ]
     },
     "execution_count": 163,
     "metadata": {},
     "output_type": "execute_result"
    }
   ],
   "source": [
    "grid = np.linspace(1,6,100)\n",
    "X = Data1['X']\n",
    "Y1 = Data1['Y1']\n",
    "Kreg_pl = KernelReg(Y1, X, var_type = 'c', reg_type = 'll', bw = 'cv_ls')\n",
    "h_cv_pl = Kreg_pl.bw\n",
    "Kreg_nw = KernelReg(Y1, X, var_type = 'c', reg_type = 'lc', bw = 'cv_ls')\n",
    "h_cv_nw = Kreg_nw.bw\n",
    "h_cv_pl, h_cv_nw"
   ]
  },
  {
   "cell_type": "markdown",
   "metadata": {},
   "source": [
    "Maintenant que h a été estimé nous pouvons déterminer un estimateur de la fonction de régression $\\widehat{r}_{(\\alpha,\\beta)(x)}$. Nous effectuons deux régressions. Une régression avec l'estimateur de lissage obtenu par Nadaraya-Watson et l'autre régression avec l'estimateur obtenu par polynômes locaux."
   ]
  },
  {
   "cell_type": "code",
   "execution_count": 164,
   "metadata": {},
   "outputs": [],
   "source": [
    "Kreg1 = KernelReg(Y1, X, var_type = 'c', reg_type = 'll', bw = h_cv_pl)\n",
    "r_hat1, dr_hat1 = Kreg1.fit(grid)\n",
    "Kreg2 = KernelReg(Y1, X, var_type = 'c', reg_type = 'lc', bw = h_cv_nw)\n",
    "r_hat2, dr_hat2 = Kreg2.fit(grid)"
   ]
  },
  {
   "cell_type": "code",
   "execution_count": 165,
   "metadata": {},
   "outputs": [
    {
     "data": {
      "text/plain": [
       "(0.0, 4.0)"
      ]
     },
     "execution_count": 165,
     "metadata": {},
     "output_type": "execute_result"
    },
    {
     "data": {
      "image/png": "[encoded data removed]",
      "text/plain": [
       "<Figure size 432x288 with 1 Axes>"
      ]
     },
     "metadata": {
      "needs_background": "light"
     },
     "output_type": "display_data"
    }
   ],
   "source": [
    "g, = plt.plot(X, Y1, 'c.')\n",
    "g1,= plt.plot(grid, r_hat1, color = 'black')\n",
    "g2,= plt.plot(grid, r_hat2, color = 'yellow')\n",
    "plt.ylim(0,4)"
   ]
  },
  {
   "cell_type": "markdown",
   "metadata": {},
   "source": [
    "A la lecture de ce graphique, que ce soit avec les polynômes locaux ou avec Nadaraya-Watson, les estimateurs de la fonction de régression sont similaires."
   ]
  },
  {
   "cell_type": "markdown",
   "metadata": {},
   "source": [
    "### 2.3. (Facultatif.) Existe-t-il un couple $(\\alpha,\\beta) \\in \\mathbb{R}^2$ tel que le modèle $Y_1 = \\beta + (X - 2)^\\alpha + \\varepsilon$ ?\n",
    "\n",
    "On considère uniquement les valeurs de $X$ comprise dans [1,3]. Soit la fonction $r_{\\alpha,\\beta}(x) = \\beta + (x - 2)^\\alpha$, pensez-vous qu'il existe un couple $(\\alpha,\\beta) \\in \\mathbb{R}^2$ tel que le modèle $Y_1 = r_{\\alpha,\\beta}(X) + \\varepsilon $ soit adapté aux données, pour une erreur $\\varepsilon \\sim \\mathcal{N}(0,1)$ ? Comment estimer les valeurs de $(\\alpha,\\beta)$ ?"
   ]
  },
  {
   "cell_type": "code",
   "execution_count": 166,
   "metadata": {},
   "outputs": [
    {
     "data": {
      "text/plain": [
       "[<matplotlib.lines.Line2D at 0x7ff589895f40>]"
      ]
     },
     "execution_count": 166,
     "metadata": {},
     "output_type": "execute_result"
    },
    {
     "data": {
      "text/plain": [
       "Text(0.5, 0, '1 <= Xi <= 3')"
      ]
     },
     "execution_count": 166,
     "metadata": {},
     "output_type": "execute_result"
    },
    {
     "data": {
      "text/plain": [
       "Text(0, 0.5, 'Yi')"
      ]
     },
     "execution_count": 166,
     "metadata": {},
     "output_type": "execute_result"
    },
    {
     "data": {
      "text/plain": [
       "(0.5, 2.5)"
      ]
     },
     "execution_count": 166,
     "metadata": {},
     "output_type": "execute_result"
    },
    {
     "data": {
      "image/png": "[encoded data removed]",
      "text/plain": [
       "<Figure size 432x288 with 1 Axes>"
      ]
     },
     "metadata": {
      "needs_background": "light"
     },
     "output_type": "display_data"
    }
   ],
   "source": [
    "Data1_inf = Data1[ (Data1['X'] >= 1) & (Data1['X'] <= 3)] # on sélectionne dans Data1 les lignes où X \\in [1,3]\n",
    "g, = plt.plot(Data1_inf['X'],Data1_inf['Y1'], 'c.')\n",
    "plt.plot(grid, (grid-2)**9 + 1.5) # Nous avons essayé de déterminer manuellement une fonction de type r s'ajustant aux données.\n",
    "plt.xlabel('1 <= Xi <= 3')\n",
    "plt.ylabel('Yi')\n",
    "plt.ylim(0.5,2.5)"
   ]
  },
  {
   "cell_type": "markdown",
   "metadata": {},
   "source": [
    "Si $\\alpha < 0$ la fonction n'est pas définie au point $x=2$. Nous nous plaçons donc dans le cas $\\alpha > 0 $.\n",
    "\n",
    "Il est peu probable qu'il existe un couple $(\\alpha,\\beta)$ tel que le modèle $Y_1 = r_{\\alpha,\\beta}(X) + \\epsilon $ soit adapté aux données. Nos tentatives graphiques donnent pour le mieux un ajustement correct sur [1,3[ mais au voisinage de 3- la fonction tend vers +$\\infty$.\n",
    "\n",
    "Pour estimer le couple $(\\alpha,\\beta)$, peut-être que nous pourrions dans un premier temps éliminier le paramètre $\\beta$ en estimant la densité de la dérivée de la fonction de régression et notamment la valeur de la dérivée  $r_{\\alpha,\\beta}^{'}(3)$ au point d'abscisse 3 et ainsi déterminer un estimateur de $\\alpha$. \n",
    "\n",
    "Graphiquement au point d'abscisse $x=2, y = \\beta = 1$."
   ]
  },
  {
   "cell_type": "markdown",
   "metadata": {},
   "source": [
    "## 3. Etude de la densité $\\mu$ des $\\varepsilon_i$"
   ]
  },
  {
   "cell_type": "markdown",
   "metadata": {},
   "source": [
    "### 3.1. On cherche à estimer $x \\mapsto \\mu(x)$ (modèle homoscédastique)"
   ]
  },
  {
   "cell_type": "markdown",
   "metadata": {},
   "source": [
    "#### 3.1.1. Quelle est la distribution approximative de $\\tilde{\\xi}_i$ ?\n",
    "\n",
    "Par définition $\\tilde{\\xi}_i = Y_i - \\hat{r}_{n,h}^{(-)}(X_i), i \\in J_+ = [2501,...,5000]$.\n",
    "\n",
    "Rappelons que la représentation des variables $(X_i,Y_i)$ est donnée par : $Y_i = r(X_i) + \\sigma(X_i)\\xi_i$\n",
    "\n",
    "$\\tilde{\\xi}_i = Y_i - \\hat{r}_{n,h}^{(-)}(X_i) $\n",
    "\n",
    "$\\tilde{\\xi}_i = r(X_i) + \\sigma(X_i)\\xi_i - \\hat{r}_{n,h}^{(-)}(X_i) $\n",
    "\n",
    "\n",
    "$\\tilde{\\xi}_i = r(X_i) + \\sigma\\xi_i - \\hat{r}_{n,h}^{(-)}(X_i) $ (homoscédasticité dans Data1)\n",
    "\n",
    "$\\tilde{\\xi}_i = r(X_i) - \\hat{r}_{n,h}^{(-)}(X_i) + \\sigma\\xi_i$ \n",
    "\n",
    "$\\tilde{\\xi}_i  \\approx \\sigma\\xi_i $"
   ]
  },
  {
   "cell_type": "markdown",
   "metadata": {},
   "source": [
    "La distribution approximative des $\\tilde{\\xi}_i $ est la distribution des $ \\xi_i $ à un facteur près $\\sigma $"
   ]
  },
  {
   "cell_type": "markdown",
   "metadata": {},
   "source": [
    "#### 3.1.2. En déduire un estimateur de $x \\mapsto \\mu(x)$ et l'implémenter graphiquement"
   ]
  },
  {
   "cell_type": "markdown",
   "metadata": {},
   "source": [
    "Nous reprenons h = 0.1525 estimé à la question 2.2 et $\\hat{r}_{n,h}^{(-)}$ l'estimateur de r construit à l'aide de $(X_i, Y_i), i \\in [1,...,2500]$."
   ]
  },
  {
   "cell_type": "markdown",
   "metadata": {},
   "source": [
    "On va commencer par couper le jeu de données Data1 en deux échantillons de même taille."
   ]
  },
  {
   "cell_type": "code",
   "execution_count": 167,
   "metadata": {},
   "outputs": [],
   "source": [
    "Data1_first = Data1.iloc[0:2500] # sélection des 2500 premières observations\n",
    "\n",
    "Data1_last = Data1.iloc[2500:5000] # sélection des 2500 dernières observations"
   ]
  },
  {
   "cell_type": "markdown",
   "metadata": {},
   "source": [
    "Puis construire l'estimateur de la fonction de régression sur les données $i \\in J- =$ {1...2500}"
   ]
  },
  {
   "cell_type": "code",
   "execution_count": 168,
   "metadata": {},
   "outputs": [],
   "source": [
    "h_cv = 0.1525 # repris de la question 2.2 polynômes locaux\n",
    "\n",
    "grid_first = np.linspace(1,6,2500)\n",
    "\n",
    "# On construit l'estimateur de régression à partir des données i \\in J-\n",
    "\n",
    "Kreg3 = KernelReg(Data1_first['Y1'], Data1_first['X'], var_type = 'c', reg_type = 'll', bw = h_cv*np.ones(1))"
   ]
  },
  {
   "cell_type": "markdown",
   "metadata": {},
   "source": [
    "Nous en déduisons $\\tilde{\\xi}_i = Y_i - \\hat{r}_{n,h}^{(-)}(X_i)$ cette fois-ci calculé pour $i \\in $ {2501,...5000}"
   ]
  },
  {
   "cell_type": "code",
   "execution_count": 169,
   "metadata": {},
   "outputs": [],
   "source": [
    "r_hat3, dr_hat3 = Kreg3.fit(Data1_last['X']) # l'estimateur de régression est appliqué aux données X  i appartenant à J+\n",
    "\n",
    "Eps = Data1_last['Y1'] - r_hat3 # on définit epsilon comme la différence entre Yi et r(Xi) i appartenantà J+"
   ]
  },
  {
   "cell_type": "markdown",
   "metadata": {},
   "source": [
    "Représentation graphique de l'estimateur $\\tilde{\\xi}_i$"
   ]
  },
  {
   "cell_type": "code",
   "execution_count": 170,
   "metadata": {},
   "outputs": [
    {
     "data": {
      "text/plain": [
       "[<matplotlib.lines.Line2D at 0x7ff5aa317f10>]"
      ]
     },
     "execution_count": 170,
     "metadata": {},
     "output_type": "execute_result"
    },
    {
     "data": {
      "text/plain": [
       "(-0.5, 2.0)"
      ]
     },
     "execution_count": 170,
     "metadata": {},
     "output_type": "execute_result"
    },
    {
     "data": {
      "text/plain": [
       "0.004008822970013314"
      ]
     },
     "execution_count": 170,
     "metadata": {},
     "output_type": "execute_result"
    },
    {
     "data": {
      "image/png": "[encoded data removed]",
      "text/plain": [
       "<Figure size 432x288 with 1 Axes>"
      ]
     },
     "metadata": {
      "needs_background": "light"
     },
     "output_type": "display_data"
    }
   ],
   "source": [
    "plt.plot(Eps) # graphique des epsilon\n",
    "plt.ylim(-0.5,2) # zoom sur l'intervalle des ordonnées [-2; 2]\n",
    "(1/5000)*sum(Eps)"
   ]
  },
  {
   "cell_type": "markdown",
   "metadata": {},
   "source": [
    "Implémentation graphique de l'estimateur de $ x \\mapsto \\mu(x)$"
   ]
  },
  {
   "cell_type": "code",
   "execution_count": 171,
   "metadata": {},
   "outputs": [
    {
     "data": {
      "text/plain": [
       "<statsmodels.nonparametric.kde.KDEUnivariate at 0x7ff5aa3479d0>"
      ]
     },
     "execution_count": 171,
     "metadata": {},
     "output_type": "execute_result"
    },
    {
     "data": {
      "text/plain": [
       "Text(0.5, 1.0, 'Représentation de la densité des Eps')"
      ]
     },
     "execution_count": 171,
     "metadata": {},
     "output_type": "execute_result"
    },
    {
     "data": {
      "image/png": "[encoded data removed]",
      "text/plain": [
       "<Figure size 432x288 with 1 Axes>"
      ]
     },
     "metadata": {
      "needs_background": "light"
     },
     "output_type": "display_data"
    }
   ],
   "source": [
    "grid = np.linspace(-6,6,5000)\n",
    "kde = KDEUnivariate(Eps) # Estimateur de mu(x)\n",
    "kde.fit(bw = h_cv)\n",
    "val = kde.evaluate(grid)\n",
    "g, = plt.plot(grid, val)\n",
    "plt.title('Représentation de la densité des Eps')"
   ]
  },
  {
   "cell_type": "markdown",
   "metadata": {},
   "source": [
    "La distribution approximative des $\\tilde{\\xi}_i$ pourrait correspondre à une loi normale.\n",
    "\n",
    "Mais les tests statistiques et le boxplot ci-dessous ne permettent pas d'affirmer que les $\\tilde{\\xi}_i$ suivent une loi normale!"
   ]
  },
  {
   "cell_type": "code",
   "execution_count": 172,
   "metadata": {},
   "outputs": [
    {
     "data": {
      "text/plain": [
       "ShapiroResult(statistic=0.662390410900116, pvalue=0.0)"
      ]
     },
     "execution_count": 172,
     "metadata": {},
     "output_type": "execute_result"
    },
    {
     "data": {
      "text/plain": [
       "KstestResult(statistic=0.3409143097859602, pvalue=7.765142577883651e-260)"
      ]
     },
     "execution_count": 172,
     "metadata": {},
     "output_type": "execute_result"
    }
   ],
   "source": [
    "st.shapiro(Eps)\n",
    "st.kstest(Eps, 'norm', args=(0,1))"
   ]
  },
  {
   "cell_type": "code",
   "execution_count": 173,
   "metadata": {},
   "outputs": [],
   "source": [
    "#gauss = st.norm(0,1)\n",
    "#st.probplot(Eps,dist=gauss, plot=plt)"
   ]
  },
  {
   "cell_type": "markdown",
   "metadata": {},
   "source": [
    "Pour construire l'estimateur de $x \\mapsto \\mu(x)$  et le représenter graphiquement nous réutilisons la fonction g_hat."
   ]
  },
  {
   "cell_type": "code",
   "execution_count": 174,
   "metadata": {},
   "outputs": [
    {
     "data": {
      "text/plain": [
       "0.008017645940026628"
      ]
     },
     "execution_count": 174,
     "metadata": {},
     "output_type": "execute_result"
    },
    {
     "data": {
      "text/plain": [
       "[<matplotlib.lines.Line2D at 0x7ff588aff100>]"
      ]
     },
     "execution_count": 174,
     "metadata": {},
     "output_type": "execute_result"
    },
    {
     "data": {
      "text/plain": [
       "Text(0.5, 0, 'grid')"
      ]
     },
     "execution_count": 174,
     "metadata": {},
     "output_type": "execute_result"
    },
    {
     "data": {
      "text/plain": [
       "Text(0, 0.5, 'mu_hat')"
      ]
     },
     "execution_count": 174,
     "metadata": {},
     "output_type": "execute_result"
    },
    {
     "data": {
      "text/plain": [
       "(-6.0, 6.0)"
      ]
     },
     "execution_count": 174,
     "metadata": {},
     "output_type": "execute_result"
    },
    {
     "data": {
      "text/plain": [
       "Text(0.5, 1.0, 'Représentation graphique de l estimateur de mu')"
      ]
     },
     "execution_count": 174,
     "metadata": {},
     "output_type": "execute_result"
    },
    {
     "data": {
      "image/png": "[encoded data removed]",
      "text/plain": [
       "<Figure size 432x288 with 1 Axes>"
      ]
     },
     "metadata": {
      "needs_background": "light"
     },
     "output_type": "display_data"
    }
   ],
   "source": [
    "mu_hat = g_hat(grid, Eps, 0.1525)\n",
    "(1/2500)*sum(Eps)\n",
    "plt.plot(grid,mu_hat)\n",
    "plt.xlabel('grid')\n",
    "plt.ylabel('mu_hat')\n",
    "plt.xlim(-6,6)\n",
    "plt.title('Représentation graphique de l estimateur de mu')"
   ]
  },
  {
   "cell_type": "markdown",
   "metadata": {},
   "source": [
    "#### 3.1.3. (Facultatif) Pourquoi avoir découpé le jeu de données selon J+ et J- ?\n",
    "\n",
    "L'intérêt d'avoir découpé le jeu de données en deux est d'avoir pu déterminer l'estimateur de la fonction de régression sur un jeu de données qui n'est pas celui utilisé pour le calcul des $\\tilde{\\xi}_i\\$ qui utilise la fonction de régression. Cela permet donc d'éviter le surapprentissage (overfitting)."
   ]
  },
  {
   "cell_type": "markdown",
   "metadata": {},
   "source": [
    "#### 3.1.4. La densité $x \\mapsto \\mu(x)$ peut-elle être gaussienne ?"
   ]
  },
  {
   "cell_type": "markdown",
   "metadata": {},
   "source": [
    "Nous avons ci-dessous tenté d'ajuster une loi normale $\\mathcal{N}(-0.1,\\,0.27)$ à l'estimateur de la densité des  $\\tilde{\\xi}_i$. L'hypothèse de normalité est plausible. "
   ]
  },
  {
   "cell_type": "code",
   "execution_count": 175,
   "metadata": {},
   "outputs": [
    {
     "data": {
      "text/plain": [
       "[<matplotlib.lines.Line2D at 0x7ff5bbc96430>]"
      ]
     },
     "execution_count": 175,
     "metadata": {},
     "output_type": "execute_result"
    },
    {
     "data": {
      "text/plain": [
       "[<matplotlib.lines.Line2D at 0x7ff5bbc96640>]"
      ]
     },
     "execution_count": 175,
     "metadata": {},
     "output_type": "execute_result"
    },
    {
     "data": {
      "text/plain": [
       "(-6.0, 6.0)"
      ]
     },
     "execution_count": 175,
     "metadata": {},
     "output_type": "execute_result"
    },
    {
     "data": {
      "text/plain": [
       "(0.0, 1.5)"
      ]
     },
     "execution_count": 175,
     "metadata": {},
     "output_type": "execute_result"
    },
    {
     "data": {
      "text/plain": [
       "Text(0.5, 0, 'grid')"
      ]
     },
     "execution_count": 175,
     "metadata": {},
     "output_type": "execute_result"
    },
    {
     "data": {
      "text/plain": [
       "Text(0, 0.5, 'mu_hat')"
      ]
     },
     "execution_count": 175,
     "metadata": {},
     "output_type": "execute_result"
    },
    {
     "data": {
      "image/png": "[encoded data removed]",
      "text/plain": [
       "<Figure size 432x288 with 1 Axes>"
      ]
     },
     "metadata": {
      "needs_background": "light"
     },
     "output_type": "display_data"
    }
   ],
   "source": [
    "mu_hat = g_hat(grid, Eps, 0.1525)\n",
    "plt.plot(grid, mu_hat)\n",
    "plt.plot(grid, st.norm.pdf(grid,-0.1,0.27))\n",
    "plt.xlim(-6,6)\n",
    "plt.ylim(0,1.5)\n",
    "plt.xlabel('grid')\n",
    "plt.ylabel('mu_hat')"
   ]
  },
  {
   "cell_type": "markdown",
   "metadata": {},
   "source": [
    "#### 3.1.5. (Facultatif) Comment peut-on tester si le modèle est bien homoscédastique ?\n",
    "\n",
    "Pour tester l'homoscédasticité nous avons essayer d'effectuer un test de blancheur (white test). Le permier code ci-dessous trouvé sur internet ne tourne pas. A priori, il faudrait retravailler le format des Eps plutôt que l'intégrer directement à la fonction.\n",
    "\n",
    "Le second test qui lui a fonctionné décrit ci-dessous est le test de blancheur appelé test de Box.Pierce. Il teste l'hypothèse H0 qu'il n'y a pas d'autocorrélation des erreurs. Les statistiques de Box.Pierce (bp-pvalue >> 0.05) nous permettent d'accepter H0.\n",
    "\n",
    "NB: lors de cette recherche nous aurions initialement souhaité utiliser le test de Box.Pierce avec R mais nous n'avons pas réussi à installer rpy2 qui nous aurait permis de coder du R dans le Jupyter Notebook."
   ]
  },
  {
   "cell_type": "code",
   "execution_count": 176,
   "metadata": {},
   "outputs": [
    {
     "data": {
      "text/html": [
       "<div>\n",
       "<style scoped>\n",
       "    .dataframe tbody tr th:only-of-type {\n",
       "        vertical-align: middle;\n",
       "    }\n",
       "\n",
       "    .dataframe tbody tr th {\n",
       "        vertical-align: top;\n",
       "    }\n",
       "\n",
       "    .dataframe thead th {\n",
       "        text-align: right;\n",
       "    }\n",
       "</style>\n",
       "<table border=\"1\" class=\"dataframe\">\n",
       "  <thead>\n",
       "    <tr style=\"text-align: right;\">\n",
       "      <th></th>\n",
       "      <th>lb_stat</th>\n",
       "      <th>lb_pvalue</th>\n",
       "      <th>bp_stat</th>\n",
       "      <th>bp_pvalue</th>\n",
       "    </tr>\n",
       "  </thead>\n",
       "  <tbody>\n",
       "    <tr>\n",
       "      <th>1</th>\n",
       "      <td>1.035763</td>\n",
       "      <td>0.308809</td>\n",
       "      <td>1.034521</td>\n",
       "      <td>0.309099</td>\n",
       "    </tr>\n",
       "    <tr>\n",
       "      <th>2</th>\n",
       "      <td>1.150236</td>\n",
       "      <td>0.562638</td>\n",
       "      <td>1.148811</td>\n",
       "      <td>0.563039</td>\n",
       "    </tr>\n",
       "  </tbody>\n",
       "</table>\n",
       "</div>"
      ],
      "text/plain": [
       "    lb_stat  lb_pvalue   bp_stat  bp_pvalue\n",
       "1  1.035763   0.308809  1.034521   0.309099\n",
       "2  1.150236   0.562638  1.148811   0.563039"
      ]
     },
     "execution_count": 176,
     "metadata": {},
     "output_type": "execute_result"
    }
   ],
   "source": [
    "#from statsmodels.stats.diagnostic import het_white\n",
    "#from statsmodels.compat import lzip\n",
    "\n",
    "#keys = ['Lagrange Multiplier statistic:', 'LM test\\'s p-value:', 'F-statistic:', 'F-test\\'s p-value:']\n",
    "#results = het_white(Eps, grid)\n",
    "#lzip(keys, results)\n",
    "\n",
    "import statsmodels.api as sm\n",
    "sm.stats.diagnostic.acorr_ljungbox(x=Eps, lags=[1,2], boxpierce=True, model_df=0, period=None, return_df=True,auto_lag=False)"
   ]
  },
  {
   "cell_type": "markdown",
   "metadata": {},
   "source": [
    "### 3.1. On cherche à estimer $x \\mapsto \\mu(x)$ (cas du modèle hétéroscédastique)"
   ]
  },
  {
   "cell_type": "markdown",
   "metadata": {},
   "source": [
    "On cherche à estimer $x \\mapsto \\mu(x)$ et $x \\mapsto \\sigma(x)$. Pour cela, on coupe à nouveau l'échantillon en deux et on considère à nouveau $\\tilde{\\xi}_i$."
   ]
  },
  {
   "cell_type": "markdown",
   "metadata": {},
   "source": [
    "On coupe le jeu de données Data2 en deux échantillons et on considère à nouveau $\\tilde{\\xi}_i$"
   ]
  },
  {
   "cell_type": "code",
   "execution_count": 177,
   "metadata": {},
   "outputs": [],
   "source": [
    "Data2_first = Data2.iloc[0:2500] # sélection des 2500 premières observations\n",
    "\n",
    "Data2_last = Data2.iloc[2500:5000] # sélection des 2500 dernières observations"
   ]
  },
  {
   "cell_type": "markdown",
   "metadata": {},
   "source": [
    "#### 3.2.1. Justifier qu'en régressant $\\tilde{\\xi}_i^2$ sur Xi on obtient un estimateur de $x \\mapsto \\sigma^2(x)$. "
   ]
  },
  {
   "cell_type": "markdown",
   "metadata": {},
   "source": [
    "L'implémenter et le visualiser graphiquement. En comparant avec le jeu de données (Figure 1 à droite), retrouve-t-on un résultat attendu ?\n",
    "\n",
    "La régression de $\\tilde{\\xi}_i^2$ selon $X_i$ nous fournit bien un estimateur de la fonction $\\sigma^2$, pour preuve:"
   ]
  },
  {
   "cell_type": "markdown",
   "metadata": {},
   "source": [
    "Pour rappel, on a défini par $\\tilde{\\xi}_i = Y_i - \\hat{r}_{n,h}^{(-)}(X_i)$\n",
    "\n",
    "$\\mathbb{E}[\\tilde{\\xi}_i^2 \\mid X_i] $\n",
    "\n",
    "$= \\mathbb{E}[(Y_i - \\hat{r}(X_i))^2 \\mid X_i] $\n",
    "\n",
    "$\\approx \\mathbb{E}[(Y_i - r(X_i))^2 \\mid X_i]  $\n",
    "\n",
    "$= \\mathbb{E}[\\sigma^2(X_i)\\xi_i^2 \\mid X_i] $\n",
    "\n",
    "$= \\sigma^2(X_i)\\mathbb{E}[\\xi_i^2 \\mid X_i] $\n",
    "\n",
    "$= \\sigma^2(X_i)\\mathbb{E}[\\xi_i^2] $\n",
    "\n",
    "$= \\sigma^2(X_i)$"
   ]
  },
  {
   "cell_type": "markdown",
   "metadata": {},
   "source": [
    "Pour implémenter l'estimateur de $\\sigma^2$ à partir des données Data2, comme précédemment nous devons déterminer la taille de la fenêtre de lissage que nous allons utiliser."
   ]
  },
  {
   "cell_type": "markdown",
   "metadata": {},
   "source": [
    "Comme pour la partie 3.1 nous allons déterminer la fonction de régression en régressant les $Y_i$ sur $X_i$ en utilisant la première partie du jeu de données Data2. La seconde partie du jeu de données Data2 sera utilisée pour construire l'estimateur et ainsi éviter le surapprentissage."
   ]
  },
  {
   "cell_type": "markdown",
   "metadata": {},
   "source": [
    "Nous allons réestimer h par la méthode des polynômes locaux."
   ]
  },
  {
   "cell_type": "code",
   "execution_count": 178,
   "metadata": {},
   "outputs": [
    {
     "data": {
      "text/plain": [
       "array([0.45751393])"
      ]
     },
     "execution_count": 178,
     "metadata": {},
     "output_type": "execute_result"
    }
   ],
   "source": [
    "grid = np.linspace(1,6,100)\n",
    "\n",
    "Kreg4 = KernelReg(Data2_first['Y2'], Data2_first['X'], var_type = 'c', reg_type = 'll', bw = 'cv_ls')\n",
    "h_cv_4 = Kreg4.bw\n",
    "\n",
    "h_cv_4"
   ]
  },
  {
   "cell_type": "markdown",
   "metadata": {},
   "source": [
    "Maintenant que h est estimé, nous régressons $Y_i$ sur $X_i$ pour $i \\in ${1,...,2500} pour déterminer $\\hat{r}_{n,h}$"
   ]
  },
  {
   "cell_type": "code",
   "execution_count": 179,
   "metadata": {},
   "outputs": [],
   "source": [
    "h_cv_4 = 0.4575\n",
    "Kreg5 = KernelReg(Data2_first['Y2'], Data2_first['X'], var_type = 'c', reg_type = 'll', bw = h_cv_4*np.ones(1))\n",
    "r_hat5, dr_hat5 = Kreg5.fit(Data2_last['X'])"
   ]
  },
  {
   "cell_type": "markdown",
   "metadata": {},
   "source": [
    "Nous pouvons désormais implémenter l'estimateur de $x \\mapsto \\sigma(x)^2$ et le visualiser graphiquement."
   ]
  },
  {
   "cell_type": "code",
   "execution_count": 180,
   "metadata": {},
   "outputs": [
    {
     "data": {
      "text/plain": [
       "2.0095274740242237"
      ]
     },
     "execution_count": 180,
     "metadata": {},
     "output_type": "execute_result"
    },
    {
     "data": {
      "text/plain": [
       "[<matplotlib.lines.Line2D at 0x7ff5bbd71b50>]"
      ]
     },
     "execution_count": 180,
     "metadata": {},
     "output_type": "execute_result"
    },
    {
     "data": {
      "image/png": "[encoded data removed]",
      "text/plain": [
       "<Figure size 432x288 with 1 Axes>"
      ]
     },
     "metadata": {
      "needs_background": "light"
     },
     "output_type": "display_data"
    }
   ],
   "source": [
    "Eps2 = (Data2_last['Y2'] - r_hat5)**2\n",
    "1/(4999)*sum(Eps2)\n",
    "plt.plot(Eps2)"
   ]
  },
  {
   "cell_type": "markdown",
   "metadata": {},
   "source": [
    "En comparant avec le jeu de données, retrouve-t-on le résultat attendu ?"
   ]
  },
  {
   "cell_type": "code",
   "execution_count": 181,
   "metadata": {},
   "outputs": [
    {
     "data": {
      "text/html": [
       "<div>\n",
       "<style scoped>\n",
       "    .dataframe tbody tr th:only-of-type {\n",
       "        vertical-align: middle;\n",
       "    }\n",
       "\n",
       "    .dataframe tbody tr th {\n",
       "        vertical-align: top;\n",
       "    }\n",
       "\n",
       "    .dataframe thead th {\n",
       "        text-align: right;\n",
       "    }\n",
       "</style>\n",
       "<table border=\"1\" class=\"dataframe\">\n",
       "  <thead>\n",
       "    <tr style=\"text-align: right;\">\n",
       "      <th></th>\n",
       "      <th>Unnamed: 0</th>\n",
       "      <th>X</th>\n",
       "      <th>Y2</th>\n",
       "    </tr>\n",
       "  </thead>\n",
       "  <tbody>\n",
       "    <tr>\n",
       "      <th>count</th>\n",
       "      <td>5000.000000</td>\n",
       "      <td>5000.000000</td>\n",
       "      <td>5000.000000</td>\n",
       "    </tr>\n",
       "    <tr>\n",
       "      <th>mean</th>\n",
       "      <td>2500.500000</td>\n",
       "      <td>3.527486</td>\n",
       "      <td>1.226723</td>\n",
       "    </tr>\n",
       "    <tr>\n",
       "      <th>std</th>\n",
       "      <td>1443.520003</td>\n",
       "      <td>1.839532</td>\n",
       "      <td>2.075400</td>\n",
       "    </tr>\n",
       "    <tr>\n",
       "      <th>min</th>\n",
       "      <td>1.000000</td>\n",
       "      <td>1.000000</td>\n",
       "      <td>-7.603334</td>\n",
       "    </tr>\n",
       "    <tr>\n",
       "      <th>25%</th>\n",
       "      <td>1250.750000</td>\n",
       "      <td>1.617688</td>\n",
       "      <td>0.233537</td>\n",
       "    </tr>\n",
       "    <tr>\n",
       "      <th>50%</th>\n",
       "      <td>2500.500000</td>\n",
       "      <td>3.576746</td>\n",
       "      <td>1.046899</td>\n",
       "    </tr>\n",
       "    <tr>\n",
       "      <th>75%</th>\n",
       "      <td>3750.250000</td>\n",
       "      <td>5.418334</td>\n",
       "      <td>2.250319</td>\n",
       "    </tr>\n",
       "    <tr>\n",
       "      <th>max</th>\n",
       "      <td>5000.000000</td>\n",
       "      <td>6.000000</td>\n",
       "      <td>10.562283</td>\n",
       "    </tr>\n",
       "  </tbody>\n",
       "</table>\n",
       "</div>"
      ],
      "text/plain": [
       "        Unnamed: 0            X           Y2\n",
       "count  5000.000000  5000.000000  5000.000000\n",
       "mean   2500.500000     3.527486     1.226723\n",
       "std    1443.520003     1.839532     2.075400\n",
       "min       1.000000     1.000000    -7.603334\n",
       "25%    1250.750000     1.617688     0.233537\n",
       "50%    2500.500000     3.576746     1.046899\n",
       "75%    3750.250000     5.418334     2.250319\n",
       "max    5000.000000     6.000000    10.562283"
      ]
     },
     "execution_count": 181,
     "metadata": {},
     "output_type": "execute_result"
    }
   ],
   "source": [
    "Data2.describe()"
   ]
  },
  {
   "cell_type": "markdown",
   "metadata": {},
   "source": [
    "#### 3.2.2. La densité $x \\mapsto \\mu(x)$ peut-elle être gaussienne ? \n",
    "\n",
    "Proposer un protocole pour le vérifier empiriquement et l'implémenter. On pourra penser à renormaliser $\\tilde{\\xi}_i$ par la fonction estimée à la question précédente et s'aider des questions de la Section 3.1. "
   ]
  },
  {
   "cell_type": "markdown",
   "metadata": {},
   "source": [
    "Cette question nous a posé des difficultés. Nous proposons ici une solution mais l'issue de notre protocole était très certainement prévisible en vertue du théorême centrale limite. Nous le décrivons quand même:\n",
    "\n",
    "Si $x \\mapsto \\mu(x)$ est gaussienne alors les $ \\tilde{\\xi}_i \\sim \\mathcal{N}(\\mu,\\sigma)$. On en déduit alors que $ \\frac{\\tilde{\\xi}_i- \\mu}{\\sigma^2}  \\sim \\mathcal{N}(0,1)$. Nous proposons de vérifier cette dernière assertion par un test de blancheur."
   ]
  },
  {
   "cell_type": "code",
   "execution_count": 182,
   "metadata": {},
   "outputs": [
    {
     "data": {
      "text/plain": [
       "[<matplotlib.lines.Line2D at 0x7ff5a9daba60>]"
      ]
     },
     "execution_count": 182,
     "metadata": {},
     "output_type": "execute_result"
    },
    {
     "data": {
      "text/html": [
       "<div>\n",
       "<style scoped>\n",
       "    .dataframe tbody tr th:only-of-type {\n",
       "        vertical-align: middle;\n",
       "    }\n",
       "\n",
       "    .dataframe tbody tr th {\n",
       "        vertical-align: top;\n",
       "    }\n",
       "\n",
       "    .dataframe thead th {\n",
       "        text-align: right;\n",
       "    }\n",
       "</style>\n",
       "<table border=\"1\" class=\"dataframe\">\n",
       "  <thead>\n",
       "    <tr style=\"text-align: right;\">\n",
       "      <th></th>\n",
       "      <th>lb_stat</th>\n",
       "      <th>lb_pvalue</th>\n",
       "      <th>bp_stat</th>\n",
       "      <th>bp_pvalue</th>\n",
       "    </tr>\n",
       "  </thead>\n",
       "  <tbody>\n",
       "    <tr>\n",
       "      <th>1</th>\n",
       "      <td>0.021875</td>\n",
       "      <td>0.882421</td>\n",
       "      <td>0.021848</td>\n",
       "      <td>0.882491</td>\n",
       "    </tr>\n",
       "    <tr>\n",
       "      <th>2</th>\n",
       "      <td>2.634154</td>\n",
       "      <td>0.267917</td>\n",
       "      <td>2.629951</td>\n",
       "      <td>0.268481</td>\n",
       "    </tr>\n",
       "  </tbody>\n",
       "</table>\n",
       "</div>"
      ],
      "text/plain": [
       "    lb_stat  lb_pvalue   bp_stat  bp_pvalue\n",
       "1  0.021875   0.882421  0.021848   0.882491\n",
       "2  2.634154   0.267917  2.629951   0.268481"
      ]
     },
     "execution_count": 182,
     "metadata": {},
     "output_type": "execute_result"
    },
    {
     "data": {
      "image/png": "[encoded data removed]",
      "text/plain": [
       "<Figure size 432x288 with 1 Axes>"
      ]
     },
     "metadata": {
      "needs_background": "light"
     },
     "output_type": "display_data"
    }
   ],
   "source": [
    "Eps = Data2_last['Y2'] - r_hat5\n",
    "mu_hat = (1/n)*sum(Eps)\n",
    "sigma_hat = (1/(n-1))*sum(Eps2)\n",
    "Eps_norm = (Eps - mu_hat)/sigma_hat\n",
    "plt.plot(Eps_norm)\n",
    "\n",
    "import statsmodels.api as sm\n",
    "sm.stats.diagnostic.acorr_ljungbox(x=Eps_norm, lags=[1,2], boxpierce=True, model_df=0, period=None, return_df=True,auto_lag=False)"
   ]
  },
  {
   "cell_type": "markdown",
   "metadata": {},
   "source": [
    "Nous avons bien la représentation d'un bruit blanc ce que confirme le test de Box.Pierce. La densité $x -> \\mapsto \\mu(x)$ peut-être gaussienne."
   ]
  },
  {
   "cell_type": "markdown",
   "metadata": {},
   "source": [
    "Conclusion:\n",
    "\n",
    "Ce devoir nous a permis de manipuler les fonctions d'estimation de densité dans le cadre non paramétrique, d'appliquer les algorithmes de validation croisée de Nadaray-Watson pour déterminer l'estimateur d'un hyperparamètre mais aussi de faire de la régression linéaire non paramétrique.\n",
    "Bien souvent, l'habitude nous a conduit à nous rapprocher de notions utilisées en statistiques paramétriques tels que les tests de blancheur pour répondre aux questions.\n",
    "\n",
    "Dans ce devoir, un des points qui m'interroge concerne la représentation graphique de l'estimateur $\\tilde{\\xi}_i$. En effet sa variance semblait tronquée pour les valeurs négatives. Je serai curieux de connaître l'algorithme ayant permis de construire ce jeu de données.\n",
    "\n",
    "Outre la discipline statistique enseignée lors de ce cours, ce devoir nous a permis de nous initier à la programmation avec Python. Cette relatie inexpérience ne nous a pas permis de finaliser l'installation de rpy2.\n",
    "Dommage car il aurait été intéressant de comparer les sorties fournies par les programmes R avec ceux de Python mais l'installation de rpy2 a buggé. Nous retenterons cet essai lors d'un prochain devoir."
   ]
  }
 ],
 "metadata": {
  "kernelspec": {
   "display_name": "Python 3",
   "language": "python",
   "name": "python3"
  },
  "language_info": {
   "codemirror_mode": {
    "name": "ipython",
    "version": 3
   },
   "file_extension": ".py",
   "mimetype": "text/x-python",
   "name": "python",
   "nbconvert_exporter": "python",
   "pygments_lexer": "ipython3",
   "version": "3.8.5"
  }
 },
 "nbformat": 4,
 "nbformat_minor": 4
}
