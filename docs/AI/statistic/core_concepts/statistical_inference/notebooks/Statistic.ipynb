{
 "cells": [
  {
   "cell_type": "markdown",
   "metadata": {},
   "source": [
    "# Statistique inférentielle"
   ]
  },
  {
   "cell_type": "markdown",
   "metadata": {},
   "source": [
    "### Statistique inférentielle vs Statistique descriptive\n",
    "\n",
    "**Statistique descriptive:**\n",
    "\n",
    "L'objectif est de décrire les données.\n",
    "\n",
    "On peut en faire une représentation synthétique, sous formes graphiques ou en résumés numériques via des indicateurs.\n",
    "\n",
    "**Statistique inférentielle:**\n",
    "\n",
    "L'objectif est de préciser un phénomène sur une population à partir de son observation sur une partie restreinte de la population appelé échantillon.\n",
    "\n",
    "On va étudier les caractéristiques de la population (par rapport aux variables étudiées) comme la moyenne, la dispersion...\n",
    "Ou encore valider ou infirmer les hypothèses, sans interroger tous les individus de la population.\n",
    "\n",
    "La statistique inférentielle est une méthodologie pour inférer les conclusions concernant les résultats d'un échantillon représentatif à la population dont il est issu. Elle s'appuie sur la théorie des probabilités.\n",
    "\n",
    "Les deux grands types de méthodes sont l'estimation et les tests d'hypothèse."
   ]
  },
  {
   "cell_type": "markdown",
   "metadata": {},
   "source": [
    "# Import Libraries"
   ]
  },
  {
   "cell_type": "code",
   "execution_count": 1,
   "metadata": {},
   "outputs": [],
   "source": [
    "from scipy import stats\n",
    "import seaborn as sns\n",
    "import pandas as pd"
   ]
  },
  {
   "cell_type": "markdown",
   "metadata": {},
   "source": [
    "# Load the Titanic dataset"
   ]
  },
  {
   "cell_type": "code",
   "execution_count": 2,
   "metadata": {},
   "outputs": [
    {
     "data": {
      "text/html": [
       "<div>\n",
       "<style scoped>\n",
       "    .dataframe tbody tr th:only-of-type {\n",
       "        vertical-align: middle;\n",
       "    }\n",
       "\n",
       "    .dataframe tbody tr th {\n",
       "        vertical-align: top;\n",
       "    }\n",
       "\n",
       "    .dataframe thead th {\n",
       "        text-align: right;\n",
       "    }\n",
       "</style>\n",
       "<table border=\"1\" class=\"dataframe\">\n",
       "  <thead>\n",
       "    <tr style=\"text-align: right;\">\n",
       "      <th></th>\n",
       "      <th>survived</th>\n",
       "      <th>pclass</th>\n",
       "      <th>sex</th>\n",
       "      <th>age</th>\n",
       "      <th>sibsp</th>\n",
       "      <th>parch</th>\n",
       "      <th>fare</th>\n",
       "      <th>embarked</th>\n",
       "      <th>class</th>\n",
       "      <th>who</th>\n",
       "      <th>adult_male</th>\n",
       "      <th>deck</th>\n",
       "      <th>embark_town</th>\n",
       "      <th>alive</th>\n",
       "      <th>alone</th>\n",
       "    </tr>\n",
       "  </thead>\n",
       "  <tbody>\n",
       "    <tr>\n",
       "      <th>0</th>\n",
       "      <td>0</td>\n",
       "      <td>3</td>\n",
       "      <td>male</td>\n",
       "      <td>22.0</td>\n",
       "      <td>1</td>\n",
       "      <td>0</td>\n",
       "      <td>7.2500</td>\n",
       "      <td>S</td>\n",
       "      <td>Third</td>\n",
       "      <td>man</td>\n",
       "      <td>True</td>\n",
       "      <td>NaN</td>\n",
       "      <td>Southampton</td>\n",
       "      <td>no</td>\n",
       "      <td>False</td>\n",
       "    </tr>\n",
       "    <tr>\n",
       "      <th>1</th>\n",
       "      <td>1</td>\n",
       "      <td>1</td>\n",
       "      <td>female</td>\n",
       "      <td>38.0</td>\n",
       "      <td>1</td>\n",
       "      <td>0</td>\n",
       "      <td>71.2833</td>\n",
       "      <td>C</td>\n",
       "      <td>First</td>\n",
       "      <td>woman</td>\n",
       "      <td>False</td>\n",
       "      <td>C</td>\n",
       "      <td>Cherbourg</td>\n",
       "      <td>yes</td>\n",
       "      <td>False</td>\n",
       "    </tr>\n",
       "    <tr>\n",
       "      <th>2</th>\n",
       "      <td>1</td>\n",
       "      <td>3</td>\n",
       "      <td>female</td>\n",
       "      <td>26.0</td>\n",
       "      <td>0</td>\n",
       "      <td>0</td>\n",
       "      <td>7.9250</td>\n",
       "      <td>S</td>\n",
       "      <td>Third</td>\n",
       "      <td>woman</td>\n",
       "      <td>False</td>\n",
       "      <td>NaN</td>\n",
       "      <td>Southampton</td>\n",
       "      <td>yes</td>\n",
       "      <td>True</td>\n",
       "    </tr>\n",
       "    <tr>\n",
       "      <th>3</th>\n",
       "      <td>1</td>\n",
       "      <td>1</td>\n",
       "      <td>female</td>\n",
       "      <td>35.0</td>\n",
       "      <td>1</td>\n",
       "      <td>0</td>\n",
       "      <td>53.1000</td>\n",
       "      <td>S</td>\n",
       "      <td>First</td>\n",
       "      <td>woman</td>\n",
       "      <td>False</td>\n",
       "      <td>C</td>\n",
       "      <td>Southampton</td>\n",
       "      <td>yes</td>\n",
       "      <td>False</td>\n",
       "    </tr>\n",
       "    <tr>\n",
       "      <th>4</th>\n",
       "      <td>0</td>\n",
       "      <td>3</td>\n",
       "      <td>male</td>\n",
       "      <td>35.0</td>\n",
       "      <td>0</td>\n",
       "      <td>0</td>\n",
       "      <td>8.0500</td>\n",
       "      <td>S</td>\n",
       "      <td>Third</td>\n",
       "      <td>man</td>\n",
       "      <td>True</td>\n",
       "      <td>NaN</td>\n",
       "      <td>Southampton</td>\n",
       "      <td>no</td>\n",
       "      <td>True</td>\n",
       "    </tr>\n",
       "  </tbody>\n",
       "</table>\n",
       "</div>"
      ],
      "text/plain": [
       "   survived  pclass     sex   age  sibsp  parch     fare embarked  class  \\\n",
       "0         0       3    male  22.0      1      0   7.2500        S  Third   \n",
       "1         1       1  female  38.0      1      0  71.2833        C  First   \n",
       "2         1       3  female  26.0      0      0   7.9250        S  Third   \n",
       "3         1       1  female  35.0      1      0  53.1000        S  First   \n",
       "4         0       3    male  35.0      0      0   8.0500        S  Third   \n",
       "\n",
       "     who  adult_male deck  embark_town alive  alone  \n",
       "0    man        True  NaN  Southampton    no  False  \n",
       "1  woman       False    C    Cherbourg   yes  False  \n",
       "2  woman       False  NaN  Southampton   yes   True  \n",
       "3  woman       False    C  Southampton   yes  False  \n",
       "4    man        True  NaN  Southampton    no   True  "
      ]
     },
     "execution_count": 2,
     "metadata": {},
     "output_type": "execute_result"
    }
   ],
   "source": [
    "titanic = sns.load_dataset(\"titanic\")\n",
    "\n",
    "# Now you can access the data in the 'titanic' DataFrame\n",
    "titanic.head()  # This will show the first few rows of the dataset"
   ]
  },
  {
   "cell_type": "code",
   "execution_count": 3,
   "metadata": {},
   "outputs": [
    {
     "data": {
      "text/plain": [
       "survived         0\n",
       "pclass           0\n",
       "sex              0\n",
       "age            177\n",
       "sibsp            0\n",
       "parch            0\n",
       "fare             0\n",
       "embarked         2\n",
       "class            0\n",
       "who              0\n",
       "adult_male       0\n",
       "deck           688\n",
       "embark_town      2\n",
       "alive            0\n",
       "alone            0\n",
       "dtype: int64"
      ]
     },
     "execution_count": 3,
     "metadata": {},
     "output_type": "execute_result"
    }
   ],
   "source": [
    "# Number of missing data\n",
    "titanic.isnull().sum()"
   ]
  },
  {
   "cell_type": "code",
   "execution_count": 4,
   "metadata": {},
   "outputs": [
    {
     "data": {
      "text/plain": [
       "<Axes: xlabel='sex', ylabel='count'>"
      ]
     },
     "execution_count": 4,
     "metadata": {},
     "output_type": "execute_result"
    },
    {
     "data": {
      "image/png": "[encoded data removed]",
      "text/plain": [
       "<Figure size 640x480 with 1 Axes>"
      ]
     },
     "metadata": {},
     "output_type": "display_data"
    }
   ],
   "source": [
    "# Diagramme à barre:\n",
    "\n",
    "sns.countplot(x='sex', hue='alive', data = titanic)\n",
    "\n",
    "# hue: variable couleur"
   ]
  },
  {
   "cell_type": "markdown",
   "metadata": {},
   "source": [
    "# Test du Chi-Deux"
   ]
  },
  {
   "cell_type": "markdown",
   "metadata": {},
   "source": [
    "Les hypothèses:"
   ]
  },
  {
   "cell_type": "markdown",
   "metadata": {},
   "source": [
    "$ H_O : \\{ la \\ survie \\ est \\ indépendante \\ du \\ genre \\} $  \n",
    "$ H_1 : \\{ la \\ survie \\ est \\ dépendante \\ du \\ genre \\} $"
   ]
  },
  {
   "cell_type": "markdown",
   "metadata": {},
   "source": [
    "Tableau de contingence entre les variables survie et genre"
   ]
  },
  {
   "cell_type": "code",
   "execution_count": 5,
   "metadata": {},
   "outputs": [
    {
     "data": {
      "text/html": [
       "<div>\n",
       "<style scoped>\n",
       "    .dataframe tbody tr th:only-of-type {\n",
       "        vertical-align: middle;\n",
       "    }\n",
       "\n",
       "    .dataframe tbody tr th {\n",
       "        vertical-align: top;\n",
       "    }\n",
       "\n",
       "    .dataframe thead th {\n",
       "        text-align: right;\n",
       "    }\n",
       "</style>\n",
       "<table border=\"1\" class=\"dataframe\">\n",
       "  <thead>\n",
       "    <tr style=\"text-align: right;\">\n",
       "      <th>alive</th>\n",
       "      <th>no</th>\n",
       "      <th>yes</th>\n",
       "    </tr>\n",
       "    <tr>\n",
       "      <th>sex</th>\n",
       "      <th></th>\n",
       "      <th></th>\n",
       "    </tr>\n",
       "  </thead>\n",
       "  <tbody>\n",
       "    <tr>\n",
       "      <th>female</th>\n",
       "      <td>81</td>\n",
       "      <td>233</td>\n",
       "    </tr>\n",
       "    <tr>\n",
       "      <th>male</th>\n",
       "      <td>468</td>\n",
       "      <td>109</td>\n",
       "    </tr>\n",
       "  </tbody>\n",
       "</table>\n",
       "</div>"
      ],
      "text/plain": [
       "alive    no  yes\n",
       "sex             \n",
       "female   81  233\n",
       "male    468  109"
      ]
     },
     "execution_count": 5,
     "metadata": {},
     "output_type": "execute_result"
    }
   ],
   "source": [
    "# Tableau de contingence\n",
    "\n",
    "cont = pd.crosstab(titanic['sex'], titanic['alive'])\n",
    "\n",
    "cont"
   ]
  },
  {
   "cell_type": "code",
   "execution_count": 40,
   "metadata": {},
   "outputs": [
    {
     "data": {
      "text/plain": [
       "193.4747474747475"
      ]
     },
     "execution_count": 40,
     "metadata": {},
     "output_type": "execute_result"
    }
   ],
   "source": [
    "# Count expected (1,1):\n",
    "(81+468)*(81+233)/(81+468+233+109)"
   ]
  },
  {
   "cell_type": "code",
   "execution_count": 41,
   "metadata": {},
   "outputs": [
    {
     "data": {
      "text/plain": [
       "array([[193.47474747, 120.52525253],\n",
       "       [355.52525253, 221.47474747]])"
      ]
     },
     "execution_count": 41,
     "metadata": {},
     "output_type": "execute_result"
    }
   ],
   "source": [
    "# The expected contingency:\n",
    "stats.contingency.expected_freq(cont)"
   ]
  },
  {
   "cell_type": "code",
   "execution_count": 35,
   "metadata": {},
   "outputs": [
    {
     "data": {
      "text/html": [
       "<div>\n",
       "<style scoped>\n",
       "    .dataframe tbody tr th:only-of-type {\n",
       "        vertical-align: middle;\n",
       "    }\n",
       "\n",
       "    .dataframe tbody tr th {\n",
       "        vertical-align: top;\n",
       "    }\n",
       "\n",
       "    .dataframe thead th {\n",
       "        text-align: right;\n",
       "    }\n",
       "</style>\n",
       "<table border=\"1\" class=\"dataframe\">\n",
       "  <thead>\n",
       "    <tr style=\"text-align: right;\">\n",
       "      <th>alive</th>\n",
       "      <th>no</th>\n",
       "      <th>yes</th>\n",
       "    </tr>\n",
       "    <tr>\n",
       "      <th>sex</th>\n",
       "      <th></th>\n",
       "      <th></th>\n",
       "    </tr>\n",
       "  </thead>\n",
       "  <tbody>\n",
       "    <tr>\n",
       "      <th>female</th>\n",
       "      <td>26.0%</td>\n",
       "      <td>74.0%</td>\n",
       "    </tr>\n",
       "    <tr>\n",
       "      <th>male</th>\n",
       "      <td>81.0%</td>\n",
       "      <td>19.0%</td>\n",
       "    </tr>\n",
       "  </tbody>\n",
       "</table>\n",
       "</div>"
      ],
      "text/plain": [
       "alive      no    yes\n",
       "sex                 \n",
       "female  26.0%  74.0%\n",
       "male    81.0%  19.0%"
      ]
     },
     "execution_count": 35,
     "metadata": {},
     "output_type": "execute_result"
    }
   ],
   "source": [
    "# Tableau de contingence en pourcentage\n",
    "\n",
    "pd.crosstab(titanic['sex'], titanic['alive'], normalize='index').mul(100).round(0).astype(str) + '%'"
   ]
  },
  {
   "cell_type": "markdown",
   "metadata": {},
   "source": [
    "Test du chi2\n",
    "\n",
    "https://docs.scipy.org/doc/scipy/reference/generated/scipy.stats.chi2_contingency.html\n",
    "\n",
    "stats.chi2_contingency(cont)"
   ]
  },
  {
   "cell_type": "code",
   "execution_count": 60,
   "metadata": {},
   "outputs": [],
   "source": [
    "# Test du Chi-2 avec correction de Pearson\n",
    "\n",
    "chi2, pvalue, dof, expected  = stats.chi2_contingency(cont, correction=False)\n",
    "\n",
    "# 1. Correction de Yates (par défaut):\n",
    "# C'est la méthode la plus courante et elle est recommandée pour les petits échantillons (moins de 5 observations par cellule). \n",
    "# Elle consiste à soustraire 0,5 de chaque cellule du tableau de contingence avant de calculer le chi-deux.\n",
    "\n",
    "# 2. Correction de Pearson:\n",
    "# Elle est moins conservative que la correction de Yates et est recommandée pour les grands échantillons (plus de 20 observations par cellule). \n",
    "# Elle consiste à calculer le chi-deux sur la base des fréquences attendues, qui sont calculées en supposant l'indépendance des variables."
   ]
  },
  {
   "cell_type": "code",
   "execution_count": 61,
   "metadata": {},
   "outputs": [
    {
     "data": {
      "text/plain": [
       "263.05057407065567"
      ]
     },
     "execution_count": 61,
     "metadata": {},
     "output_type": "execute_result"
    }
   ],
   "source": [
    "# The statistic Chi-2:\n",
    "chi2"
   ]
  },
  {
   "cell_type": "code",
   "execution_count": 62,
   "metadata": {},
   "outputs": [
    {
     "name": "stdout",
     "output_type": "stream",
     "text": [
      "p-value:  3.711747770113424e-59\n"
     ]
    }
   ],
   "source": [
    "# The p-value:\n",
    "print('p-value: ', pvalue)"
   ]
  },
  {
   "cell_type": "code",
   "execution_count": 66,
   "metadata": {},
   "outputs": [
    {
     "name": "stdout",
     "output_type": "stream",
     "text": [
      "Chi-deux: 263.05057407065567\n",
      "p-valeur: 3.711747770113424e-59\n",
      "Degrés de liberté: 1\n",
      "Valeurs attendues: [[193.47474747 120.52525253]\n",
      " [355.52525253 221.47474747]]\n"
     ]
    }
   ],
   "source": [
    "# Afficher les résultats\n",
    "\n",
    "# Seuil de risque alpha de 5%\n",
    "ALPHA = 0.05\n",
    "\n",
    "print(\"Chi-deux:\", chi2)\n",
    "print(\"p-valeur:\", pvalue)\n",
    "print(\"Degrés de liberté:\", dof)\n",
    "print(\"Valeurs attendues:\", expected)"
   ]
  },
  {
   "cell_type": "code",
   "execution_count": 67,
   "metadata": {},
   "outputs": [
    {
     "name": "stdout",
     "output_type": "stream",
     "text": [
      "Rejet de l'hypothèse nulle : il y a dépendance entre les deux variable.\n"
     ]
    }
   ],
   "source": [
    "# Conclusion\n",
    "\n",
    "if pvalue <= ALPHA:\n",
    "    print(\"Rejet de l'hypothèse nulle : il y a dépendance entre les deux variables.\")\n",
    "else:\n",
    "    print(\"Acceptation de l'hypothèse nulle : Les deux variables ne sont pas dépendantes.\")"
   ]
  },
  {
   "cell_type": "markdown",
   "metadata": {},
   "source": [
    "# Test de Student"
   ]
  },
  {
   "cell_type": "markdown",
   "metadata": {},
   "source": [
    "Le test de Student a pour objectif de comparer les moyennes d'une variable numérique entre deux groupes."
   ]
  },
  {
   "cell_type": "code",
   "execution_count": 68,
   "metadata": {},
   "outputs": [
    {
     "data": {
      "text/plain": [
       "survived          int64\n",
       "pclass            int64\n",
       "sex              object\n",
       "age             float64\n",
       "sibsp             int64\n",
       "parch             int64\n",
       "fare            float64\n",
       "embarked         object\n",
       "class          category\n",
       "who              object\n",
       "adult_male         bool\n",
       "deck           category\n",
       "embark_town      object\n",
       "alive            object\n",
       "alone              bool\n",
       "dtype: object"
      ]
     },
     "execution_count": 68,
     "metadata": {},
     "output_type": "execute_result"
    }
   ],
   "source": [
    "titanic.dtypes"
   ]
  },
  {
   "cell_type": "code",
   "execution_count": 90,
   "metadata": {},
   "outputs": [
    {
     "data": {
      "text/plain": [
       "0     22.0\n",
       "4     35.0\n",
       "6     54.0\n",
       "7      2.0\n",
       "12    20.0\n",
       "Name: age, dtype: float64"
      ]
     },
     "execution_count": 90,
     "metadata": {},
     "output_type": "execute_result"
    }
   ],
   "source": [
    "# Afficher les âges des 5 premières hommes:\n",
    "\n",
    "# filtre sur les hommes:\n",
    "mask = (titanic['sex'] == 'male') & titanic['age'].notnull()\n",
    "\n",
    "# ages des hommes:\n",
    "man_age = titanic.loc[mask, 'age']\n",
    "\n",
    "man_age.head()"
   ]
  },
  {
   "cell_type": "code",
   "execution_count": 91,
   "metadata": {},
   "outputs": [
    {
     "data": {
      "text/plain": [
       "30.72664459161148"
      ]
     },
     "execution_count": 91,
     "metadata": {},
     "output_type": "execute_result"
    }
   ],
   "source": [
    "# Calculer l'âge moyen des hommes:\n",
    "\n",
    "titanic.loc[mask, 'age'].mean()"
   ]
  },
  {
   "cell_type": "code",
   "execution_count": 92,
   "metadata": {},
   "outputs": [
    {
     "data": {
      "text/plain": [
       "1    38.0\n",
       "2    26.0\n",
       "3    35.0\n",
       "8    27.0\n",
       "9    14.0\n",
       "Name: age, dtype: float64"
      ]
     },
     "execution_count": 92,
     "metadata": {},
     "output_type": "execute_result"
    }
   ],
   "source": [
    "# Même exercice pour les femmes\n",
    "\n",
    "# Âge des 5 permières femmes:\n",
    "\n",
    "# filtre sur les femmes dont l'âge est renseigné:\n",
    "\n",
    "mask = (titanic['sex'] == 'female') & (titanic['age'].notnull())\n",
    "\n",
    "# ages des femmes:\n",
    "\n",
    "woman_age = titanic.loc[mask, 'age']\n",
    "\n",
    "woman_age.head().astype(int)"
   ]
  },
  {
   "cell_type": "code",
   "execution_count": 93,
   "metadata": {},
   "outputs": [
    {
     "data": {
      "text/plain": [
       "27.915708812260537"
      ]
     },
     "execution_count": 93,
     "metadata": {},
     "output_type": "execute_result"
    }
   ],
   "source": [
    "# Âge moyen des femmes:\n",
    "\n",
    "titanic.loc[mask, 'age'].mean()"
   ]
  },
  {
   "cell_type": "markdown",
   "metadata": {},
   "source": [
    "Avant d'effectuer le test d'égalité des moyennes de Student Il faut s'assurer que les conditions pour effectuer le test sont remplies.  \n",
    "\n"
   ]
  },
  {
   "cell_type": "markdown",
   "metadata": {},
   "source": [
    "**Conditions d'utilisation du Test de Student:**\n",
    "\n",
    "Le test de Student repose sur plusieurs conditions :\n",
    "\n",
    "- Normalité des données: \n",
    "\n",
    "Les données de chaque groupe doivent suivre une distribution normale.\n",
    "\n",
    "- Homogénéité des variances: \n",
    "\n",
    "Les variances des deux groupes doivent être égales.\n",
    "\n",
    "\n",
    "- Indépendance des observations:\n",
    "\n",
    "Les observations de chaque groupe doivent être indépendantes les unes des autres."
   ]
  },
  {
   "cell_type": "markdown",
   "metadata": {},
   "source": [
    "Vérification des conditions:\n",
    "\n",
    "1. Normalité des données:\n",
    "\n",
    "- Histogramme: \n",
    "\n",
    "Visualisez l'histogramme de l'âge pour chaque groupe. La forme de l'histogramme doit être symétrique et sans valeurs aberrantes.\n",
    "\n"
   ]
  },
  {
   "cell_type": "code",
   "execution_count": null,
   "metadata": {},
   "outputs": [],
   "source": []
  },
  {
   "cell_type": "markdown",
   "metadata": {},
   "source": [
    "Vérification des conditions:\n",
    "\n",
    "1. Normalité des données:\n",
    "\n",
    "- Test de Shapiro-Wilk: \n",
    "\n",
    "Effectuez un test de **Shapiro-Wilk** pour chaque groupe. La p-valeur doit être supérieure au seuil de 0,05 pour ne pas rejeter l'hypothèse de normalité.  "
   ]
  },
  {
   "cell_type": "code",
   "execution_count": 107,
   "metadata": {},
   "outputs": [
    {
     "name": "stdout",
     "output_type": "stream",
     "text": [
      "Hommes:\n",
      "ShapiroResult(statistic=0.9747290015220642, pvalue=4.5739304255221214e-07) \n",
      "\n",
      "Femmes:\n",
      "ShapiroResult(statistic=0.9847877025604248, pvalue=0.007052930071949959)\n"
     ]
    }
   ],
   "source": [
    "# Tester la normalité des données\n",
    "print(\"Hommes:\")\n",
    "\n",
    "mask = (titanic['sex'] == 'male') & titanic['age'].notnull()\n",
    "\n",
    "print(stats.shapiro(titanic.loc[mask, 'age']),'\\n')\n",
    "\n",
    "print(\"Femmes:\")\n",
    "\n",
    "mask = (titanic['sex'] == 'female') & titanic['age'].notnull()\n",
    "\n",
    "print(stats.shapiro(titanic.loc[mask, 'age']))"
   ]
  },
  {
   "cell_type": "markdown",
   "metadata": {},
   "source": [
    "Interprétation:\n",
    "\n",
    "Les p-valeurs des tests de Shapiro-Wilk sont supérieures à 0,05 pour les deux groupes, ce qui ne permet pas de rejeter l'hypothèse de normalité.\n",
    "La p-valeur du test de Levene est supérieure à 0,05, ce qui ne permet pas de rejeter l'hypothèse d'homogénéité des variances."
   ]
  },
  {
   "cell_type": "markdown",
   "metadata": {},
   "source": [
    "Vérification des conditions:\n",
    "\n",
    "2. Homogénéité des variances:\n",
    "\n",
    "Test de Levene: Effectuez un **test de Levene** pour comparer les variances des deux groupes. La p-valeur doit être supérieure au seuil de 0,05 pour ne pas rejeter l'hypothèse d'homogénéité des variances.\n"
   ]
  },
  {
   "cell_type": "code",
   "execution_count": 108,
   "metadata": {},
   "outputs": [
    {
     "name": "stdout",
     "output_type": "stream",
     "text": [
      "LeveneResult(statistic=0.0013033299127842275, pvalue=0.9712114169671999)\n"
     ]
    }
   ],
   "source": [
    "mask1 = (titanic['sex'] == 'male') & titanic['age'].notnull()\n",
    "mask2 = (titanic['sex'] == 'female') & titanic['age'].notnull()\n",
    "\n",
    "print(stats.levene(titanic.loc[mask1, 'age'], titanic.loc[mask2, 'age']))"
   ]
  },
  {
   "cell_type": "markdown",
   "metadata": {},
   "source": [
    "Vérification des conditions:\n",
    "\n",
    "2. Homogénéité des variances:\n",
    "\n",
    "Test de Levene: Effectuez un test de Levene pour comparer les variances des deux groupes. La p-valeur doit être supérieure au seuil de 0,05 pour ne pas rejeter l'hypothèse d'homogénéité des variances.\n",
    "\n"
   ]
  },
  {
   "cell_type": "code",
   "execution_count": 94,
   "metadata": {},
   "outputs": [],
   "source": [
    "# Test de Student d'égalité des moyennes:\n",
    "\n",
    "t, pvalue = stats.ttest_ind(man_age, woman_age)"
   ]
  },
  {
   "cell_type": "code",
   "execution_count": 95,
   "metadata": {},
   "outputs": [],
   "source": [
    "# Fixation du seuil de risque:\n",
    "\n",
    "ALPHA = 0.05"
   ]
  },
  {
   "cell_type": "code",
   "execution_count": 96,
   "metadata": {},
   "outputs": [
    {
     "name": "stdout",
     "output_type": "stream",
     "text": [
      "t-statistique: 2.499206354920835\n",
      "p-valeur: 0.012671296797013709\n"
     ]
    }
   ],
   "source": [
    "# Afficher les résultats:\n",
    "\n",
    "print(\"t-statistique:\", t)\n",
    "print(\"p-valeur:\", pvalue)"
   ]
  },
  {
   "cell_type": "code",
   "execution_count": 101,
   "metadata": {},
   "outputs": [
    {
     "name": "stdout",
     "output_type": "stream",
     "text": [
      "Rejet de l'hypothèse nulle : Les moyennes sont différentes au seuil alpha.\n"
     ]
    }
   ],
   "source": [
    "# Conclusion du test de Student:\n",
    "\n",
    "if pvalue <= ALPHA:\n",
    "   print(\"Rejet de l'hypothèse nulle : Les moyennes sont différentes au seuil alpha.\")\n",
    "else:\n",
    "  print(\"Acceptation de l'hypothèse nulle : Les moyennes ne sont pas différentes.\")"
   ]
  },
  {
   "cell_type": "markdown",
   "metadata": {},
   "source": [
    "La p-valeur est de 0,01267, ce qui est inférieur au seuil de 0,05. Cela signifie que nous pouvons rejeter l'hypothèse nulle à un niveau de confiance de 95%.   \n",
    "\n",
    "En d'autres termes, il y a suffisamment de preuves pour conclure que la moyenne d'âge est différente entre les hommes et les femmes."
   ]
  },
  {
   "cell_type": "code",
   "execution_count": null,
   "metadata": {},
   "outputs": [],
   "source": [
    "import pandas as pd\n",
    "from scipy import stats\n",
    "\n",
    "# Importer le jeu de données\n",
    "df = pd.read_csv(\"titanic.csv\")\n",
    "\n",
    "# Filtrer les passagers de sexe \"male\" et \"female\"\n",
    "df = df.loc[df['Sex'].isin(['male', 'female'])]\n",
    "\n",
    "# Comparer la moyenne d'âge entre les hommes et les femmes\n",
    "t, p = stats.ttest_ind(df.loc[df['Sex'] == 'male', 'Age'], df.loc[df['Sex'] == 'female', 'Age'])\n",
    "\n",
    "# Déterminer le seuil de p-valeur\n",
    "alpha = 0.05\n",
    "\n",
    "# Afficher les résultats\n",
    "print(\"t-statistique:\", t)\n",
    "print(\"p-valeur:\", p)\n",
    "\n",
    "# Conclusion\n",
    "if p <= alpha:\n",
    "  print(\"Rejet de l'hypothèse nulle : La moyenne d'âge est différente entre les hommes et les femmes.\")\n",
    "else:\n",
    "  print(\"Acceptation de l'hypothèse nulle : La moyenne d'âge n'est pas différente entre les hommes et les femmes.\")"
   ]
  },
  {
   "cell_type": "markdown",
   "metadata": {},
   "source": [
    "# Test de Corrélation"
   ]
  },
  {
   "cell_type": "markdown",
   "metadata": {},
   "source": [
    "# Test ANOVA"
   ]
  },
  {
   "cell_type": "code",
   "execution_count": 4,
   "metadata": {},
   "outputs": [],
   "source": [
    "\n",
    "# Définir les degrés de liberté\n",
    "df1 = 3\n",
    "df2 = 56\n",
    "\n",
    "# Définir le niveau de confiance (1 - alpha)\n",
    "confidence_level = 1 - 0.05"
   ]
  },
  {
   "cell_type": "code",
   "execution_count": null,
   "metadata": {},
   "outputs": [],
   "source": [
    "\n",
    "# Calculer la statistique de Fisher\n",
    "f_stat = stats.fstat(df1, df2, confidence_level)\n",
    "\n",
    "# Afficher la statistique de Fisher\n",
    "print(f\"Statistique de Fisher: {f_stat}\")"
   ]
  },
  {
   "cell_type": "markdown",
   "metadata": {},
   "source": [
    "Bibliographie:\n",
    "- Statistique inféérentielle : idées, démarches,exemples. J.J. Daudin, S. Robin, C. Vuillet. Société Française de Statistique et Presses Universitaires de Rennes (PUR). Collection“Pratique de la Statistique”. 1999\n",
    "- Comprendre et utiliser les statistiques dans les sciences de la vie. B. Falissard. Masson. 2005 (3eme ed).\n",
    "- Probabilités, Analyse des données et Statistiques. G. Saporta. Editions Technip. 2011.\n",
    "- Statistiques avec R. PA. Cornillon, A. Guyader, F. Husson, N. Jégou, J. Josse, M. Kloareg, E. Matzner-Lober, L. Rouviére. PUR, France. 2010 (2eme ed augmentée).\n",
    "- http ://www.agro-montpellier.fr/cnam-lr/statnet Le site ”Les Techniques de la Statistique”\n",
    "- http ://wikistat.fr\n",
    "- http ://eric.univ-lyon2.fr/ ricco/cours/index.html ”M ́ethodes statistiques” / Cours de statistique"
   ]
  }
 ],
 "metadata": {
  "kernelspec": {
   "display_name": "Python 3 (ipykernel)",
   "language": "python",
   "name": "python3"
  },
  "language_info": {
   "codemirror_mode": {
    "name": "ipython",
    "version": 3
   },
   "file_extension": ".py",
   "mimetype": "text/x-python",
   "name": "python",
   "nbconvert_exporter": "python",
   "pygments_lexer": "ipython3",
   "version": "3.11.7"
  },
  "toc": {
   "base_numbering": 1,
   "nav_menu": {},
   "number_sections": true,
   "sideBar": true,
   "skip_h1_title": false,
   "title_cell": "Table of Contents",
   "title_sidebar": "Contents",
   "toc_cell": false,
   "toc_position": {},
   "toc_section_display": true,
   "toc_window_display": false
  }
 },
 "nbformat": 4,
 "nbformat_minor": 4
}
