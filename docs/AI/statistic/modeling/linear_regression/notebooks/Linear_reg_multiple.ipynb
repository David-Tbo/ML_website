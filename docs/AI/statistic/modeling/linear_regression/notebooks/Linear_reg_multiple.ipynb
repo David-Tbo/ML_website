{
 "cells": [
  {
   "cell_type": "markdown",
   "metadata": {},
   "source": [
    "# Linear regression (multiple)"
   ]
  },
  {
   "cell_type": "code",
   "execution_count": 6,
   "metadata": {},
   "outputs": [],
   "source": [
    "# load the data\n",
    "import pandas as pd\n",
    "\n",
    "df = pd.read_table(\"/Users/davidtbo/Documents/Data_Science/99_Data/eucalyptus.txt\", sep=\" \")"
   ]
  },
  {
   "cell_type": "code",
   "execution_count": 7,
   "metadata": {},
   "outputs": [
    {
     "data": {
      "text/html": [
       "<div>\n",
       "<style scoped>\n",
       "    .dataframe tbody tr th:only-of-type {\n",
       "        vertical-align: middle;\n",
       "    }\n",
       "\n",
       "    .dataframe tbody tr th {\n",
       "        vertical-align: top;\n",
       "    }\n",
       "\n",
       "    .dataframe thead th {\n",
       "        text-align: right;\n",
       "    }\n",
       "</style>\n",
       "<table border=\"1\" class=\"dataframe\">\n",
       "  <thead>\n",
       "    <tr style=\"text-align: right;\">\n",
       "      <th></th>\n",
       "      <th>ht</th>\n",
       "      <th>circ</th>\n",
       "      <th>bloc</th>\n",
       "    </tr>\n",
       "  </thead>\n",
       "  <tbody>\n",
       "    <tr>\n",
       "      <th>0</th>\n",
       "      <td>18.25</td>\n",
       "      <td>36</td>\n",
       "      <td>A1</td>\n",
       "    </tr>\n",
       "    <tr>\n",
       "      <th>1</th>\n",
       "      <td>19.75</td>\n",
       "      <td>42</td>\n",
       "      <td>A1</td>\n",
       "    </tr>\n",
       "    <tr>\n",
       "      <th>2</th>\n",
       "      <td>16.50</td>\n",
       "      <td>33</td>\n",
       "      <td>A1</td>\n",
       "    </tr>\n",
       "    <tr>\n",
       "      <th>3</th>\n",
       "      <td>18.25</td>\n",
       "      <td>39</td>\n",
       "      <td>A1</td>\n",
       "    </tr>\n",
       "    <tr>\n",
       "      <th>4</th>\n",
       "      <td>19.50</td>\n",
       "      <td>43</td>\n",
       "      <td>A1</td>\n",
       "    </tr>\n",
       "  </tbody>\n",
       "</table>\n",
       "</div>"
      ],
      "text/plain": [
       "      ht  circ bloc\n",
       "0  18.25    36   A1\n",
       "1  19.75    42   A1\n",
       "2  16.50    33   A1\n",
       "3  18.25    39   A1\n",
       "4  19.50    43   A1"
      ]
     },
     "execution_count": 7,
     "metadata": {},
     "output_type": "execute_result"
    }
   ],
   "source": [
    "df.head()"
   ]
  },
  {
   "cell_type": "code",
   "execution_count": 8,
   "metadata": {},
   "outputs": [
    {
     "data": {
      "text/plain": [
       "Index(['ht', 'circ', 'bloc'], dtype='object')"
      ]
     },
     "execution_count": 8,
     "metadata": {},
     "output_type": "execute_result"
    }
   ],
   "source": [
    "df.columns"
   ]
  },
  {
   "cell_type": "code",
   "execution_count": 18,
   "metadata": {},
   "outputs": [
    {
     "data": {
      "text/plain": [
       "(1429, 3)"
      ]
     },
     "execution_count": 18,
     "metadata": {},
     "output_type": "execute_result"
    }
   ],
   "source": [
    "df.shape"
   ]
  },
  {
   "cell_type": "code",
   "execution_count": 9,
   "metadata": {},
   "outputs": [
    {
     "data": {
      "text/html": [
       "<div>\n",
       "<style scoped>\n",
       "    .dataframe tbody tr th:only-of-type {\n",
       "        vertical-align: middle;\n",
       "    }\n",
       "\n",
       "    .dataframe tbody tr th {\n",
       "        vertical-align: top;\n",
       "    }\n",
       "\n",
       "    .dataframe thead th {\n",
       "        text-align: right;\n",
       "    }\n",
       "</style>\n",
       "<table border=\"1\" class=\"dataframe\">\n",
       "  <thead>\n",
       "    <tr style=\"text-align: right;\">\n",
       "      <th></th>\n",
       "      <th>ht</th>\n",
       "      <th>circ</th>\n",
       "      <th>bloc</th>\n",
       "    </tr>\n",
       "  </thead>\n",
       "  <tbody>\n",
       "    <tr>\n",
       "      <th>count</th>\n",
       "      <td>1429.000000</td>\n",
       "      <td>1429.000000</td>\n",
       "      <td>1429</td>\n",
       "    </tr>\n",
       "    <tr>\n",
       "      <th>unique</th>\n",
       "      <td>NaN</td>\n",
       "      <td>NaN</td>\n",
       "      <td>3</td>\n",
       "    </tr>\n",
       "    <tr>\n",
       "      <th>top</th>\n",
       "      <td>NaN</td>\n",
       "      <td>NaN</td>\n",
       "      <td>A2</td>\n",
       "    </tr>\n",
       "    <tr>\n",
       "      <th>freq</th>\n",
       "      <td>NaN</td>\n",
       "      <td>NaN</td>\n",
       "      <td>586</td>\n",
       "    </tr>\n",
       "    <tr>\n",
       "      <th>mean</th>\n",
       "      <td>21.212386</td>\n",
       "      <td>47.347796</td>\n",
       "      <td>NaN</td>\n",
       "    </tr>\n",
       "    <tr>\n",
       "      <th>std</th>\n",
       "      <td>2.490516</td>\n",
       "      <td>8.489743</td>\n",
       "      <td>NaN</td>\n",
       "    </tr>\n",
       "    <tr>\n",
       "      <th>min</th>\n",
       "      <td>11.250000</td>\n",
       "      <td>26.000000</td>\n",
       "      <td>NaN</td>\n",
       "    </tr>\n",
       "    <tr>\n",
       "      <th>25%</th>\n",
       "      <td>19.750000</td>\n",
       "      <td>42.000000</td>\n",
       "      <td>NaN</td>\n",
       "    </tr>\n",
       "    <tr>\n",
       "      <th>50%</th>\n",
       "      <td>21.750000</td>\n",
       "      <td>48.000000</td>\n",
       "      <td>NaN</td>\n",
       "    </tr>\n",
       "    <tr>\n",
       "      <th>75%</th>\n",
       "      <td>23.000000</td>\n",
       "      <td>54.000000</td>\n",
       "      <td>NaN</td>\n",
       "    </tr>\n",
       "    <tr>\n",
       "      <th>max</th>\n",
       "      <td>27.750000</td>\n",
       "      <td>77.000000</td>\n",
       "      <td>NaN</td>\n",
       "    </tr>\n",
       "  </tbody>\n",
       "</table>\n",
       "</div>"
      ],
      "text/plain": [
       "                 ht         circ  bloc\n",
       "count   1429.000000  1429.000000  1429\n",
       "unique          NaN          NaN     3\n",
       "top             NaN          NaN    A2\n",
       "freq            NaN          NaN   586\n",
       "mean      21.212386    47.347796   NaN\n",
       "std        2.490516     8.489743   NaN\n",
       "min       11.250000    26.000000   NaN\n",
       "25%       19.750000    42.000000   NaN\n",
       "50%       21.750000    48.000000   NaN\n",
       "75%       23.000000    54.000000   NaN\n",
       "max       27.750000    77.000000   NaN"
      ]
     },
     "execution_count": 9,
     "metadata": {},
     "output_type": "execute_result"
    }
   ],
   "source": [
    "df.describe(include='all')"
   ]
  },
  {
   "cell_type": "code",
   "execution_count": 19,
   "metadata": {},
   "outputs": [],
   "source": [
    "import matplotlib.pyplot as plt"
   ]
  },
  {
   "cell_type": "code",
   "execution_count": 20,
   "metadata": {},
   "outputs": [
    {
     "data": {
      "image/png": "[encoded data removed]",
      "text/plain": [
       "<Figure size 640x480 with 1 Axes>"
      ]
     },
     "metadata": {},
     "output_type": "display_data"
    }
   ],
   "source": [
    "# Create a scatter plot (nuage de points)\n",
    "plt.plot(df[\"circ\"], df[\"ht\"], \"o\")\n",
    "\n",
    "# Define the labels\n",
    "plt.xlabel(\"Circonférence\")\n",
    "plt.ylabel(\"Hauteur\")\n",
    "\n",
    "# Display the graph\n",
    "plt.show()"
   ]
  },
  {
   "cell_type": "code",
   "execution_count": 21,
   "metadata": {},
   "outputs": [
    {
     "name": "stdout",
     "output_type": "stream",
     "text": [
      "                            OLS Regression Results                            \n",
      "==============================================================================\n",
      "Dep. Variable:                     ht   R-squared:                       0.768\n",
      "Model:                            OLS   Adj. R-squared:                  0.768\n",
      "Method:                 Least Squares   F-statistic:                     4732.\n",
      "Date:                Sun, 18 Feb 2024   Prob (F-statistic):               0.00\n",
      "Time:                        22:08:05   Log-Likelihood:                -2286.2\n",
      "No. Observations:                1429   AIC:                             4576.\n",
      "Df Residuals:                    1427   BIC:                             4587.\n",
      "Df Model:                           1                                         \n",
      "Covariance Type:            nonrobust                                         \n",
      "==============================================================================\n",
      "                 coef    std err          t      P>|t|      [0.025      0.975]\n",
      "------------------------------------------------------------------------------\n",
      "Intercept      9.0375      0.180     50.264      0.000       8.685       9.390\n",
      "circ           0.2571      0.004     68.792      0.000       0.250       0.264\n",
      "==============================================================================\n",
      "Omnibus:                        7.943   Durbin-Watson:                   1.067\n",
      "Prob(Omnibus):                  0.019   Jarque-Bera (JB):                8.015\n",
      "Skew:                          -0.156   Prob(JB):                       0.0182\n",
      "Kurtosis:                       3.193   Cond. No.                         273.\n",
      "==============================================================================\n",
      "\n",
      "Notes:\n",
      "[1] Standard Errors assume that the covariance matrix of the errors is correctly specified.\n"
     ]
    }
   ],
   "source": [
    "import numpy as np\n",
    "\n",
    "from statsmodels.formula.api import ols\n",
    "\n",
    "# Assuming your data is stored in a pandas DataFrame named 'euca'\n",
    "model1 = ols('ht ~ circ', data=df).fit()\n",
    "\n",
    "# Print the model summary\n",
    "print(model1.summary())"
   ]
  },
  {
   "cell_type": "code",
   "execution_count": 24,
   "metadata": {},
   "outputs": [],
   "source": [
    "\n",
    "# Extract regression coefficients\n",
    "intercept = model1.params[0]\n",
    "slope = model1.params[1]"
   ]
  },
  {
   "cell_type": "code",
   "execution_count": 28,
   "metadata": {},
   "outputs": [
    {
     "data": {
      "image/png": "[encoded data removed]",
      "text/plain": [
       "<Figure size 640x480 with 1 Axes>"
      ]
     },
     "metadata": {},
     "output_type": "display_data"
    }
   ],
   "source": [
    "# Data Visualization:\n",
    "\n",
    "# Add regression line to the plot\n",
    "plt.plot(df[\"circ\"], df[\"ht\"], \"o\")\n",
    "plt.plot(df[\"circ\"], intercept + slope * df[\"circ\"], \"-r\")\n",
    "\n",
    "# Customize the plot\n",
    "plt.xlabel(\"Circonférence\")\n",
    "plt.ylabel(\"Hauteur\")\n",
    "plt.title(\"Regression globale\")\n",
    "\n",
    "# Show the plot\n",
    "plt.show()"
   ]
  },
  {
   "cell_type": "code",
   "execution_count": 30,
   "metadata": {},
   "outputs": [
    {
     "name": "stdout",
     "output_type": "stream",
     "text": [
      "Model 2 summary:\n",
      "                            OLS Regression Results                            \n",
      "==============================================================================\n",
      "Dep. Variable:                     ht   R-squared:                       0.792\n",
      "Model:                            OLS   Adj. R-squared:                  0.792\n",
      "Method:                 Least Squares   F-statistic:                     2718.\n",
      "Date:                Sun, 18 Feb 2024   Prob (F-statistic):               0.00\n",
      "Time:                        22:17:44   Log-Likelihood:                -2208.5\n",
      "No. Observations:                1429   AIC:                             4423.\n",
      "Df Residuals:                    1426   BIC:                             4439.\n",
      "Df Model:                           2                                         \n",
      "Covariance Type:            nonrobust                                         \n",
      "====================================================================================\n",
      "                       coef    std err          t      P>|t|      [0.025      0.975]\n",
      "------------------------------------------------------------------------------------\n",
      "Intercept          -24.3520      2.614     -9.314      0.000     -29.481     -19.223\n",
      "circ                -0.4829      0.058     -8.336      0.000      -0.597      -0.369\n",
      "I(np.sqrt(circ))     9.9869      0.780     12.798      0.000       8.456      11.518\n",
      "==============================================================================\n",
      "Omnibus:                        3.015   Durbin-Watson:                   0.947\n",
      "Prob(Omnibus):                  0.221   Jarque-Bera (JB):                2.897\n",
      "Skew:                          -0.097   Prob(JB):                        0.235\n",
      "Kurtosis:                       3.103   Cond. No.                     4.41e+03\n",
      "==============================================================================\n",
      "\n",
      "Notes:\n",
      "[1] Standard Errors assume that the covariance matrix of the errors is correctly specified.\n",
      "[2] The condition number is large, 4.41e+03. This might indicate that there are\n",
      "strong multicollinearity or other numerical problems.\n"
     ]
    }
   ],
   "source": [
    "# Model 2: ht ~ circ + I(sqrt(circ))\n",
    "model2 = ols('ht ~ circ + I(np.sqrt(circ))', data=df).fit()\n",
    "\n",
    "# Print model summaries\n",
    "print(\"Model 2 summary:\")\n",
    "print(model2.summary())"
   ]
  },
  {
   "cell_type": "code",
   "execution_count": 31,
   "metadata": {},
   "outputs": [
    {
     "name": "stdout",
     "output_type": "stream",
     "text": [
      "Model 3 summary:\n",
      "                            OLS Regression Results                            \n",
      "==============================================================================\n",
      "Dep. Variable:                     ht   R-squared:                       0.782\n",
      "Model:                            OLS   Adj. R-squared:                  0.782\n",
      "Method:                 Least Squares   F-statistic:                     5121.\n",
      "Date:                Sun, 18 Feb 2024   Prob (F-statistic):               0.00\n",
      "Time:                        22:18:04   Log-Likelihood:                -2242.5\n",
      "No. Observations:                1429   AIC:                             4489.\n",
      "Df Residuals:                    1427   BIC:                             4500.\n",
      "Df Model:                           1                                         \n",
      "Covariance Type:            nonrobust                                         \n",
      "====================================================================================\n",
      "                       coef    std err          t      P>|t|      [0.025      0.975]\n",
      "------------------------------------------------------------------------------------\n",
      "Intercept           -2.7304      0.336     -8.126      0.000      -3.389      -2.071\n",
      "I(np.sqrt(circ))     3.4942      0.049     71.560      0.000       3.398       3.590\n",
      "==============================================================================\n",
      "Omnibus:                        3.687   Durbin-Watson:                   1.016\n",
      "Prob(Omnibus):                  0.158   Jarque-Bera (JB):                3.579\n",
      "Skew:                          -0.106   Prob(JB):                        0.167\n",
      "Kurtosis:                       3.123   Cond. No.                         76.7\n",
      "==============================================================================\n",
      "\n",
      "Notes:\n",
      "[1] Standard Errors assume that the covariance matrix of the errors is correctly specified.\n"
     ]
    }
   ],
   "source": [
    "# Model 3: ht ~ I(sqrt(circ))\n",
    "model3 = ols('ht ~ I(np.sqrt(circ))', data=df).fit()\n",
    "\n",
    "# Print model summaries\n",
    "print(\"Model 3 summary:\")\n",
    "print(model3.summary())"
   ]
  },
  {
   "cell_type": "code",
   "execution_count": 33,
   "metadata": {},
   "outputs": [
    {
     "name": "stdout",
     "output_type": "stream",
     "text": [
      "              df       sum_sq      mean_sq            F  PR(>F)\n",
      "circ         1.0  6805.331791  6805.331791  4732.364074     0.0\n",
      "Residual  1427.0  2052.083972     1.438041          NaN     NaN\n"
     ]
    }
   ],
   "source": [
    "import statsmodels.api as sm\n",
    "\n",
    "anova_result = sm.stats.anova_lm(model1, type=2)\n",
    "print(anova_result)"
   ]
  },
  {
   "cell_type": "code",
   "execution_count": 37,
   "metadata": {},
   "outputs": [
    {
     "name": "stdout",
     "output_type": "stream",
     "text": [
      "                            OLS Regression Results                            \n",
      "==============================================================================\n",
      "Dep. Variable:                     ht   R-squared:                       0.768\n",
      "Model:                            OLS   Adj. R-squared:                  0.768\n",
      "Method:                 Least Squares   F-statistic:                     4732.\n",
      "Date:                Sun, 18 Feb 2024   Prob (F-statistic):               0.00\n",
      "Time:                        22:37:46   Log-Likelihood:                -2286.2\n",
      "No. Observations:                1429   AIC:                             4576.\n",
      "Df Residuals:                    1427   BIC:                             4587.\n",
      "Df Model:                           1                                         \n",
      "Covariance Type:            nonrobust                                         \n",
      "==============================================================================\n",
      "                 coef    std err          t      P>|t|      [0.025      0.975]\n",
      "------------------------------------------------------------------------------\n",
      "Intercept      9.0375      0.180     50.264      0.000       8.685       9.390\n",
      "circ           0.2571      0.004     68.792      0.000       0.250       0.264\n",
      "==============================================================================\n",
      "Omnibus:                        7.943   Durbin-Watson:                   1.067\n",
      "Prob(Omnibus):                  0.019   Jarque-Bera (JB):                8.015\n",
      "Skew:                          -0.156   Prob(JB):                       0.0182\n",
      "Kurtosis:                       3.193   Cond. No.                         273.\n",
      "==============================================================================\n",
      "\n",
      "Notes:\n",
      "[1] Standard Errors assume that the covariance matrix of the errors is correctly specified.\n"
     ]
    }
   ],
   "source": [
    "print(model1.summary())"
   ]
  },
  {
   "cell_type": "code",
   "execution_count": 38,
   "metadata": {},
   "outputs": [],
   "source": [
    "\n",
    "# Create new data frame with prediction range\n",
    "xnew = pd.DataFrame({'circ': np.linspace(df['circ'].min(), df['circ'].max(), 1000)})\n"
   ]
  },
  {
   "cell_type": "code",
   "execution_count": 47,
   "metadata": {},
   "outputs": [
    {
     "data": {
      "text/html": [
       "<div>\n",
       "<style scoped>\n",
       "    .dataframe tbody tr th:only-of-type {\n",
       "        vertical-align: middle;\n",
       "    }\n",
       "\n",
       "    .dataframe tbody tr th {\n",
       "        vertical-align: top;\n",
       "    }\n",
       "\n",
       "    .dataframe thead th {\n",
       "        text-align: right;\n",
       "    }\n",
       "</style>\n",
       "<table border=\"1\" class=\"dataframe\">\n",
       "  <thead>\n",
       "    <tr style=\"text-align: right;\">\n",
       "      <th></th>\n",
       "      <th>circ</th>\n",
       "    </tr>\n",
       "  </thead>\n",
       "  <tbody>\n",
       "    <tr>\n",
       "      <th>0</th>\n",
       "      <td>26.000000</td>\n",
       "    </tr>\n",
       "    <tr>\n",
       "      <th>1</th>\n",
       "      <td>26.051051</td>\n",
       "    </tr>\n",
       "    <tr>\n",
       "      <th>2</th>\n",
       "      <td>26.102102</td>\n",
       "    </tr>\n",
       "    <tr>\n",
       "      <th>3</th>\n",
       "      <td>26.153153</td>\n",
       "    </tr>\n",
       "    <tr>\n",
       "      <th>4</th>\n",
       "      <td>26.204204</td>\n",
       "    </tr>\n",
       "  </tbody>\n",
       "</table>\n",
       "</div>"
      ],
      "text/plain": [
       "        circ\n",
       "0  26.000000\n",
       "1  26.051051\n",
       "2  26.102102\n",
       "3  26.153153\n",
       "4  26.204204"
      ]
     },
     "execution_count": 47,
     "metadata": {},
     "output_type": "execute_result"
    }
   ],
   "source": [
    "xnew.head()"
   ]
  },
  {
   "cell_type": "code",
   "execution_count": 39,
   "metadata": {},
   "outputs": [],
   "source": [
    "\n",
    "# Generate predictions with confidence intervals\n",
    "ICpred = pd.DataFrame(model1.get_prediction(xnew).summary_frame(alpha=0.05))\n"
   ]
  },
  {
   "cell_type": "code",
   "execution_count": 40,
   "metadata": {},
   "outputs": [
    {
     "data": {
      "text/html": [
       "<div>\n",
       "<style scoped>\n",
       "    .dataframe tbody tr th:only-of-type {\n",
       "        vertical-align: middle;\n",
       "    }\n",
       "\n",
       "    .dataframe tbody tr th {\n",
       "        vertical-align: top;\n",
       "    }\n",
       "\n",
       "    .dataframe thead th {\n",
       "        text-align: right;\n",
       "    }\n",
       "</style>\n",
       "<table border=\"1\" class=\"dataframe\">\n",
       "  <thead>\n",
       "    <tr style=\"text-align: right;\">\n",
       "      <th></th>\n",
       "      <th>mean</th>\n",
       "      <th>mean_se</th>\n",
       "      <th>mean_ci_lower</th>\n",
       "      <th>mean_ci_upper</th>\n",
       "      <th>obs_ci_lower</th>\n",
       "      <th>obs_ci_upper</th>\n",
       "    </tr>\n",
       "  </thead>\n",
       "  <tbody>\n",
       "    <tr>\n",
       "      <th>0</th>\n",
       "      <td>15.723060</td>\n",
       "      <td>0.085870</td>\n",
       "      <td>15.554614</td>\n",
       "      <td>15.891505</td>\n",
       "      <td>13.364685</td>\n",
       "      <td>18.081434</td>\n",
       "    </tr>\n",
       "    <tr>\n",
       "      <th>1</th>\n",
       "      <td>15.736187</td>\n",
       "      <td>0.085693</td>\n",
       "      <td>15.568089</td>\n",
       "      <td>15.904285</td>\n",
       "      <td>13.377837</td>\n",
       "      <td>18.094537</td>\n",
       "    </tr>\n",
       "    <tr>\n",
       "      <th>2</th>\n",
       "      <td>15.749314</td>\n",
       "      <td>0.085516</td>\n",
       "      <td>15.581564</td>\n",
       "      <td>15.917064</td>\n",
       "      <td>13.390989</td>\n",
       "      <td>18.107639</td>\n",
       "    </tr>\n",
       "    <tr>\n",
       "      <th>3</th>\n",
       "      <td>15.762441</td>\n",
       "      <td>0.085339</td>\n",
       "      <td>15.595039</td>\n",
       "      <td>15.929844</td>\n",
       "      <td>13.404141</td>\n",
       "      <td>18.120742</td>\n",
       "    </tr>\n",
       "    <tr>\n",
       "      <th>4</th>\n",
       "      <td>15.775569</td>\n",
       "      <td>0.085161</td>\n",
       "      <td>15.608514</td>\n",
       "      <td>15.942623</td>\n",
       "      <td>13.417293</td>\n",
       "      <td>18.133844</td>\n",
       "    </tr>\n",
       "  </tbody>\n",
       "</table>\n",
       "</div>"
      ],
      "text/plain": [
       "        mean   mean_se  mean_ci_lower  mean_ci_upper  obs_ci_lower  \\\n",
       "0  15.723060  0.085870      15.554614      15.891505     13.364685   \n",
       "1  15.736187  0.085693      15.568089      15.904285     13.377837   \n",
       "2  15.749314  0.085516      15.581564      15.917064     13.390989   \n",
       "3  15.762441  0.085339      15.595039      15.929844     13.404141   \n",
       "4  15.775569  0.085161      15.608514      15.942623     13.417293   \n",
       "\n",
       "   obs_ci_upper  \n",
       "0     18.081434  \n",
       "1     18.094537  \n",
       "2     18.107639  \n",
       "3     18.120742  \n",
       "4     18.133844  "
      ]
     },
     "execution_count": 40,
     "metadata": {},
     "output_type": "execute_result"
    }
   ],
   "source": [
    "ICpred.head()"
   ]
  },
  {
   "cell_type": "code",
   "execution_count": 46,
   "metadata": {},
   "outputs": [
    {
     "name": "stdout",
     "output_type": "stream",
     "text": [
      "        mean   mean_se  mean_ci_lower  mean_ci_upper  obs_ci_lower  obs_ci_upper       circ\n",
      "0  15.723060  0.085870      15.554614      15.891505     13.364685     18.081434  26.000000\n",
      "1  15.736187  0.085693      15.568089      15.904285     13.377837     18.094537  26.051051\n",
      "2  15.749314  0.085516      15.581564      15.917064     13.390989     18.107639  26.102102\n",
      "3  15.762441  0.085339      15.595039      15.929844     13.404141     18.120742  26.153153\n",
      "4  15.775569  0.085161      15.608514      15.942623     13.417293     18.133844  26.204204\n"
     ]
    }
   ],
   "source": [
    "\n",
    "# Combine predictions and new data\n",
    "res_pred = pd.concat([ICpred, xnew], axis=1)\n",
    "\n",
    "print(res_pred.head().to_string())"
   ]
  },
  {
   "cell_type": "markdown",
   "metadata": {},
   "source": [
    "Exercice\n",
    "1. Charger le fichier \"jouet1.txt\" dans un dataframe nommé jouet1. Au vu du graphique de y contre x, une régression linéaire vous semble-t-elle indiquée ?  \n",
    "2. Faire la régression de y sur x et mettre le résultat dans un objet nommé reg. Afficher le résumé des résultats. Le résultat confirme-t-il la réponse à la question 1 ?  \n",
    "3. Afficher le graphique des résidus εˆ contre les valeurs ajustées yˆ . ii\n",
    "Que penser de ce graphique au vu de ce que l’on sait sur ces deux quantités ?  \n",
    "4. Afficher le graphique des résidus contre x. Identifier le problème."
   ]
  }
 ],
 "metadata": {
  "kernelspec": {
   "display_name": "base",
   "language": "python",
   "name": "python3"
  },
  "language_info": {
   "codemirror_mode": {
    "name": "ipython",
    "version": 3
   },
   "file_extension": ".py",
   "mimetype": "text/x-python",
   "name": "python",
   "nbconvert_exporter": "python",
   "pygments_lexer": "ipython3",
   "version": "3.11.5"
  }
 },
 "nbformat": 4,
 "nbformat_minor": 2
}
