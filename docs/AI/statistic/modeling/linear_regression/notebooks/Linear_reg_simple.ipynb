{
 "cells": [
  {
   "cell_type": "markdown",
   "metadata": {},
   "source": [
    "# Linear regression (simple)"
   ]
  },
  {
   "cell_type": "markdown",
   "metadata": {},
   "source": [
    "Exercice\n",
    "1. Charger le fichier \"jouet1.txt\" dans un dataframe nommé jouet1. Au vu du graphique de y contre x, une régression linéaire vous semble-t-elle indiquée ?  \n",
    "2. Faire la régression de y sur x et mettre le résultat dans un objet nommé reg. Afficher le résumé des résultats. Le résultat confirme-t-il la réponse à la question 1 ?  \n",
    "3. Afficher le graphique des résidus εˆ contre les valeurs ajustées yˆ .  \n",
    "ii Que penser de ce graphique au vu de ce que l’on sait sur ces deux quantités ?   \n",
    "4. Afficher le graphique des résidus contre x. Identifier le problème."
   ]
  },
  {
   "cell_type": "code",
   "execution_count": 57,
   "metadata": {},
   "outputs": [],
   "source": [
    "# load the data\n",
    "import pandas as pd\n",
    "\n",
    "df = pd.read_table(\"/Users/davidtbo/Documents/Data_Science/99_Data/jouet1.txt\", sep=\" \")"
   ]
  },
  {
   "cell_type": "code",
   "execution_count": 58,
   "metadata": {},
   "outputs": [
    {
     "data": {
      "text/html": [
       "<div>\n",
       "<style scoped>\n",
       "    .dataframe tbody tr th:only-of-type {\n",
       "        vertical-align: middle;\n",
       "    }\n",
       "\n",
       "    .dataframe tbody tr th {\n",
       "        vertical-align: top;\n",
       "    }\n",
       "\n",
       "    .dataframe thead th {\n",
       "        text-align: right;\n",
       "    }\n",
       "</style>\n",
       "<table border=\"1\" class=\"dataframe\">\n",
       "  <thead>\n",
       "    <tr style=\"text-align: right;\">\n",
       "      <th></th>\n",
       "      <th>y</th>\n",
       "      <th>x</th>\n",
       "    </tr>\n",
       "  </thead>\n",
       "  <tbody>\n",
       "    <tr>\n",
       "      <th>0</th>\n",
       "      <td>2.161254</td>\n",
       "      <td>1.040725</td>\n",
       "    </tr>\n",
       "    <tr>\n",
       "      <th>1</th>\n",
       "      <td>0.604845</td>\n",
       "      <td>0.224656</td>\n",
       "    </tr>\n",
       "    <tr>\n",
       "      <th>2</th>\n",
       "      <td>1.784275</td>\n",
       "      <td>0.829065</td>\n",
       "    </tr>\n",
       "    <tr>\n",
       "      <th>3</th>\n",
       "      <td>0.756488</td>\n",
       "      <td>0.065402</td>\n",
       "    </tr>\n",
       "    <tr>\n",
       "      <th>4</th>\n",
       "      <td>4.421222</td>\n",
       "      <td>1.470699</td>\n",
       "    </tr>\n",
       "  </tbody>\n",
       "</table>\n",
       "</div>"
      ],
      "text/plain": [
       "          y         x\n",
       "0  2.161254  1.040725\n",
       "1  0.604845  0.224656\n",
       "2  1.784275  0.829065\n",
       "3  0.756488  0.065402\n",
       "4  4.421222  1.470699"
      ]
     },
     "execution_count": 58,
     "metadata": {},
     "output_type": "execute_result"
    }
   ],
   "source": [
    "df.head()"
   ]
  },
  {
   "cell_type": "code",
   "execution_count": 59,
   "metadata": {},
   "outputs": [
    {
     "data": {
      "text/plain": [
       "Index(['y', 'x'], dtype='object')"
      ]
     },
     "execution_count": 59,
     "metadata": {},
     "output_type": "execute_result"
    }
   ],
   "source": [
    "df.columns"
   ]
  },
  {
   "cell_type": "code",
   "execution_count": 60,
   "metadata": {},
   "outputs": [
    {
     "data": {
      "text/plain": [
       "(100, 2)"
      ]
     },
     "execution_count": 60,
     "metadata": {},
     "output_type": "execute_result"
    }
   ],
   "source": [
    "df.shape"
   ]
  },
  {
   "cell_type": "code",
   "execution_count": 61,
   "metadata": {},
   "outputs": [
    {
     "data": {
      "text/html": [
       "<div>\n",
       "<style scoped>\n",
       "    .dataframe tbody tr th:only-of-type {\n",
       "        vertical-align: middle;\n",
       "    }\n",
       "\n",
       "    .dataframe tbody tr th {\n",
       "        vertical-align: top;\n",
       "    }\n",
       "\n",
       "    .dataframe thead th {\n",
       "        text-align: right;\n",
       "    }\n",
       "</style>\n",
       "<table border=\"1\" class=\"dataframe\">\n",
       "  <thead>\n",
       "    <tr style=\"text-align: right;\">\n",
       "      <th></th>\n",
       "      <th>y</th>\n",
       "      <th>x</th>\n",
       "    </tr>\n",
       "  </thead>\n",
       "  <tbody>\n",
       "    <tr>\n",
       "      <th>count</th>\n",
       "      <td>100.000000</td>\n",
       "      <td>100.000000</td>\n",
       "    </tr>\n",
       "    <tr>\n",
       "      <th>mean</th>\n",
       "      <td>2.809423</td>\n",
       "      <td>0.975125</td>\n",
       "    </tr>\n",
       "    <tr>\n",
       "      <th>std</th>\n",
       "      <td>1.942694</td>\n",
       "      <td>0.629643</td>\n",
       "    </tr>\n",
       "    <tr>\n",
       "      <th>min</th>\n",
       "      <td>-0.455165</td>\n",
       "      <td>0.002972</td>\n",
       "    </tr>\n",
       "    <tr>\n",
       "      <th>25%</th>\n",
       "      <td>1.217609</td>\n",
       "      <td>0.384678</td>\n",
       "    </tr>\n",
       "    <tr>\n",
       "      <th>50%</th>\n",
       "      <td>2.158483</td>\n",
       "      <td>0.876917</td>\n",
       "    </tr>\n",
       "    <tr>\n",
       "      <th>75%</th>\n",
       "      <td>4.500821</td>\n",
       "      <td>1.607201</td>\n",
       "    </tr>\n",
       "    <tr>\n",
       "      <th>max</th>\n",
       "      <td>6.179396</td>\n",
       "      <td>1.943342</td>\n",
       "    </tr>\n",
       "  </tbody>\n",
       "</table>\n",
       "</div>"
      ],
      "text/plain": [
       "                y           x\n",
       "count  100.000000  100.000000\n",
       "mean     2.809423    0.975125\n",
       "std      1.942694    0.629643\n",
       "min     -0.455165    0.002972\n",
       "25%      1.217609    0.384678\n",
       "50%      2.158483    0.876917\n",
       "75%      4.500821    1.607201\n",
       "max      6.179396    1.943342"
      ]
     },
     "execution_count": 61,
     "metadata": {},
     "output_type": "execute_result"
    }
   ],
   "source": [
    "df.describe(include='all')"
   ]
  },
  {
   "cell_type": "code",
   "execution_count": 62,
   "metadata": {},
   "outputs": [],
   "source": [
    "import matplotlib.pyplot as plt"
   ]
  },
  {
   "cell_type": "code",
   "execution_count": 63,
   "metadata": {},
   "outputs": [
    {
     "data": {
      "image/png": "[encoded data removed]",
      "text/plain": [
       "<Figure size 640x480 with 1 Axes>"
      ]
     },
     "metadata": {},
     "output_type": "display_data"
    }
   ],
   "source": [
    "# Create a scatter plot (nuage de points)\n",
    "plt.plot(df[\"x\"], df[\"y\"], \"o\")\n",
    "\n",
    "# Define the labels\n",
    "plt.xlabel(\"x\")\n",
    "plt.ylabel(\"y\")\n",
    "\n",
    "# Display the graph\n",
    "plt.show()"
   ]
  },
  {
   "cell_type": "code",
   "execution_count": 64,
   "metadata": {},
   "outputs": [
    {
     "name": "stdout",
     "output_type": "stream",
     "text": [
      "                            OLS Regression Results                            \n",
      "==============================================================================\n",
      "Dep. Variable:                      y   R-squared:                       0.949\n",
      "Model:                            OLS   Adj. R-squared:                  0.948\n",
      "Method:                 Least Squares   F-statistic:                     1810.\n",
      "Date:                Thu, 22 Feb 2024   Prob (F-statistic):           5.53e-65\n",
      "Time:                        16:10:12   Log-Likelihood:                -59.367\n",
      "No. Observations:                 100   AIC:                             122.7\n",
      "Df Residuals:                      98   BIC:                             127.9\n",
      "Df Model:                           1                                         \n",
      "Covariance Type:            nonrobust                                         \n",
      "==============================================================================\n",
      "                 coef    std err          t      P>|t|      [0.025      0.975]\n",
      "------------------------------------------------------------------------------\n",
      "Intercept     -0.1209      0.082     -1.477      0.143      -0.283       0.042\n",
      "x              3.0051      0.071     42.540      0.000       2.865       3.145\n",
      "==============================================================================\n",
      "Omnibus:                        5.265   Durbin-Watson:                   1.960\n",
      "Prob(Omnibus):                  0.072   Jarque-Bera (JB):                2.566\n",
      "Skew:                          -0.063   Prob(JB):                        0.277\n",
      "Kurtosis:                       2.225   Cond. No.                         3.45\n",
      "==============================================================================\n",
      "\n",
      "Notes:\n",
      "[1] Standard Errors assume that the covariance matrix of the errors is correctly specified.\n"
     ]
    }
   ],
   "source": [
    "import numpy as np\n",
    "\n",
    "from statsmodels.formula.api import ols\n",
    "\n",
    "# Assuming your data is stored in a pandas DataFrame named 'jouet'\n",
    "model1 = ols('y ~ x', data=df).fit()\n",
    "\n",
    "# Print the model summary\n",
    "print(model1.summary())"
   ]
  },
  {
   "cell_type": "code",
   "execution_count": 65,
   "metadata": {},
   "outputs": [
    {
     "data": {
      "image/png": "[encoded data removed]",
      "text/plain": [
       "<Figure size 640x480 with 1 Axes>"
      ]
     },
     "metadata": {},
     "output_type": "display_data"
    }
   ],
   "source": [
    "# Extract regression coefficients\n",
    "intercept = model1.params[0]\n",
    "slope = model1.params[1]\n",
    "\n",
    "# Add regression line to the plot\n",
    "plt.plot(df[\"x\"], df[\"y\"], \"o\")\n",
    "plt.plot(df[\"x\"], intercept + slope * df[\"x\"], \"-r\")\n",
    "\n",
    "# Customize the plot\n",
    "plt.xlabel(\"x\")\n",
    "plt.ylabel(\"y\")\n",
    "plt.title(\"Regression globale\")\n",
    "\n",
    "# Show the plot\n",
    "plt.show()"
   ]
  },
  {
   "cell_type": "code",
   "execution_count": 67,
   "metadata": {},
   "outputs": [],
   "source": [
    "# Residuals : e = y_observed - y_estimated\n",
    "df['res'] = df['y'] - intercept + slope * df[\"x\"]"
   ]
  },
  {
   "cell_type": "code",
   "execution_count": 48,
   "metadata": {},
   "outputs": [
    {
     "data": {
      "image/png": "[encoded data removed]",
      "text/plain": [
       "<Figure size 640x480 with 1 Axes>"
      ]
     },
     "metadata": {},
     "output_type": "display_data"
    }
   ],
   "source": [
    "# plot residuals * y\n",
    "\n",
    "# Add regression line to the plot\n",
    "plt.plot(df[\"res\"], df[\"y\"], \"o\")\n",
    "#plt.plot(df[\"x\"], intercept + slope * df[\"x\"], \"-r\")\n",
    "\n",
    "# Customize the plot\n",
    "plt.xlabel(\"Residuals\")\n",
    "plt.ylabel(\"y\")\n",
    "plt.title(\"Analysis of the residuals\")\n",
    "\n",
    "# Show the plot\n",
    "plt.show()"
   ]
  },
  {
   "cell_type": "code",
   "execution_count": 68,
   "metadata": {},
   "outputs": [
    {
     "name": "stdout",
     "output_type": "stream",
     "text": [
      "Model 2 summary:\n",
      "                            OLS Regression Results                            \n",
      "==============================================================================\n",
      "Dep. Variable:                      y   R-squared:                       0.987\n",
      "Model:                            OLS   Adj. R-squared:                  0.987\n",
      "Method:                 Least Squares   F-statistic:                     7636.\n",
      "Date:                Thu, 22 Feb 2024   Prob (F-statistic):           8.85e-95\n",
      "Time:                        16:13:41   Log-Likelihood:                 10.620\n",
      "No. Observations:                 100   AIC:                            -17.24\n",
      "Df Residuals:                      98   BIC:                            -12.03\n",
      "Df Model:                           1                                         \n",
      "Covariance Type:            nonrobust                                         \n",
      "==============================================================================\n",
      "                 coef    std err          t      P>|t|      [0.025      0.975]\n",
      "------------------------------------------------------------------------------\n",
      "Intercept     -0.1601      0.040     -3.955      0.000      -0.240      -0.080\n",
      "res            0.5067      0.006     87.383      0.000       0.495       0.518\n",
      "==============================================================================\n",
      "Omnibus:                        5.295   Durbin-Watson:                   1.923\n",
      "Prob(Omnibus):                  0.071   Jarque-Bera (JB):                2.539\n",
      "Skew:                          -0.032   Prob(JB):                        0.281\n",
      "Kurtosis:                       2.222   Cond. No.                         13.0\n",
      "==============================================================================\n",
      "\n",
      "Notes:\n",
      "[1] Standard Errors assume that the covariance matrix of the errors is correctly specified.\n"
     ]
    }
   ],
   "source": [
    "# Model 2: y ~ res\n",
    "model2 = ols('y ~ res', data=df).fit()\n",
    "\n",
    "# Print model summaries\n",
    "print(\"Model 2 summary:\")\n",
    "print(model2.summary())"
   ]
  },
  {
   "cell_type": "code",
   "execution_count": 69,
   "metadata": {},
   "outputs": [
    {
     "data": {
      "image/png": "[encoded data removed]",
      "text/plain": [
       "<Figure size 640x480 with 1 Axes>"
      ]
     },
     "metadata": {},
     "output_type": "display_data"
    }
   ],
   "source": [
    "# Extract regression coefficients\n",
    "intercept = model2.params[0]\n",
    "slope = model2.params[1]\n",
    "# plot residuals * y\n",
    "\n",
    "# Add regression line to the plot\n",
    "plt.plot(df[\"res\"], df[\"y\"], \"o\")\n",
    "plt.plot(df[\"res\"], intercept + slope * df[\"res\"], \"-r\")\n",
    "\n",
    "# Customize the plot\n",
    "plt.xlabel(\"Residuals\")\n",
    "plt.ylabel(\"y\")\n",
    "plt.title(\"Analysis of the residuals\")\n",
    "\n",
    "# Show the plot\n",
    "plt.show()"
   ]
  },
  {
   "cell_type": "code",
   "execution_count": 70,
   "metadata": {},
   "outputs": [
    {
     "name": "stdout",
     "output_type": "stream",
     "text": [
      "Model 3 summary:\n",
      "                            OLS Regression Results                            \n",
      "==============================================================================\n",
      "Dep. Variable:                      x   R-squared:                       0.987\n",
      "Model:                            OLS   Adj. R-squared:                  0.987\n",
      "Method:                 Least Squares   F-statistic:                     7238.\n",
      "Date:                Thu, 22 Feb 2024   Prob (F-statistic):           1.17e-93\n",
      "Time:                        16:13:53   Log-Likelihood:                 120.65\n",
      "No. Observations:                 100   AIC:                            -237.3\n",
      "Df Residuals:                      98   BIC:                            -232.1\n",
      "Df Model:                           1                                         \n",
      "Covariance Type:            nonrobust                                         \n",
      "==============================================================================\n",
      "                 coef    std err          t      P>|t|      [0.025      0.975]\n",
      "------------------------------------------------------------------------------\n",
      "Intercept      0.0130      0.013      0.967      0.336      -0.014       0.040\n",
      "res            0.1642      0.002     85.079      0.000       0.160       0.168\n",
      "==============================================================================\n",
      "Omnibus:                        5.295   Durbin-Watson:                   1.923\n",
      "Prob(Omnibus):                  0.071   Jarque-Bera (JB):                2.539\n",
      "Skew:                           0.032   Prob(JB):                        0.281\n",
      "Kurtosis:                       2.222   Cond. No.                         13.0\n",
      "==============================================================================\n",
      "\n",
      "Notes:\n",
      "[1] Standard Errors assume that the covariance matrix of the errors is correctly specified.\n"
     ]
    }
   ],
   "source": [
    "# Model 2: x ~ res\n",
    "model3 = ols('x ~ res', data=df).fit()\n",
    "\n",
    "# Print model summaries\n",
    "print(\"Model 3 summary:\")\n",
    "print(model3.summary())"
   ]
  },
  {
   "cell_type": "code",
   "execution_count": 71,
   "metadata": {},
   "outputs": [
    {
     "data": {
      "image/png": "[encoded data removed]",
      "text/plain": [
       "<Figure size 640x480 with 1 Axes>"
      ]
     },
     "metadata": {},
     "output_type": "display_data"
    }
   ],
   "source": [
    "# Extract regression coefficients\n",
    "intercept = model3.params[0]\n",
    "slope = model3.params[1]\n",
    "# plot residuals * y\n",
    "\n",
    "# Add regression line to the plot\n",
    "plt.plot(df[\"res\"], df[\"x\"], \"o\")\n",
    "plt.plot(df[\"res\"], intercept + slope * df[\"res\"], \"-r\")\n",
    "\n",
    "# Customize the plot\n",
    "plt.xlabel(\"Residuals\")\n",
    "plt.ylabel(\"x\")\n",
    "plt.title(\"Analysis of the residuals\")\n",
    "\n",
    "# Show the plot\n",
    "plt.show()"
   ]
  },
  {
   "cell_type": "markdown",
   "metadata": {},
   "source": [
    "## Confidence interval"
   ]
  },
  {
   "cell_type": "markdown",
   "metadata": {},
   "source": [
    "## Previsions"
   ]
  },
  {
   "cell_type": "code",
   "execution_count": 87,
   "metadata": {},
   "outputs": [],
   "source": [
    "# Create a new set of x values:\n",
    "xnew = {'x': [1, 2]}\n",
    "xnew = pd.DataFrame(xnew)"
   ]
  },
  {
   "cell_type": "code",
   "execution_count": 88,
   "metadata": {},
   "outputs": [
    {
     "data": {
      "text/html": [
       "<div>\n",
       "<style scoped>\n",
       "    .dataframe tbody tr th:only-of-type {\n",
       "        vertical-align: middle;\n",
       "    }\n",
       "\n",
       "    .dataframe tbody tr th {\n",
       "        vertical-align: top;\n",
       "    }\n",
       "\n",
       "    .dataframe thead th {\n",
       "        text-align: right;\n",
       "    }\n",
       "</style>\n",
       "<table border=\"1\" class=\"dataframe\">\n",
       "  <thead>\n",
       "    <tr style=\"text-align: right;\">\n",
       "      <th></th>\n",
       "      <th>x</th>\n",
       "    </tr>\n",
       "  </thead>\n",
       "  <tbody>\n",
       "    <tr>\n",
       "      <th>0</th>\n",
       "      <td>1</td>\n",
       "    </tr>\n",
       "    <tr>\n",
       "      <th>1</th>\n",
       "      <td>2</td>\n",
       "    </tr>\n",
       "  </tbody>\n",
       "</table>\n",
       "</div>"
      ],
      "text/plain": [
       "   x\n",
       "0  1\n",
       "1  2"
      ]
     },
     "execution_count": 88,
     "metadata": {},
     "output_type": "execute_result"
    }
   ],
   "source": [
    "xnew"
   ]
  },
  {
   "cell_type": "code",
   "execution_count": 89,
   "metadata": {},
   "outputs": [
    {
     "name": "stdout",
     "output_type": "stream",
     "text": [
      "                            OLS Regression Results                            \n",
      "==============================================================================\n",
      "Dep. Variable:                      y   R-squared:                       0.949\n",
      "Model:                            OLS   Adj. R-squared:                  0.948\n",
      "Method:                 Least Squares   F-statistic:                     1810.\n",
      "Date:                Thu, 22 Feb 2024   Prob (F-statistic):           5.53e-65\n",
      "Time:                        16:23:30   Log-Likelihood:                -59.367\n",
      "No. Observations:                 100   AIC:                             122.7\n",
      "Df Residuals:                      98   BIC:                             127.9\n",
      "Df Model:                           1                                         \n",
      "Covariance Type:            nonrobust                                         \n",
      "==============================================================================\n",
      "                 coef    std err          t      P>|t|      [0.025      0.975]\n",
      "------------------------------------------------------------------------------\n",
      "Intercept     -0.1209      0.082     -1.477      0.143      -0.283       0.042\n",
      "x              3.0051      0.071     42.540      0.000       2.865       3.145\n",
      "==============================================================================\n",
      "Omnibus:                        5.265   Durbin-Watson:                   1.960\n",
      "Prob(Omnibus):                  0.072   Jarque-Bera (JB):                2.566\n",
      "Skew:                          -0.063   Prob(JB):                        0.277\n",
      "Kurtosis:                       2.225   Cond. No.                         3.45\n",
      "==============================================================================\n",
      "\n",
      "Notes:\n",
      "[1] Standard Errors assume that the covariance matrix of the errors is correctly specified.\n"
     ]
    }
   ],
   "source": [
    "print(model1.summary())"
   ]
  },
  {
   "cell_type": "code",
   "execution_count": 90,
   "metadata": {},
   "outputs": [
    {
     "name": "stdout",
     "output_type": "stream",
     "text": [
      "0    2.884176\n",
      "1    5.889269\n",
      "dtype: float64\n"
     ]
    }
   ],
   "source": [
    "# Prédire les nouvelles valeurs\n",
    "prediction = model1.predict(xnew)\n",
    "\n",
    "# Afficher les prédictions\n",
    "print(prediction)"
   ]
  },
  {
   "cell_type": "code",
   "execution_count": 91,
   "metadata": {},
   "outputs": [
    {
     "name": "stdout",
     "output_type": "stream",
     "text": [
      "            df      sum_sq     mean_sq            F        PR(>F)\n",
      "x          1.0  354.437450  354.437450  1809.623067  5.525588e-65\n",
      "Residual  98.0   19.194533    0.195863          NaN           NaN\n"
     ]
    }
   ],
   "source": [
    "import statsmodels.api as sm\n",
    "\n",
    "anova_result = sm.stats.anova_lm(model1, type=2)\n",
    "print(anova_result)"
   ]
  },
  {
   "cell_type": "code",
   "execution_count": 92,
   "metadata": {},
   "outputs": [
    {
     "name": "stdout",
     "output_type": "stream",
     "text": [
      "                            OLS Regression Results                            \n",
      "==============================================================================\n",
      "Dep. Variable:                      y   R-squared:                       0.949\n",
      "Model:                            OLS   Adj. R-squared:                  0.948\n",
      "Method:                 Least Squares   F-statistic:                     1810.\n",
      "Date:                Thu, 22 Feb 2024   Prob (F-statistic):           5.53e-65\n",
      "Time:                        16:28:08   Log-Likelihood:                -59.367\n",
      "No. Observations:                 100   AIC:                             122.7\n",
      "Df Residuals:                      98   BIC:                             127.9\n",
      "Df Model:                           1                                         \n",
      "Covariance Type:            nonrobust                                         \n",
      "==============================================================================\n",
      "                 coef    std err          t      P>|t|      [0.025      0.975]\n",
      "------------------------------------------------------------------------------\n",
      "Intercept     -0.1209      0.082     -1.477      0.143      -0.283       0.042\n",
      "x              3.0051      0.071     42.540      0.000       2.865       3.145\n",
      "==============================================================================\n",
      "Omnibus:                        5.265   Durbin-Watson:                   1.960\n",
      "Prob(Omnibus):                  0.072   Jarque-Bera (JB):                2.566\n",
      "Skew:                          -0.063   Prob(JB):                        0.277\n",
      "Kurtosis:                       2.225   Cond. No.                         3.45\n",
      "==============================================================================\n",
      "\n",
      "Notes:\n",
      "[1] Standard Errors assume that the covariance matrix of the errors is correctly specified.\n"
     ]
    }
   ],
   "source": [
    "print(model1.summary())"
   ]
  },
  {
   "cell_type": "code",
   "execution_count": 93,
   "metadata": {},
   "outputs": [],
   "source": [
    "\n",
    "# Generate predictions with confidence intervals\n",
    "ICpred = pd.DataFrame(model1.get_prediction(xnew).summary_frame(alpha=0.05))\n"
   ]
  },
  {
   "cell_type": "code",
   "execution_count": 94,
   "metadata": {},
   "outputs": [
    {
     "data": {
      "text/html": [
       "<div>\n",
       "<style scoped>\n",
       "    .dataframe tbody tr th:only-of-type {\n",
       "        vertical-align: middle;\n",
       "    }\n",
       "\n",
       "    .dataframe tbody tr th {\n",
       "        vertical-align: top;\n",
       "    }\n",
       "\n",
       "    .dataframe thead th {\n",
       "        text-align: right;\n",
       "    }\n",
       "</style>\n",
       "<table border=\"1\" class=\"dataframe\">\n",
       "  <thead>\n",
       "    <tr style=\"text-align: right;\">\n",
       "      <th></th>\n",
       "      <th>mean</th>\n",
       "      <th>mean_se</th>\n",
       "      <th>mean_ci_lower</th>\n",
       "      <th>mean_ci_upper</th>\n",
       "      <th>obs_ci_lower</th>\n",
       "      <th>obs_ci_upper</th>\n",
       "    </tr>\n",
       "  </thead>\n",
       "  <tbody>\n",
       "    <tr>\n",
       "      <th>0</th>\n",
       "      <td>2.884176</td>\n",
       "      <td>0.044291</td>\n",
       "      <td>2.796281</td>\n",
       "      <td>2.972071</td>\n",
       "      <td>2.001536</td>\n",
       "      <td>3.766816</td>\n",
       "    </tr>\n",
       "    <tr>\n",
       "      <th>1</th>\n",
       "      <td>5.889269</td>\n",
       "      <td>0.084855</td>\n",
       "      <td>5.720878</td>\n",
       "      <td>6.057660</td>\n",
       "      <td>4.995019</td>\n",
       "      <td>6.783520</td>\n",
       "    </tr>\n",
       "  </tbody>\n",
       "</table>\n",
       "</div>"
      ],
      "text/plain": [
       "       mean   mean_se  mean_ci_lower  mean_ci_upper  obs_ci_lower  \\\n",
       "0  2.884176  0.044291       2.796281       2.972071      2.001536   \n",
       "1  5.889269  0.084855       5.720878       6.057660      4.995019   \n",
       "\n",
       "   obs_ci_upper  \n",
       "0      3.766816  \n",
       "1      6.783520  "
      ]
     },
     "execution_count": 94,
     "metadata": {},
     "output_type": "execute_result"
    }
   ],
   "source": [
    "ICpred.head()"
   ]
  },
  {
   "cell_type": "code",
   "execution_count": 95,
   "metadata": {},
   "outputs": [
    {
     "name": "stdout",
     "output_type": "stream",
     "text": [
      "       mean   mean_se  mean_ci_lower  mean_ci_upper  obs_ci_lower  obs_ci_upper  x\n",
      "0  2.884176  0.044291       2.796281       2.972071      2.001536      3.766816  1\n",
      "1  5.889269  0.084855       5.720878       6.057660      4.995019      6.783520  2\n"
     ]
    }
   ],
   "source": [
    "\n",
    "# Combine predictions and new data\n",
    "res_pred = pd.concat([ICpred, xnew], axis=1)\n",
    "\n",
    "print(res_pred.head().to_string())"
   ]
  }
 ],
 "metadata": {
  "kernelspec": {
   "display_name": "base",
   "language": "python",
   "name": "python3"
  },
  "language_info": {
   "codemirror_mode": {
    "name": "ipython",
    "version": 3
   },
   "file_extension": ".py",
   "mimetype": "text/x-python",
   "name": "python",
   "nbconvert_exporter": "python",
   "pygments_lexer": "ipython3",
   "version": "3.11.5"
  }
 },
 "nbformat": 4,
 "nbformat_minor": 2
}
