{
 "cells": [
  {
   "cell_type": "markdown",
   "id": "b9e17c34",
   "metadata": {},
   "source": [
    "# Bayesian framework"
   ]
  },
  {
   "cell_type": "markdown",
   "id": "6fa54871",
   "metadata": {},
   "source": [
    "Priors, posteriors"
   ]
  },
  {
   "cell_type": "markdown",
   "id": "b4b157d6",
   "metadata": {},
   "source": []
  }
 ],
 "metadata": {
  "kernelspec": {
   "display_name": "base",
   "language": "python",
   "name": "python3"
  },
  "language_info": {
   "codemirror_mode": {
    "name": "ipython",
    "version": 3
   },
   "file_extension": ".py",
   "mimetype": "text/x-python",
   "name": "python",
   "nbconvert_exporter": "python",
   "pygments_lexer": "ipython3",
   "version": "3.11.10"
  }
 },
 "nbformat": 4,
 "nbformat_minor": 5
}
